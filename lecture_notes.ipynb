{
 "cells": [
  {
   "cell_type": "markdown",
   "id": "354976f4",
   "metadata": {},
   "source": [
    "## I am a strong, independent feature: A Naive Bayes Code Walkthrough\n",
    "###### ~ by Vicente, F. 🐯 and Vista, S. 🦊"
   ]
  },
  {
   "cell_type": "markdown",
   "id": "c555066b",
   "metadata": {},
   "source": [
    "This notebook is meant to accompany the \"**I am a strong, independent feature: A Comprehensive Guide to Naive Bayes**\" module, which contains a detailed write-up on the intricacies of the Naive Bayes classifiers. Furthermore, it is highly recommended that you have a background in introductory machine learning concepts for an easier understanding.\n",
    "\n",
    "Before we begin, some libraries would first be imported for later use."
   ]
  },
  {
   "cell_type": "markdown",
   "id": "691b85e4",
   "metadata": {},
   "source": [
    "#### Import Libraries\n",
    "- `numpy` contains a large collection of mathematical functions\n",
    "- `pandas` contains functions that are designed for data manipulation and data analysis"
   ]
  },
  {
   "cell_type": "code",
   "execution_count": 1,
   "id": "d1231b4f",
   "metadata": {},
   "outputs": [],
   "source": [
    "import numpy as np\n",
    "import pandas as pd"
   ]
  },
  {
   "cell_type": "markdown",
   "id": "33d77d55",
   "metadata": {},
   "source": [
    "- `matplotlib.pyplot` contains functions to create interactive plots"
   ]
  },
  {
   "cell_type": "code",
   "execution_count": 2,
   "id": "8002a430",
   "metadata": {},
   "outputs": [],
   "source": [
    "import matplotlib.pyplot as plt\n",
    "%matplotlib inline\n",
    "plt.style.use('ggplot')"
   ]
  },
  {
   "cell_type": "markdown",
   "id": "0c2fa130",
   "metadata": {},
   "source": [
    "- `train_test_split` divides a dataset into two subsets"
   ]
  },
  {
   "cell_type": "code",
   "execution_count": 3,
   "id": "ada60aeb",
   "metadata": {},
   "outputs": [],
   "source": [
    "from sklearn.model_selection import train_test_split"
   ]
  },
  {
   "cell_type": "markdown",
   "id": "f42a827b",
   "metadata": {},
   "source": [
    "- `accuracy_score` computes the accuracy score of a model\n",
    "- `confusion_matrix` computes the confusion matrix of a model\n",
    "- `ConfusionMatrixDisplay` visualizes a confusion matrix"
   ]
  },
  {
   "cell_type": "code",
   "execution_count": 4,
   "id": "99a209cb",
   "metadata": {},
   "outputs": [],
   "source": [
    "from sklearn.metrics import accuracy_score, confusion_matrix, ConfusionMatrixDisplay"
   ]
  },
  {
   "cell_type": "markdown",
   "id": "74ae8cb1",
   "metadata": {},
   "source": [
    "- `GridSearchCV` is a cross-validation model used for comprehensive hyperparameter tuning"
   ]
  },
  {
   "cell_type": "code",
   "execution_count": 5,
   "id": "ee0b5f60",
   "metadata": {},
   "outputs": [],
   "source": [
    "from sklearn.model_selection import GridSearchCV"
   ]
  },
  {
   "cell_type": "markdown",
   "id": "c7025d63",
   "metadata": {},
   "source": [
    "As we have imported the necessary libraries, we will now train all three Naive Bayes classifiers and gauge their performance on the given datasets. \n",
    "\n",
    "The pipeline for training the models will include these steps: \n",
    "1. **Loading the dataset**, which would be chosen in consideration of each model's capabilities;\n",
    "2. **Splitting the data into train and test datasets**, which is done so that a separate dataset can be used to validate the model;\n",
    "3. **Training the model using the train set**, which would allow the model to learn the patterns in the data;\n",
    "4. **Getting the train and test predictions from the model**, which can be used in gauging the performance of the model;\n",
    "5. **Tuning the model's hyperparameters**, which can further improve the model's performance; and\n",
    "6. **Getting the train and test predictions from the tuned model**, which can show if the model improved."
   ]
  },
  {
   "cell_type": "markdown",
   "id": "e3e9633f",
   "metadata": {},
   "source": [
    "## Gaussian Naive Bayes\n",
    "As previously mentioned in the module, Gaussian Naive Bayes deals with **continuous values**, which it assumes to be normally distributed, for its features. With this in mind, a dataset with continuous values for features will be used to demonstrate the performance of this classifier."
   ]
  },
  {
   "cell_type": "markdown",
   "id": "fa264e8d",
   "metadata": {},
   "source": [
    "#### Loading the Dataset"
   ]
  },
  {
   "cell_type": "code",
   "execution_count": 6,
   "id": "d1197224",
   "metadata": {},
   "outputs": [],
   "source": [
    "from sklearn.datasets import load_iris"
   ]
  },
  {
   "cell_type": "markdown",
   "id": "cb4e2a71",
   "metadata": {},
   "source": [
    "As seen below, this dataset contains 150 instances with the following features:\n",
    "- sepal length (cm)\t\n",
    "- sepal width (cm)\t\n",
    "- petal length (cm)\t\n",
    "- petal width (cm)\n",
    "\n",
    "Given these features, the task is to determine if the species of a flower is setosa, versicolor, or viriginica, which is represented as `0`, `1`, and `2` respectively."
   ]
  },
  {
   "cell_type": "code",
   "execution_count": 7,
   "id": "df9d28d1",
   "metadata": {
    "scrolled": true
   },
   "outputs": [
    {
     "data": {
      "text/html": [
       "<div>\n",
       "<style scoped>\n",
       "    .dataframe tbody tr th:only-of-type {\n",
       "        vertical-align: middle;\n",
       "    }\n",
       "\n",
       "    .dataframe tbody tr th {\n",
       "        vertical-align: top;\n",
       "    }\n",
       "\n",
       "    .dataframe thead th {\n",
       "        text-align: right;\n",
       "    }\n",
       "</style>\n",
       "<table border=\"1\" class=\"dataframe\">\n",
       "  <thead>\n",
       "    <tr style=\"text-align: right;\">\n",
       "      <th></th>\n",
       "      <th>sepal length (cm)</th>\n",
       "      <th>sepal width (cm)</th>\n",
       "      <th>petal length (cm)</th>\n",
       "      <th>petal width (cm)</th>\n",
       "      <th>species</th>\n",
       "    </tr>\n",
       "  </thead>\n",
       "  <tbody>\n",
       "    <tr>\n",
       "      <th>0</th>\n",
       "      <td>5.1</td>\n",
       "      <td>3.5</td>\n",
       "      <td>1.4</td>\n",
       "      <td>0.2</td>\n",
       "      <td>0</td>\n",
       "    </tr>\n",
       "    <tr>\n",
       "      <th>1</th>\n",
       "      <td>4.9</td>\n",
       "      <td>3.0</td>\n",
       "      <td>1.4</td>\n",
       "      <td>0.2</td>\n",
       "      <td>0</td>\n",
       "    </tr>\n",
       "    <tr>\n",
       "      <th>2</th>\n",
       "      <td>4.7</td>\n",
       "      <td>3.2</td>\n",
       "      <td>1.3</td>\n",
       "      <td>0.2</td>\n",
       "      <td>0</td>\n",
       "    </tr>\n",
       "    <tr>\n",
       "      <th>3</th>\n",
       "      <td>4.6</td>\n",
       "      <td>3.1</td>\n",
       "      <td>1.5</td>\n",
       "      <td>0.2</td>\n",
       "      <td>0</td>\n",
       "    </tr>\n",
       "    <tr>\n",
       "      <th>4</th>\n",
       "      <td>5.0</td>\n",
       "      <td>3.6</td>\n",
       "      <td>1.4</td>\n",
       "      <td>0.2</td>\n",
       "      <td>0</td>\n",
       "    </tr>\n",
       "    <tr>\n",
       "      <th>...</th>\n",
       "      <td>...</td>\n",
       "      <td>...</td>\n",
       "      <td>...</td>\n",
       "      <td>...</td>\n",
       "      <td>...</td>\n",
       "    </tr>\n",
       "    <tr>\n",
       "      <th>145</th>\n",
       "      <td>6.7</td>\n",
       "      <td>3.0</td>\n",
       "      <td>5.2</td>\n",
       "      <td>2.3</td>\n",
       "      <td>2</td>\n",
       "    </tr>\n",
       "    <tr>\n",
       "      <th>146</th>\n",
       "      <td>6.3</td>\n",
       "      <td>2.5</td>\n",
       "      <td>5.0</td>\n",
       "      <td>1.9</td>\n",
       "      <td>2</td>\n",
       "    </tr>\n",
       "    <tr>\n",
       "      <th>147</th>\n",
       "      <td>6.5</td>\n",
       "      <td>3.0</td>\n",
       "      <td>5.2</td>\n",
       "      <td>2.0</td>\n",
       "      <td>2</td>\n",
       "    </tr>\n",
       "    <tr>\n",
       "      <th>148</th>\n",
       "      <td>6.2</td>\n",
       "      <td>3.4</td>\n",
       "      <td>5.4</td>\n",
       "      <td>2.3</td>\n",
       "      <td>2</td>\n",
       "    </tr>\n",
       "    <tr>\n",
       "      <th>149</th>\n",
       "      <td>5.9</td>\n",
       "      <td>3.0</td>\n",
       "      <td>5.1</td>\n",
       "      <td>1.8</td>\n",
       "      <td>2</td>\n",
       "    </tr>\n",
       "  </tbody>\n",
       "</table>\n",
       "<p>150 rows × 5 columns</p>\n",
       "</div>"
      ],
      "text/plain": [
       "     sepal length (cm)  sepal width (cm)  petal length (cm)  petal width (cm)  \\\n",
       "0                  5.1               3.5                1.4               0.2   \n",
       "1                  4.9               3.0                1.4               0.2   \n",
       "2                  4.7               3.2                1.3               0.2   \n",
       "3                  4.6               3.1                1.5               0.2   \n",
       "4                  5.0               3.6                1.4               0.2   \n",
       "..                 ...               ...                ...               ...   \n",
       "145                6.7               3.0                5.2               2.3   \n",
       "146                6.3               2.5                5.0               1.9   \n",
       "147                6.5               3.0                5.2               2.0   \n",
       "148                6.2               3.4                5.4               2.3   \n",
       "149                5.9               3.0                5.1               1.8   \n",
       "\n",
       "     species  \n",
       "0          0  \n",
       "1          0  \n",
       "2          0  \n",
       "3          0  \n",
       "4          0  \n",
       "..       ...  \n",
       "145        2  \n",
       "146        2  \n",
       "147        2  \n",
       "148        2  \n",
       "149        2  \n",
       "\n",
       "[150 rows x 5 columns]"
      ]
     },
     "execution_count": 7,
     "metadata": {},
     "output_type": "execute_result"
    }
   ],
   "source": [
    "data_iris = load_iris()\n",
    "iris = pd.DataFrame(data_iris.data,columns=data_iris.feature_names)\n",
    "iris['species'] = pd.Series(data_iris.target)\n",
    "iris"
   ]
  },
  {
   "cell_type": "markdown",
   "id": "7fe7e9b6",
   "metadata": {},
   "source": [
    "The `X` or the features will now be separated from our target `y` which is the label. "
   ]
  },
  {
   "cell_type": "code",
   "execution_count": 8,
   "id": "0c4e47f1",
   "metadata": {},
   "outputs": [],
   "source": [
    "X_iris = iris.values[:,:-1]\n",
    "y_iris = iris.values[:,-1].astype(int)"
   ]
  },
  {
   "cell_type": "markdown",
   "id": "2bbfc936",
   "metadata": {},
   "source": [
    "Lastly, the training set is separated from the test set."
   ]
  },
  {
   "cell_type": "code",
   "execution_count": 9,
   "id": "e4c52cea",
   "metadata": {},
   "outputs": [],
   "source": [
    "X_train_iris, X_test_iris, y_train_iris, y_test_iris = train_test_split(X_iris, y_iris, stratify=y_iris, test_size=0.3, random_state=8)"
   ]
  },
  {
   "cell_type": "markdown",
   "id": "9117275c",
   "metadata": {},
   "source": [
    "#### Training the Model\n",
    "We would be using sklearn's `GaussianNB` model, which would now be imported into the notebook."
   ]
  },
  {
   "cell_type": "code",
   "execution_count": 10,
   "id": "f6357124",
   "metadata": {},
   "outputs": [],
   "source": [
    "from sklearn.naive_bayes import GaussianNB"
   ]
  },
  {
   "cell_type": "markdown",
   "id": "ef0c95e8",
   "metadata": {},
   "source": [
    "First, we will initialize the GaussianNB model with default parameters."
   ]
  },
  {
   "cell_type": "code",
   "execution_count": 11,
   "id": "a6bf9ad2",
   "metadata": {},
   "outputs": [],
   "source": [
    "gnb = GaussianNB()"
   ]
  },
  {
   "cell_type": "markdown",
   "id": "9d7bb65f",
   "metadata": {},
   "source": [
    "This model is fitted with the `X_train_iris` and `y_train_iris` as follows:"
   ]
  },
  {
   "cell_type": "code",
   "execution_count": 12,
   "id": "2bebae99",
   "metadata": {
    "scrolled": true
   },
   "outputs": [
    {
     "name": "stdout",
     "output_type": "stream",
     "text": [
      "Wall time: 998 µs\n"
     ]
    },
    {
     "data": {
      "text/plain": [
       "GaussianNB()"
      ]
     },
     "execution_count": 12,
     "metadata": {},
     "output_type": "execute_result"
    }
   ],
   "source": [
    "%%time\n",
    "gnb.fit(X_train_iris, y_train_iris)"
   ]
  },
  {
   "cell_type": "markdown",
   "id": "c5b9b432",
   "metadata": {},
   "source": [
    "#### Checking the Performance\n",
    "As the model is fitted with the training set, predictions can now be made. First, the train predictions are retrieved."
   ]
  },
  {
   "cell_type": "code",
   "execution_count": 13,
   "id": "8865c213",
   "metadata": {},
   "outputs": [],
   "source": [
    "train_predictions_iris = gnb.predict(X_train_iris)"
   ]
  },
  {
   "cell_type": "markdown",
   "id": "7d951387",
   "metadata": {},
   "source": [
    "With these predictions, the training accuracy of the model can be computed."
   ]
  },
  {
   "cell_type": "code",
   "execution_count": 14,
   "id": "04bb89c4",
   "metadata": {},
   "outputs": [
    {
     "name": "stdout",
     "output_type": "stream",
     "text": [
      "Train Accuracy 0.9904761904761905\n"
     ]
    }
   ],
   "source": [
    "print('Train Accuracy', accuracy_score(y_train_iris, train_predictions_iris))"
   ]
  },
  {
   "cell_type": "markdown",
   "id": "625e209f",
   "metadata": {},
   "source": [
    "To visualize the train prediction results, a confusion matrix is generated."
   ]
  },
  {
   "cell_type": "code",
   "execution_count": 15,
   "id": "9bab685c",
   "metadata": {
    "scrolled": true
   },
   "outputs": [
    {
     "data": {
      "image/png": "[encoded data removed]",
      "text/plain": [
       "<Figure size 432x288 with 2 Axes>"
      ]
     },
     "metadata": {},
     "output_type": "display_data"
    }
   ],
   "source": [
    "ConfusionMatrixDisplay(confusion_matrix(y_train_iris, train_predictions_iris), display_labels=gnb.classes_).plot()\n",
    "plt.show()"
   ]
  },
  {
   "cell_type": "markdown",
   "id": "8ae563c3",
   "metadata": {},
   "source": [
    "Now, let us get the model's test predictions."
   ]
  },
  {
   "cell_type": "code",
   "execution_count": 16,
   "id": "63c87a86",
   "metadata": {},
   "outputs": [],
   "source": [
    "test_predictions_iris = gnb.predict(X_test_iris)"
   ]
  },
  {
   "cell_type": "markdown",
   "id": "0c756320",
   "metadata": {},
   "source": [
    "Then, we can check the test accuracy score of the model."
   ]
  },
  {
   "cell_type": "code",
   "execution_count": 17,
   "id": "b0ab62ee",
   "metadata": {},
   "outputs": [
    {
     "name": "stdout",
     "output_type": "stream",
     "text": [
      "Test Accuracy 0.8666666666666667\n"
     ]
    }
   ],
   "source": [
    "print('Test Accuracy', accuracy_score(y_test_iris, test_predictions_iris))"
   ]
  },
  {
   "cell_type": "markdown",
   "id": "486dad1c",
   "metadata": {},
   "source": [
    "And lastly, the test predictions are visualized with a confusion matrix."
   ]
  },
  {
   "cell_type": "code",
   "execution_count": 18,
   "id": "de334d4b",
   "metadata": {
    "scrolled": true
   },
   "outputs": [
    {
     "data": {
      "image/png": "[encoded data removed]",
      "text/plain": [
       "<Figure size 432x288 with 2 Axes>"
      ]
     },
     "metadata": {},
     "output_type": "display_data"
    }
   ],
   "source": [
    "ConfusionMatrixDisplay(confusion_matrix(y_test_iris, test_predictions_iris), display_labels=gnb.classes_).plot()\n",
    "plt.show()"
   ]
  },
  {
   "cell_type": "markdown",
   "id": "dd9010b7",
   "metadata": {},
   "source": [
    "##### Figure 1. Confusion Matrix of the Test data of the Gaussian Naive Bayes\n",
    "From Figure 1, we can see that the model manages to correctly predict all of those that should be labeled as 0. However, some instances for the labels 1 and 2 were mislabeled, as 2 instances should be labeled as 1, but was instead labeled as 2, and 4 instances should be labeled as 2, but was labeled as 1.  "
   ]
  },
  {
   "cell_type": "markdown",
   "id": "6fe75197",
   "metadata": {},
   "source": [
    "#### Tuning the Hyperparameters\n",
    "To further improve this model, the hyperparameters can be tuned. For `GaussianNB`, only the `var_smoothing` hyperparameter can be tuned, which smooths the curve. A higher value would account for a higher number of samples that are further away from the distribution mean."
   ]
  },
  {
   "cell_type": "code",
   "execution_count": 19,
   "id": "54e47d8b",
   "metadata": {},
   "outputs": [],
   "source": [
    "hyperparameters = [{\n",
    "    'var_smoothing' : [1e-9, 1e-6, 1e-3, 1]\n",
    "}]"
   ]
  },
  {
   "cell_type": "markdown",
   "id": "fb741bae",
   "metadata": {},
   "source": [
    "A `GridSearchCV` will be used to test which value would the model perform the best on. This will automatically create a five-fold validation set on which to test the models on."
   ]
  },
  {
   "cell_type": "code",
   "execution_count": 20,
   "id": "e647abba",
   "metadata": {},
   "outputs": [],
   "source": [
    "gnb_tuned = GridSearchCV(GaussianNB(), hyperparameters)"
   ]
  },
  {
   "cell_type": "markdown",
   "id": "d16a2df7",
   "metadata": {},
   "source": [
    "This cross-validation model will then be trained."
   ]
  },
  {
   "cell_type": "code",
   "execution_count": 21,
   "id": "9b3f83f7",
   "metadata": {
    "scrolled": true
   },
   "outputs": [
    {
     "name": "stdout",
     "output_type": "stream",
     "text": [
      "Best parameters: {'var_smoothing': 1e-09}\n",
      "Validation Accuracy 0.980952380952381\n",
      "Wall time: 42.9 ms\n"
     ]
    }
   ],
   "source": [
    "%%time\n",
    "gnb_tuned.fit(X_train_iris, y_train_iris)\n",
    "print('Best parameters:', gnb_tuned.best_params_)\n",
    "print('Validation Accuracy', gnb_tuned.best_score_)"
   ]
  },
  {
   "cell_type": "markdown",
   "id": "14d04d33",
   "metadata": {},
   "source": [
    "With this, we can gauge the performance of the tuned model."
   ]
  },
  {
   "cell_type": "code",
   "execution_count": 22,
   "id": "d6a89247",
   "metadata": {
    "scrolled": true
   },
   "outputs": [
    {
     "name": "stdout",
     "output_type": "stream",
     "text": [
      "Train Accuracy 0.9904761904761905\n",
      "Test Accuracy 0.8666666666666667\n"
     ]
    },
    {
     "data": {
      "image/png": "[encoded data removed]",
      "text/plain": [
       "<Figure size 432x288 with 2 Axes>"
      ]
     },
     "metadata": {},
     "output_type": "display_data"
    }
   ],
   "source": [
    "train_predictions_iris = gnb_tuned.predict(X_train_iris)\n",
    "print('Train Accuracy', accuracy_score(y_train_iris, train_predictions_iris))\n",
    "test_predictions_iris = gnb_tuned.predict(X_test_iris)\n",
    "print('Test Accuracy', accuracy_score(y_test_iris, test_predictions_iris))\n",
    "ConfusionMatrixDisplay(confusion_matrix(y_test_iris, test_predictions_iris), display_labels=gnb_tuned.classes_).plot()\n",
    "plt.show()"
   ]
  },
  {
   "cell_type": "markdown",
   "id": "906e7a72",
   "metadata": {},
   "source": [
    "##### Figure 2. Confusion Matrix of the Test data of the Tuned Gaussian Naive Bayes\n",
    "As we can see in Figure 2, the resulting model resulted in the same confusion matrix because the default parameter values were chosen during the hyperparameter tuning."
   ]
  },
  {
   "cell_type": "markdown",
   "id": "561bc7ab",
   "metadata": {},
   "source": [
    "## Multinomial Naive Bayes\n",
    "While Gaussian Naive Bayes deal with continuous data, Multinomial Naive Bayes handles discrete data—this does not necessarily mean whole numbers, but this means numbers that represent occurrences and proportions. The digits dataset will be used to demonstrate the capabilities of Multinomial Naive Bayes."
   ]
  },
  {
   "cell_type": "markdown",
   "id": "dbb08ab9",
   "metadata": {},
   "source": [
    "#### Loading the Dataset"
   ]
  },
  {
   "cell_type": "code",
   "execution_count": 23,
   "id": "feab93a7",
   "metadata": {},
   "outputs": [],
   "source": [
    "from sklearn.datasets import load_digits"
   ]
  },
  {
   "cell_type": "markdown",
   "id": "3219f1f8",
   "metadata": {},
   "source": [
    "As seen below, this dataset contains 1797 instances with each feature corresponding to a pixel for an 8x8 image (e.g., `pixel_0_0`). \n",
    "\n",
    "With these features, the task is to determine which number (i.e., from 0-9) is represented in an image."
   ]
  },
  {
   "cell_type": "code",
   "execution_count": 24,
   "id": "b8709a7a",
   "metadata": {
    "scrolled": true
   },
   "outputs": [
    {
     "data": {
      "text/html": [
       "<div>\n",
       "<style scoped>\n",
       "    .dataframe tbody tr th:only-of-type {\n",
       "        vertical-align: middle;\n",
       "    }\n",
       "\n",
       "    .dataframe tbody tr th {\n",
       "        vertical-align: top;\n",
       "    }\n",
       "\n",
       "    .dataframe thead th {\n",
       "        text-align: right;\n",
       "    }\n",
       "</style>\n",
       "<table border=\"1\" class=\"dataframe\">\n",
       "  <thead>\n",
       "    <tr style=\"text-align: right;\">\n",
       "      <th></th>\n",
       "      <th>pixel_0_0</th>\n",
       "      <th>pixel_0_1</th>\n",
       "      <th>pixel_0_2</th>\n",
       "      <th>pixel_0_3</th>\n",
       "      <th>pixel_0_4</th>\n",
       "      <th>pixel_0_5</th>\n",
       "      <th>pixel_0_6</th>\n",
       "      <th>pixel_0_7</th>\n",
       "      <th>pixel_1_0</th>\n",
       "      <th>pixel_1_1</th>\n",
       "      <th>...</th>\n",
       "      <th>pixel_6_7</th>\n",
       "      <th>pixel_7_0</th>\n",
       "      <th>pixel_7_1</th>\n",
       "      <th>pixel_7_2</th>\n",
       "      <th>pixel_7_3</th>\n",
       "      <th>pixel_7_4</th>\n",
       "      <th>pixel_7_5</th>\n",
       "      <th>pixel_7_6</th>\n",
       "      <th>pixel_7_7</th>\n",
       "      <th>target</th>\n",
       "    </tr>\n",
       "  </thead>\n",
       "  <tbody>\n",
       "    <tr>\n",
       "      <th>0</th>\n",
       "      <td>0.0</td>\n",
       "      <td>0.0</td>\n",
       "      <td>5.0</td>\n",
       "      <td>13.0</td>\n",
       "      <td>9.0</td>\n",
       "      <td>1.0</td>\n",
       "      <td>0.0</td>\n",
       "      <td>0.0</td>\n",
       "      <td>0.0</td>\n",
       "      <td>0.0</td>\n",
       "      <td>...</td>\n",
       "      <td>0.0</td>\n",
       "      <td>0.0</td>\n",
       "      <td>0.0</td>\n",
       "      <td>6.0</td>\n",
       "      <td>13.0</td>\n",
       "      <td>10.0</td>\n",
       "      <td>0.0</td>\n",
       "      <td>0.0</td>\n",
       "      <td>0.0</td>\n",
       "      <td>0</td>\n",
       "    </tr>\n",
       "    <tr>\n",
       "      <th>1</th>\n",
       "      <td>0.0</td>\n",
       "      <td>0.0</td>\n",
       "      <td>0.0</td>\n",
       "      <td>12.0</td>\n",
       "      <td>13.0</td>\n",
       "      <td>5.0</td>\n",
       "      <td>0.0</td>\n",
       "      <td>0.0</td>\n",
       "      <td>0.0</td>\n",
       "      <td>0.0</td>\n",
       "      <td>...</td>\n",
       "      <td>0.0</td>\n",
       "      <td>0.0</td>\n",
       "      <td>0.0</td>\n",
       "      <td>0.0</td>\n",
       "      <td>11.0</td>\n",
       "      <td>16.0</td>\n",
       "      <td>10.0</td>\n",
       "      <td>0.0</td>\n",
       "      <td>0.0</td>\n",
       "      <td>1</td>\n",
       "    </tr>\n",
       "    <tr>\n",
       "      <th>2</th>\n",
       "      <td>0.0</td>\n",
       "      <td>0.0</td>\n",
       "      <td>0.0</td>\n",
       "      <td>4.0</td>\n",
       "      <td>15.0</td>\n",
       "      <td>12.0</td>\n",
       "      <td>0.0</td>\n",
       "      <td>0.0</td>\n",
       "      <td>0.0</td>\n",
       "      <td>0.0</td>\n",
       "      <td>...</td>\n",
       "      <td>0.0</td>\n",
       "      <td>0.0</td>\n",
       "      <td>0.0</td>\n",
       "      <td>0.0</td>\n",
       "      <td>3.0</td>\n",
       "      <td>11.0</td>\n",
       "      <td>16.0</td>\n",
       "      <td>9.0</td>\n",
       "      <td>0.0</td>\n",
       "      <td>2</td>\n",
       "    </tr>\n",
       "    <tr>\n",
       "      <th>3</th>\n",
       "      <td>0.0</td>\n",
       "      <td>0.0</td>\n",
       "      <td>7.0</td>\n",
       "      <td>15.0</td>\n",
       "      <td>13.0</td>\n",
       "      <td>1.0</td>\n",
       "      <td>0.0</td>\n",
       "      <td>0.0</td>\n",
       "      <td>0.0</td>\n",
       "      <td>8.0</td>\n",
       "      <td>...</td>\n",
       "      <td>0.0</td>\n",
       "      <td>0.0</td>\n",
       "      <td>0.0</td>\n",
       "      <td>7.0</td>\n",
       "      <td>13.0</td>\n",
       "      <td>13.0</td>\n",
       "      <td>9.0</td>\n",
       "      <td>0.0</td>\n",
       "      <td>0.0</td>\n",
       "      <td>3</td>\n",
       "    </tr>\n",
       "    <tr>\n",
       "      <th>4</th>\n",
       "      <td>0.0</td>\n",
       "      <td>0.0</td>\n",
       "      <td>0.0</td>\n",
       "      <td>1.0</td>\n",
       "      <td>11.0</td>\n",
       "      <td>0.0</td>\n",
       "      <td>0.0</td>\n",
       "      <td>0.0</td>\n",
       "      <td>0.0</td>\n",
       "      <td>0.0</td>\n",
       "      <td>...</td>\n",
       "      <td>0.0</td>\n",
       "      <td>0.0</td>\n",
       "      <td>0.0</td>\n",
       "      <td>0.0</td>\n",
       "      <td>2.0</td>\n",
       "      <td>16.0</td>\n",
       "      <td>4.0</td>\n",
       "      <td>0.0</td>\n",
       "      <td>0.0</td>\n",
       "      <td>4</td>\n",
       "    </tr>\n",
       "    <tr>\n",
       "      <th>...</th>\n",
       "      <td>...</td>\n",
       "      <td>...</td>\n",
       "      <td>...</td>\n",
       "      <td>...</td>\n",
       "      <td>...</td>\n",
       "      <td>...</td>\n",
       "      <td>...</td>\n",
       "      <td>...</td>\n",
       "      <td>...</td>\n",
       "      <td>...</td>\n",
       "      <td>...</td>\n",
       "      <td>...</td>\n",
       "      <td>...</td>\n",
       "      <td>...</td>\n",
       "      <td>...</td>\n",
       "      <td>...</td>\n",
       "      <td>...</td>\n",
       "      <td>...</td>\n",
       "      <td>...</td>\n",
       "      <td>...</td>\n",
       "      <td>...</td>\n",
       "    </tr>\n",
       "    <tr>\n",
       "      <th>1792</th>\n",
       "      <td>0.0</td>\n",
       "      <td>0.0</td>\n",
       "      <td>4.0</td>\n",
       "      <td>10.0</td>\n",
       "      <td>13.0</td>\n",
       "      <td>6.0</td>\n",
       "      <td>0.0</td>\n",
       "      <td>0.0</td>\n",
       "      <td>0.0</td>\n",
       "      <td>1.0</td>\n",
       "      <td>...</td>\n",
       "      <td>0.0</td>\n",
       "      <td>0.0</td>\n",
       "      <td>0.0</td>\n",
       "      <td>2.0</td>\n",
       "      <td>14.0</td>\n",
       "      <td>15.0</td>\n",
       "      <td>9.0</td>\n",
       "      <td>0.0</td>\n",
       "      <td>0.0</td>\n",
       "      <td>9</td>\n",
       "    </tr>\n",
       "    <tr>\n",
       "      <th>1793</th>\n",
       "      <td>0.0</td>\n",
       "      <td>0.0</td>\n",
       "      <td>6.0</td>\n",
       "      <td>16.0</td>\n",
       "      <td>13.0</td>\n",
       "      <td>11.0</td>\n",
       "      <td>1.0</td>\n",
       "      <td>0.0</td>\n",
       "      <td>0.0</td>\n",
       "      <td>0.0</td>\n",
       "      <td>...</td>\n",
       "      <td>0.0</td>\n",
       "      <td>0.0</td>\n",
       "      <td>0.0</td>\n",
       "      <td>6.0</td>\n",
       "      <td>16.0</td>\n",
       "      <td>14.0</td>\n",
       "      <td>6.0</td>\n",
       "      <td>0.0</td>\n",
       "      <td>0.0</td>\n",
       "      <td>0</td>\n",
       "    </tr>\n",
       "    <tr>\n",
       "      <th>1794</th>\n",
       "      <td>0.0</td>\n",
       "      <td>0.0</td>\n",
       "      <td>1.0</td>\n",
       "      <td>11.0</td>\n",
       "      <td>15.0</td>\n",
       "      <td>1.0</td>\n",
       "      <td>0.0</td>\n",
       "      <td>0.0</td>\n",
       "      <td>0.0</td>\n",
       "      <td>0.0</td>\n",
       "      <td>...</td>\n",
       "      <td>0.0</td>\n",
       "      <td>0.0</td>\n",
       "      <td>0.0</td>\n",
       "      <td>2.0</td>\n",
       "      <td>9.0</td>\n",
       "      <td>13.0</td>\n",
       "      <td>6.0</td>\n",
       "      <td>0.0</td>\n",
       "      <td>0.0</td>\n",
       "      <td>8</td>\n",
       "    </tr>\n",
       "    <tr>\n",
       "      <th>1795</th>\n",
       "      <td>0.0</td>\n",
       "      <td>0.0</td>\n",
       "      <td>2.0</td>\n",
       "      <td>10.0</td>\n",
       "      <td>7.0</td>\n",
       "      <td>0.0</td>\n",
       "      <td>0.0</td>\n",
       "      <td>0.0</td>\n",
       "      <td>0.0</td>\n",
       "      <td>0.0</td>\n",
       "      <td>...</td>\n",
       "      <td>0.0</td>\n",
       "      <td>0.0</td>\n",
       "      <td>0.0</td>\n",
       "      <td>5.0</td>\n",
       "      <td>12.0</td>\n",
       "      <td>16.0</td>\n",
       "      <td>12.0</td>\n",
       "      <td>0.0</td>\n",
       "      <td>0.0</td>\n",
       "      <td>9</td>\n",
       "    </tr>\n",
       "    <tr>\n",
       "      <th>1796</th>\n",
       "      <td>0.0</td>\n",
       "      <td>0.0</td>\n",
       "      <td>10.0</td>\n",
       "      <td>14.0</td>\n",
       "      <td>8.0</td>\n",
       "      <td>1.0</td>\n",
       "      <td>0.0</td>\n",
       "      <td>0.0</td>\n",
       "      <td>0.0</td>\n",
       "      <td>2.0</td>\n",
       "      <td>...</td>\n",
       "      <td>0.0</td>\n",
       "      <td>0.0</td>\n",
       "      <td>1.0</td>\n",
       "      <td>8.0</td>\n",
       "      <td>12.0</td>\n",
       "      <td>14.0</td>\n",
       "      <td>12.0</td>\n",
       "      <td>1.0</td>\n",
       "      <td>0.0</td>\n",
       "      <td>8</td>\n",
       "    </tr>\n",
       "  </tbody>\n",
       "</table>\n",
       "<p>1797 rows × 65 columns</p>\n",
       "</div>"
      ],
      "text/plain": [
       "      pixel_0_0  pixel_0_1  pixel_0_2  pixel_0_3  pixel_0_4  pixel_0_5  \\\n",
       "0           0.0        0.0        5.0       13.0        9.0        1.0   \n",
       "1           0.0        0.0        0.0       12.0       13.0        5.0   \n",
       "2           0.0        0.0        0.0        4.0       15.0       12.0   \n",
       "3           0.0        0.0        7.0       15.0       13.0        1.0   \n",
       "4           0.0        0.0        0.0        1.0       11.0        0.0   \n",
       "...         ...        ...        ...        ...        ...        ...   \n",
       "1792        0.0        0.0        4.0       10.0       13.0        6.0   \n",
       "1793        0.0        0.0        6.0       16.0       13.0       11.0   \n",
       "1794        0.0        0.0        1.0       11.0       15.0        1.0   \n",
       "1795        0.0        0.0        2.0       10.0        7.0        0.0   \n",
       "1796        0.0        0.0       10.0       14.0        8.0        1.0   \n",
       "\n",
       "      pixel_0_6  pixel_0_7  pixel_1_0  pixel_1_1  ...  pixel_6_7  pixel_7_0  \\\n",
       "0           0.0        0.0        0.0        0.0  ...        0.0        0.0   \n",
       "1           0.0        0.0        0.0        0.0  ...        0.0        0.0   \n",
       "2           0.0        0.0        0.0        0.0  ...        0.0        0.0   \n",
       "3           0.0        0.0        0.0        8.0  ...        0.0        0.0   \n",
       "4           0.0        0.0        0.0        0.0  ...        0.0        0.0   \n",
       "...         ...        ...        ...        ...  ...        ...        ...   \n",
       "1792        0.0        0.0        0.0        1.0  ...        0.0        0.0   \n",
       "1793        1.0        0.0        0.0        0.0  ...        0.0        0.0   \n",
       "1794        0.0        0.0        0.0        0.0  ...        0.0        0.0   \n",
       "1795        0.0        0.0        0.0        0.0  ...        0.0        0.0   \n",
       "1796        0.0        0.0        0.0        2.0  ...        0.0        0.0   \n",
       "\n",
       "      pixel_7_1  pixel_7_2  pixel_7_3  pixel_7_4  pixel_7_5  pixel_7_6  \\\n",
       "0           0.0        6.0       13.0       10.0        0.0        0.0   \n",
       "1           0.0        0.0       11.0       16.0       10.0        0.0   \n",
       "2           0.0        0.0        3.0       11.0       16.0        9.0   \n",
       "3           0.0        7.0       13.0       13.0        9.0        0.0   \n",
       "4           0.0        0.0        2.0       16.0        4.0        0.0   \n",
       "...         ...        ...        ...        ...        ...        ...   \n",
       "1792        0.0        2.0       14.0       15.0        9.0        0.0   \n",
       "1793        0.0        6.0       16.0       14.0        6.0        0.0   \n",
       "1794        0.0        2.0        9.0       13.0        6.0        0.0   \n",
       "1795        0.0        5.0       12.0       16.0       12.0        0.0   \n",
       "1796        1.0        8.0       12.0       14.0       12.0        1.0   \n",
       "\n",
       "      pixel_7_7  target  \n",
       "0           0.0       0  \n",
       "1           0.0       1  \n",
       "2           0.0       2  \n",
       "3           0.0       3  \n",
       "4           0.0       4  \n",
       "...         ...     ...  \n",
       "1792        0.0       9  \n",
       "1793        0.0       0  \n",
       "1794        0.0       8  \n",
       "1795        0.0       9  \n",
       "1796        0.0       8  \n",
       "\n",
       "[1797 rows x 65 columns]"
      ]
     },
     "execution_count": 24,
     "metadata": {},
     "output_type": "execute_result"
    }
   ],
   "source": [
    "data_digits = load_digits()\n",
    "digits = pd.DataFrame(data_digits.data,columns=data_digits.feature_names)\n",
    "digits['target'] = pd.Series(data_digits.target)\n",
    "digits"
   ]
  },
  {
   "cell_type": "markdown",
   "id": "809b93df",
   "metadata": {},
   "source": [
    "Similar to earlier, the `X` will now be separated from our target `y`. "
   ]
  },
  {
   "cell_type": "code",
   "execution_count": 25,
   "id": "e2a78d71",
   "metadata": {},
   "outputs": [],
   "source": [
    "X_digits = digits.values[:,:-1]\n",
    "y_digits = digits.values[:,-1].astype(int)"
   ]
  },
  {
   "cell_type": "markdown",
   "id": "04645440",
   "metadata": {},
   "source": [
    "Following this, the training set is separated from the test set."
   ]
  },
  {
   "cell_type": "code",
   "execution_count": 26,
   "id": "ab0bcb8a",
   "metadata": {},
   "outputs": [],
   "source": [
    "X_train_digits, X_test_digits, y_train_digits, y_test_digits = train_test_split(X_digits, y_digits, stratify=y_digits, test_size=0.3, random_state=8)"
   ]
  },
  {
   "cell_type": "markdown",
   "id": "e00f81f2",
   "metadata": {},
   "source": [
    "#### Training the Model\n",
    "To explore how we train a Multinomial Naive Bayes model, we will import sklearn's `MultinomialNB` class."
   ]
  },
  {
   "cell_type": "code",
   "execution_count": 27,
   "id": "5bb1ca5c",
   "metadata": {},
   "outputs": [],
   "source": [
    "from sklearn.naive_bayes import MultinomialNB"
   ]
  },
  {
   "cell_type": "markdown",
   "id": "451812d3",
   "metadata": {},
   "source": [
    "As we now have imported the needed classes, we can now declare a `MultinomialNB` object with the default parameters: (1) **alpha = 1.0**, which means that the Additive smoothing is equal to 1 (i.e., we assume that all events are seen at least once), and (2) **fit_prior = True**, which means class prior probabilities are computed."
   ]
  },
  {
   "cell_type": "code",
   "execution_count": 28,
   "id": "f7ceea56",
   "metadata": {},
   "outputs": [],
   "source": [
    "mnb = MultinomialNB()"
   ]
  },
  {
   "cell_type": "markdown",
   "id": "cddaf8c0",
   "metadata": {},
   "source": [
    "This model is trained using the `X_train_digits` and `y_train_digits` data as follows:"
   ]
  },
  {
   "cell_type": "code",
   "execution_count": 29,
   "id": "b32e4ec5",
   "metadata": {
    "scrolled": true
   },
   "outputs": [
    {
     "name": "stdout",
     "output_type": "stream",
     "text": [
      "Wall time: 15 ms\n"
     ]
    },
    {
     "data": {
      "text/plain": [
       "MultinomialNB()"
      ]
     },
     "execution_count": 29,
     "metadata": {},
     "output_type": "execute_result"
    }
   ],
   "source": [
    "%%time\n",
    "mnb.fit(X_train_digits, y_train_digits)"
   ]
  },
  {
   "cell_type": "markdown",
   "id": "6d7ee02a",
   "metadata": {},
   "source": [
    "#### Checking the Performance\n",
    "The train predictions of this model will now be obtained."
   ]
  },
  {
   "cell_type": "code",
   "execution_count": 30,
   "id": "71e07ac7",
   "metadata": {},
   "outputs": [],
   "source": [
    "train_predictions_digits = mnb.predict(X_train_digits)"
   ]
  },
  {
   "cell_type": "markdown",
   "id": "8a9ebe3c",
   "metadata": {},
   "source": [
    "Given these predictions, the model's training accuracy can be computed."
   ]
  },
  {
   "cell_type": "code",
   "execution_count": 31,
   "id": "8ae13a50",
   "metadata": {
    "scrolled": true
   },
   "outputs": [
    {
     "name": "stdout",
     "output_type": "stream",
     "text": [
      "Train Accuracy 0.9132856006364359\n"
     ]
    }
   ],
   "source": [
    "print('Train Accuracy', accuracy_score(y_train_digits, train_predictions_digits))"
   ]
  },
  {
   "cell_type": "markdown",
   "id": "94732949",
   "metadata": {},
   "source": [
    "A confusion matrix is also generated with the predictions for a visual representation."
   ]
  },
  {
   "cell_type": "code",
   "execution_count": 32,
   "id": "b6ab9fc3",
   "metadata": {
    "scrolled": false
   },
   "outputs": [
    {
     "data": {
      "image/png": "[encoded data removed]",
      "text/plain": [
       "<Figure size 432x288 with 2 Axes>"
      ]
     },
     "metadata": {},
     "output_type": "display_data"
    }
   ],
   "source": [
    "cm = confusion_matrix(y_train_digits, train_predictions_digits, labels=mnb.classes_)\n",
    "ConfusionMatrixDisplay(confusion_matrix=cm, display_labels=mnb.classes_).plot()\n",
    "plt.show()"
   ]
  },
  {
   "cell_type": "markdown",
   "id": "a3452ac0",
   "metadata": {},
   "source": [
    "Now, the model will predict the labels of the test data."
   ]
  },
  {
   "cell_type": "code",
   "execution_count": 33,
   "id": "11d5eb90",
   "metadata": {},
   "outputs": [],
   "source": [
    "test_predictions_digits = mnb.predict(X_test_digits)"
   ]
  },
  {
   "cell_type": "markdown",
   "id": "142096fc",
   "metadata": {},
   "source": [
    "Then, we can check the test accuracy score of the model."
   ]
  },
  {
   "cell_type": "code",
   "execution_count": 34,
   "id": "e58d260e",
   "metadata": {},
   "outputs": [
    {
     "name": "stdout",
     "output_type": "stream",
     "text": [
      "Test Accuracy 0.8962962962962963\n"
     ]
    }
   ],
   "source": [
    "print('Test Accuracy', accuracy_score(y_test_digits, test_predictions_digits))"
   ]
  },
  {
   "cell_type": "markdown",
   "id": "24e8e5c3",
   "metadata": {},
   "source": [
    "And lastly, the test predictions are visualized with a confusion matrix."
   ]
  },
  {
   "cell_type": "code",
   "execution_count": 35,
   "id": "e960562f",
   "metadata": {
    "scrolled": false
   },
   "outputs": [
    {
     "data": {
      "image/png": "[encoded data removed]",
      "text/plain": [
       "<Figure size 432x288 with 2 Axes>"
      ]
     },
     "metadata": {},
     "output_type": "display_data"
    }
   ],
   "source": [
    "cm = confusion_matrix(y_test_digits, test_predictions_digits, labels=mnb.classes_)\n",
    "ConfusionMatrixDisplay(confusion_matrix=cm, display_labels=mnb.classes_).plot()\n",
    "plt.show()"
   ]
  },
  {
   "cell_type": "markdown",
   "id": "cb4d9c36",
   "metadata": {},
   "source": [
    "##### Figure 3. Confusion Matrix of the Test data of the Multinomial Naive Bayes\n",
    "Using Figure 3, we can determine which classes our model have a hard time classifying. From this, we determined that our model is confused about classes 8 and 9, as these are the classes that it mostly predicts the instances to, even if the instances do not actually belong in this class."
   ]
  },
  {
   "cell_type": "markdown",
   "id": "e5389794",
   "metadata": {},
   "source": [
    "#### Tuning the Hyperparameters\n",
    "To further improve this model, the hyperparameters can be tuned. The aforementioned `alpha` and `fit_prior` parameters will be experimented on with a wide range of values in an effort to improve the model."
   ]
  },
  {
   "cell_type": "code",
   "execution_count": 36,
   "id": "1a297e20",
   "metadata": {},
   "outputs": [],
   "source": [
    "hyperparameters = [{\n",
    "    'alpha' : [0.001, 0.01, 0.1, 1, 3, 5, 10, 15, 20, 50], \n",
    "    'fit_prior' : [False, True]\n",
    "}]"
   ]
  },
  {
   "cell_type": "markdown",
   "id": "472e709a",
   "metadata": {},
   "source": [
    "A GridSearchCV will be used to test all combinations of `alpha` and `fit_prior` on the model."
   ]
  },
  {
   "cell_type": "code",
   "execution_count": 37,
   "id": "0415f38d",
   "metadata": {},
   "outputs": [],
   "source": [
    "mnb_tuned = GridSearchCV(MultinomialNB(), hyperparameters)"
   ]
  },
  {
   "cell_type": "markdown",
   "id": "4ed4122d",
   "metadata": {},
   "source": [
    "This cross-validation model will then be trained."
   ]
  },
  {
   "cell_type": "code",
   "execution_count": 38,
   "id": "a77549ca",
   "metadata": {
    "scrolled": true
   },
   "outputs": [
    {
     "name": "stdout",
     "output_type": "stream",
     "text": [
      "Best parameters: {'alpha': 20, 'fit_prior': False}\n",
      "Validation Accuracy 0.9045184341997091\n",
      "Wall time: 257 ms\n"
     ]
    }
   ],
   "source": [
    "%%time\n",
    "mnb_tuned.fit(X_train_digits, y_train_digits)\n",
    "print('Best parameters:', mnb_tuned.best_params_)\n",
    "print('Validation Accuracy', mnb_tuned.best_score_)"
   ]
  },
  {
   "cell_type": "markdown",
   "id": "2e8530a9",
   "metadata": {},
   "source": [
    "With this, we can gauge the performance of the tuned model."
   ]
  },
  {
   "cell_type": "code",
   "execution_count": 39,
   "id": "5646f768",
   "metadata": {
    "scrolled": true
   },
   "outputs": [
    {
     "name": "stdout",
     "output_type": "stream",
     "text": [
      "Train Accuracy 0.9108989657915673\n",
      "Test Accuracy 0.8981481481481481\n"
     ]
    },
    {
     "data": {
      "image/png": "[encoded data removed]",
      "text/plain": [
       "<Figure size 432x288 with 2 Axes>"
      ]
     },
     "metadata": {},
     "output_type": "display_data"
    }
   ],
   "source": [
    "train_predictions_digits = mnb_tuned.predict(X_train_digits)\n",
    "print('Train Accuracy', accuracy_score(y_train_digits, train_predictions_digits))\n",
    "test_predictions_digits = mnb_tuned.predict(X_test_digits)\n",
    "print('Test Accuracy', accuracy_score(y_test_digits, test_predictions_digits))\n",
    "cm = confusion_matrix(y_test_digits, test_predictions_digits, labels=mnb_tuned.classes_)\n",
    "ConfusionMatrixDisplay(confusion_matrix=cm, display_labels=mnb_tuned.classes_).plot()\n",
    "plt.show()"
   ]
  },
  {
   "cell_type": "markdown",
   "id": "494b3767",
   "metadata": {},
   "source": [
    "##### Figure 4. Confusion Matrix of the Test data of the Tuned Multinomial Naive Bayes\n",
    "From Figure 4, which holds the confusion matrix for the tuned model of the Multinomial Naive Bayes, we can see that it actually added 1 instance to the incorrectly predicted instances, compared to the train set. This means that tuning the model actually lessened its accuracy. "
   ]
  },
  {
   "cell_type": "markdown",
   "id": "15783bd4",
   "metadata": {},
   "source": [
    "**Note: As an experiment, you can set the `cv` parameter (i.e., the parameter value that indicates how many cross-validation splits) of the `GridSearchCV` to a higher value.** \n",
    "This is because having a `cv=5` for a small number of train data for 10 classes might not be enough to tune the hyperparameters correctly."
   ]
  },
  {
   "cell_type": "markdown",
   "id": "3f7c3b38",
   "metadata": {},
   "source": [
    "## Bernoulli Naive Bayes\n",
    "Last, we would be creating a model that utilizes a Bernoulli Naive Bayes. In this, we would be generating a dataset, as what separates Bernoulli Naive Bayes from a Multinomial Naive Bayes is that Bernoulli Naive Bayes only accept binary values for input (i.e., values for its features)."
   ]
  },
  {
   "cell_type": "markdown",
   "id": "2da2f96c",
   "metadata": {},
   "source": [
    "#### Generating the Dataset\n",
    "We will be generating a dataset with discrete features and binary classes. This will be done using sklearn's `make_classification` function."
   ]
  },
  {
   "cell_type": "code",
   "execution_count": 40,
   "id": "9292c578",
   "metadata": {},
   "outputs": [],
   "source": [
    "from sklearn.datasets import make_classification\n",
    "from sklearn.preprocessing import MinMaxScaler"
   ]
  },
  {
   "cell_type": "markdown",
   "id": "4951f0ce",
   "metadata": {},
   "source": [
    "As seen below, this generated dataset would contain 1000 instances with 20 features.\n",
    "\n",
    "With this, the task is to determine if an instance is of class `0` or class `1`."
   ]
  },
  {
   "cell_type": "code",
   "execution_count": 41,
   "id": "d15225fe",
   "metadata": {
    "scrolled": true
   },
   "outputs": [
    {
     "data": {
      "text/html": [
       "<div>\n",
       "<style scoped>\n",
       "    .dataframe tbody tr th:only-of-type {\n",
       "        vertical-align: middle;\n",
       "    }\n",
       "\n",
       "    .dataframe tbody tr th {\n",
       "        vertical-align: top;\n",
       "    }\n",
       "\n",
       "    .dataframe thead th {\n",
       "        text-align: right;\n",
       "    }\n",
       "</style>\n",
       "<table border=\"1\" class=\"dataframe\">\n",
       "  <thead>\n",
       "    <tr style=\"text-align: right;\">\n",
       "      <th></th>\n",
       "      <th>0</th>\n",
       "      <th>1</th>\n",
       "      <th>2</th>\n",
       "      <th>3</th>\n",
       "      <th>4</th>\n",
       "      <th>5</th>\n",
       "      <th>6</th>\n",
       "      <th>7</th>\n",
       "      <th>8</th>\n",
       "      <th>9</th>\n",
       "      <th>...</th>\n",
       "      <th>11</th>\n",
       "      <th>12</th>\n",
       "      <th>13</th>\n",
       "      <th>14</th>\n",
       "      <th>15</th>\n",
       "      <th>16</th>\n",
       "      <th>17</th>\n",
       "      <th>18</th>\n",
       "      <th>19</th>\n",
       "      <th>20</th>\n",
       "    </tr>\n",
       "  </thead>\n",
       "  <tbody>\n",
       "    <tr>\n",
       "      <th>0</th>\n",
       "      <td>1.846505</td>\n",
       "      <td>-0.023321</td>\n",
       "      <td>1.129731</td>\n",
       "      <td>0.106389</td>\n",
       "      <td>-0.919395</td>\n",
       "      <td>1.335738</td>\n",
       "      <td>1.171215</td>\n",
       "      <td>-0.008739</td>\n",
       "      <td>-0.944069</td>\n",
       "      <td>-0.388608</td>\n",
       "      <td>...</td>\n",
       "      <td>-0.174402</td>\n",
       "      <td>-1.129708</td>\n",
       "      <td>-0.636207</td>\n",
       "      <td>-0.712915</td>\n",
       "      <td>0.159385</td>\n",
       "      <td>0.641064</td>\n",
       "      <td>-1.357693</td>\n",
       "      <td>-1.244719</td>\n",
       "      <td>0.835961</td>\n",
       "      <td>1.0</td>\n",
       "    </tr>\n",
       "    <tr>\n",
       "      <th>1</th>\n",
       "      <td>0.005108</td>\n",
       "      <td>0.633238</td>\n",
       "      <td>-2.891070</td>\n",
       "      <td>0.666766</td>\n",
       "      <td>1.029027</td>\n",
       "      <td>1.496175</td>\n",
       "      <td>0.115476</td>\n",
       "      <td>-0.187327</td>\n",
       "      <td>-0.521929</td>\n",
       "      <td>-0.600468</td>\n",
       "      <td>...</td>\n",
       "      <td>0.848875</td>\n",
       "      <td>0.829910</td>\n",
       "      <td>-0.286861</td>\n",
       "      <td>-0.087054</td>\n",
       "      <td>0.799790</td>\n",
       "      <td>-1.668096</td>\n",
       "      <td>1.855202</td>\n",
       "      <td>1.266643</td>\n",
       "      <td>-2.532618</td>\n",
       "      <td>0.0</td>\n",
       "    </tr>\n",
       "    <tr>\n",
       "      <th>2</th>\n",
       "      <td>-0.000302</td>\n",
       "      <td>-1.128944</td>\n",
       "      <td>0.446935</td>\n",
       "      <td>1.298482</td>\n",
       "      <td>1.387366</td>\n",
       "      <td>0.308517</td>\n",
       "      <td>-1.006711</td>\n",
       "      <td>0.111402</td>\n",
       "      <td>0.482312</td>\n",
       "      <td>1.025864</td>\n",
       "      <td>...</td>\n",
       "      <td>-0.273321</td>\n",
       "      <td>0.556527</td>\n",
       "      <td>-0.961626</td>\n",
       "      <td>-1.269991</td>\n",
       "      <td>-1.420246</td>\n",
       "      <td>0.370692</td>\n",
       "      <td>1.451687</td>\n",
       "      <td>-0.980561</td>\n",
       "      <td>0.813817</td>\n",
       "      <td>1.0</td>\n",
       "    </tr>\n",
       "    <tr>\n",
       "      <th>3</th>\n",
       "      <td>-0.208211</td>\n",
       "      <td>-0.784519</td>\n",
       "      <td>-0.777860</td>\n",
       "      <td>-0.614977</td>\n",
       "      <td>-1.062531</td>\n",
       "      <td>0.824113</td>\n",
       "      <td>-0.616968</td>\n",
       "      <td>-0.412415</td>\n",
       "      <td>-0.860892</td>\n",
       "      <td>-0.747823</td>\n",
       "      <td>...</td>\n",
       "      <td>-0.335001</td>\n",
       "      <td>0.632688</td>\n",
       "      <td>0.868737</td>\n",
       "      <td>-0.359242</td>\n",
       "      <td>1.191164</td>\n",
       "      <td>-1.197064</td>\n",
       "      <td>-0.809432</td>\n",
       "      <td>1.447597</td>\n",
       "      <td>-0.999285</td>\n",
       "      <td>0.0</td>\n",
       "    </tr>\n",
       "    <tr>\n",
       "      <th>4</th>\n",
       "      <td>1.443565</td>\n",
       "      <td>-0.608787</td>\n",
       "      <td>-0.702933</td>\n",
       "      <td>-0.526138</td>\n",
       "      <td>-0.066589</td>\n",
       "      <td>0.475833</td>\n",
       "      <td>-0.545094</td>\n",
       "      <td>0.211435</td>\n",
       "      <td>2.372755</td>\n",
       "      <td>-0.440273</td>\n",
       "      <td>...</td>\n",
       "      <td>1.169945</td>\n",
       "      <td>-0.149709</td>\n",
       "      <td>0.410386</td>\n",
       "      <td>0.584659</td>\n",
       "      <td>1.366567</td>\n",
       "      <td>-0.463751</td>\n",
       "      <td>-1.120485</td>\n",
       "      <td>-0.310986</td>\n",
       "      <td>-0.997527</td>\n",
       "      <td>0.0</td>\n",
       "    </tr>\n",
       "    <tr>\n",
       "      <th>...</th>\n",
       "      <td>...</td>\n",
       "      <td>...</td>\n",
       "      <td>...</td>\n",
       "      <td>...</td>\n",
       "      <td>...</td>\n",
       "      <td>...</td>\n",
       "      <td>...</td>\n",
       "      <td>...</td>\n",
       "      <td>...</td>\n",
       "      <td>...</td>\n",
       "      <td>...</td>\n",
       "      <td>...</td>\n",
       "      <td>...</td>\n",
       "      <td>...</td>\n",
       "      <td>...</td>\n",
       "      <td>...</td>\n",
       "      <td>...</td>\n",
       "      <td>...</td>\n",
       "      <td>...</td>\n",
       "      <td>...</td>\n",
       "      <td>...</td>\n",
       "    </tr>\n",
       "    <tr>\n",
       "      <th>995</th>\n",
       "      <td>-0.716554</td>\n",
       "      <td>-1.908159</td>\n",
       "      <td>0.598988</td>\n",
       "      <td>0.924848</td>\n",
       "      <td>-0.840231</td>\n",
       "      <td>0.185634</td>\n",
       "      <td>-0.353211</td>\n",
       "      <td>0.014009</td>\n",
       "      <td>0.650882</td>\n",
       "      <td>-2.432511</td>\n",
       "      <td>...</td>\n",
       "      <td>0.451828</td>\n",
       "      <td>0.799506</td>\n",
       "      <td>0.724888</td>\n",
       "      <td>1.043760</td>\n",
       "      <td>0.824413</td>\n",
       "      <td>2.267649</td>\n",
       "      <td>-1.711920</td>\n",
       "      <td>-0.534103</td>\n",
       "      <td>0.202248</td>\n",
       "      <td>1.0</td>\n",
       "    </tr>\n",
       "    <tr>\n",
       "      <th>996</th>\n",
       "      <td>-0.841131</td>\n",
       "      <td>0.379229</td>\n",
       "      <td>0.632715</td>\n",
       "      <td>0.070642</td>\n",
       "      <td>0.311488</td>\n",
       "      <td>-1.275189</td>\n",
       "      <td>0.878991</td>\n",
       "      <td>-0.038427</td>\n",
       "      <td>0.162487</td>\n",
       "      <td>0.633021</td>\n",
       "      <td>...</td>\n",
       "      <td>-0.446529</td>\n",
       "      <td>0.038454</td>\n",
       "      <td>-0.512946</td>\n",
       "      <td>-0.739004</td>\n",
       "      <td>0.328143</td>\n",
       "      <td>-0.408540</td>\n",
       "      <td>-1.080675</td>\n",
       "      <td>-1.002737</td>\n",
       "      <td>0.390386</td>\n",
       "      <td>1.0</td>\n",
       "    </tr>\n",
       "    <tr>\n",
       "      <th>997</th>\n",
       "      <td>1.388038</td>\n",
       "      <td>1.192313</td>\n",
       "      <td>-0.995493</td>\n",
       "      <td>0.352019</td>\n",
       "      <td>-0.331097</td>\n",
       "      <td>-0.326835</td>\n",
       "      <td>1.525909</td>\n",
       "      <td>0.675665</td>\n",
       "      <td>-0.007302</td>\n",
       "      <td>0.481295</td>\n",
       "      <td>...</td>\n",
       "      <td>0.372844</td>\n",
       "      <td>-0.589714</td>\n",
       "      <td>0.617289</td>\n",
       "      <td>0.083496</td>\n",
       "      <td>0.397679</td>\n",
       "      <td>0.299775</td>\n",
       "      <td>0.474850</td>\n",
       "      <td>0.704581</td>\n",
       "      <td>-0.911893</td>\n",
       "      <td>0.0</td>\n",
       "    </tr>\n",
       "    <tr>\n",
       "      <th>998</th>\n",
       "      <td>-0.318155</td>\n",
       "      <td>1.584778</td>\n",
       "      <td>-0.683991</td>\n",
       "      <td>0.538593</td>\n",
       "      <td>0.952642</td>\n",
       "      <td>-0.537217</td>\n",
       "      <td>0.504928</td>\n",
       "      <td>-1.166782</td>\n",
       "      <td>2.160712</td>\n",
       "      <td>-0.527574</td>\n",
       "      <td>...</td>\n",
       "      <td>0.021149</td>\n",
       "      <td>0.824065</td>\n",
       "      <td>1.325293</td>\n",
       "      <td>0.917335</td>\n",
       "      <td>1.816532</td>\n",
       "      <td>-0.108255</td>\n",
       "      <td>-1.742979</td>\n",
       "      <td>0.167817</td>\n",
       "      <td>-1.129190</td>\n",
       "      <td>0.0</td>\n",
       "    </tr>\n",
       "    <tr>\n",
       "      <th>999</th>\n",
       "      <td>-0.848115</td>\n",
       "      <td>-0.434426</td>\n",
       "      <td>-0.284704</td>\n",
       "      <td>0.503875</td>\n",
       "      <td>0.157670</td>\n",
       "      <td>2.062449</td>\n",
       "      <td>-0.847910</td>\n",
       "      <td>0.814709</td>\n",
       "      <td>-1.018095</td>\n",
       "      <td>0.376611</td>\n",
       "      <td>...</td>\n",
       "      <td>-0.796253</td>\n",
       "      <td>0.953473</td>\n",
       "      <td>1.083737</td>\n",
       "      <td>1.341655</td>\n",
       "      <td>2.864509</td>\n",
       "      <td>1.661646</td>\n",
       "      <td>-3.552431</td>\n",
       "      <td>0.738682</td>\n",
       "      <td>-1.156704</td>\n",
       "      <td>0.0</td>\n",
       "    </tr>\n",
       "  </tbody>\n",
       "</table>\n",
       "<p>1000 rows × 21 columns</p>\n",
       "</div>"
      ],
      "text/plain": [
       "           0         1         2         3         4         5         6   \\\n",
       "0    1.846505 -0.023321  1.129731  0.106389 -0.919395  1.335738  1.171215   \n",
       "1    0.005108  0.633238 -2.891070  0.666766  1.029027  1.496175  0.115476   \n",
       "2   -0.000302 -1.128944  0.446935  1.298482  1.387366  0.308517 -1.006711   \n",
       "3   -0.208211 -0.784519 -0.777860 -0.614977 -1.062531  0.824113 -0.616968   \n",
       "4    1.443565 -0.608787 -0.702933 -0.526138 -0.066589  0.475833 -0.545094   \n",
       "..        ...       ...       ...       ...       ...       ...       ...   \n",
       "995 -0.716554 -1.908159  0.598988  0.924848 -0.840231  0.185634 -0.353211   \n",
       "996 -0.841131  0.379229  0.632715  0.070642  0.311488 -1.275189  0.878991   \n",
       "997  1.388038  1.192313 -0.995493  0.352019 -0.331097 -0.326835  1.525909   \n",
       "998 -0.318155  1.584778 -0.683991  0.538593  0.952642 -0.537217  0.504928   \n",
       "999 -0.848115 -0.434426 -0.284704  0.503875  0.157670  2.062449 -0.847910   \n",
       "\n",
       "           7         8         9   ...        11        12        13  \\\n",
       "0   -0.008739 -0.944069 -0.388608  ... -0.174402 -1.129708 -0.636207   \n",
       "1   -0.187327 -0.521929 -0.600468  ...  0.848875  0.829910 -0.286861   \n",
       "2    0.111402  0.482312  1.025864  ... -0.273321  0.556527 -0.961626   \n",
       "3   -0.412415 -0.860892 -0.747823  ... -0.335001  0.632688  0.868737   \n",
       "4    0.211435  2.372755 -0.440273  ...  1.169945 -0.149709  0.410386   \n",
       "..        ...       ...       ...  ...       ...       ...       ...   \n",
       "995  0.014009  0.650882 -2.432511  ...  0.451828  0.799506  0.724888   \n",
       "996 -0.038427  0.162487  0.633021  ... -0.446529  0.038454 -0.512946   \n",
       "997  0.675665 -0.007302  0.481295  ...  0.372844 -0.589714  0.617289   \n",
       "998 -1.166782  2.160712 -0.527574  ...  0.021149  0.824065  1.325293   \n",
       "999  0.814709 -1.018095  0.376611  ... -0.796253  0.953473  1.083737   \n",
       "\n",
       "           14        15        16        17        18        19   20  \n",
       "0   -0.712915  0.159385  0.641064 -1.357693 -1.244719  0.835961  1.0  \n",
       "1   -0.087054  0.799790 -1.668096  1.855202  1.266643 -2.532618  0.0  \n",
       "2   -1.269991 -1.420246  0.370692  1.451687 -0.980561  0.813817  1.0  \n",
       "3   -0.359242  1.191164 -1.197064 -0.809432  1.447597 -0.999285  0.0  \n",
       "4    0.584659  1.366567 -0.463751 -1.120485 -0.310986 -0.997527  0.0  \n",
       "..        ...       ...       ...       ...       ...       ...  ...  \n",
       "995  1.043760  0.824413  2.267649 -1.711920 -0.534103  0.202248  1.0  \n",
       "996 -0.739004  0.328143 -0.408540 -1.080675 -1.002737  0.390386  1.0  \n",
       "997  0.083496  0.397679  0.299775  0.474850  0.704581 -0.911893  0.0  \n",
       "998  0.917335  1.816532 -0.108255 -1.742979  0.167817 -1.129190  0.0  \n",
       "999  1.341655  2.864509  1.661646 -3.552431  0.738682 -1.156704  0.0  \n",
       "\n",
       "[1000 rows x 21 columns]"
      ]
     },
     "execution_count": 41,
     "metadata": {},
     "output_type": "execute_result"
    }
   ],
   "source": [
    "X_clf, y_clf = make_classification(n_samples=1000, random_state=8)\n",
    "pd.DataFrame(np.c_[X_clf, y_clf])"
   ]
  },
  {
   "cell_type": "markdown",
   "id": "eae2cc8a",
   "metadata": {},
   "source": [
    "As `make_classification` produces continuous values, the values for `X` will be turned into discrete values. The final dataset is shown below:"
   ]
  },
  {
   "cell_type": "code",
   "execution_count": 58,
   "id": "dd2beaeb",
   "metadata": {
    "scrolled": false
   },
   "outputs": [
    {
     "data": {
      "text/html": [
       "<div>\n",
       "<style scoped>\n",
       "    .dataframe tbody tr th:only-of-type {\n",
       "        vertical-align: middle;\n",
       "    }\n",
       "\n",
       "    .dataframe tbody tr th {\n",
       "        vertical-align: top;\n",
       "    }\n",
       "\n",
       "    .dataframe thead th {\n",
       "        text-align: right;\n",
       "    }\n",
       "</style>\n",
       "<table border=\"1\" class=\"dataframe\">\n",
       "  <thead>\n",
       "    <tr style=\"text-align: right;\">\n",
       "      <th></th>\n",
       "      <th>0</th>\n",
       "      <th>1</th>\n",
       "      <th>2</th>\n",
       "      <th>3</th>\n",
       "      <th>4</th>\n",
       "      <th>5</th>\n",
       "      <th>6</th>\n",
       "      <th>7</th>\n",
       "      <th>8</th>\n",
       "      <th>9</th>\n",
       "      <th>...</th>\n",
       "      <th>11</th>\n",
       "      <th>12</th>\n",
       "      <th>13</th>\n",
       "      <th>14</th>\n",
       "      <th>15</th>\n",
       "      <th>16</th>\n",
       "      <th>17</th>\n",
       "      <th>18</th>\n",
       "      <th>19</th>\n",
       "      <th>20</th>\n",
       "    </tr>\n",
       "  </thead>\n",
       "  <tbody>\n",
       "    <tr>\n",
       "      <th>0</th>\n",
       "      <td>1</td>\n",
       "      <td>1</td>\n",
       "      <td>1</td>\n",
       "      <td>1</td>\n",
       "      <td>0</td>\n",
       "      <td>1</td>\n",
       "      <td>1</td>\n",
       "      <td>1</td>\n",
       "      <td>0</td>\n",
       "      <td>0</td>\n",
       "      <td>...</td>\n",
       "      <td>0</td>\n",
       "      <td>0</td>\n",
       "      <td>0</td>\n",
       "      <td>0</td>\n",
       "      <td>1</td>\n",
       "      <td>1</td>\n",
       "      <td>0</td>\n",
       "      <td>0</td>\n",
       "      <td>1</td>\n",
       "      <td>1</td>\n",
       "    </tr>\n",
       "    <tr>\n",
       "      <th>1</th>\n",
       "      <td>0</td>\n",
       "      <td>1</td>\n",
       "      <td>0</td>\n",
       "      <td>1</td>\n",
       "      <td>1</td>\n",
       "      <td>1</td>\n",
       "      <td>1</td>\n",
       "      <td>0</td>\n",
       "      <td>0</td>\n",
       "      <td>0</td>\n",
       "      <td>...</td>\n",
       "      <td>1</td>\n",
       "      <td>1</td>\n",
       "      <td>0</td>\n",
       "      <td>0</td>\n",
       "      <td>1</td>\n",
       "      <td>0</td>\n",
       "      <td>1</td>\n",
       "      <td>1</td>\n",
       "      <td>0</td>\n",
       "      <td>0</td>\n",
       "    </tr>\n",
       "    <tr>\n",
       "      <th>2</th>\n",
       "      <td>0</td>\n",
       "      <td>0</td>\n",
       "      <td>1</td>\n",
       "      <td>1</td>\n",
       "      <td>1</td>\n",
       "      <td>1</td>\n",
       "      <td>0</td>\n",
       "      <td>1</td>\n",
       "      <td>1</td>\n",
       "      <td>1</td>\n",
       "      <td>...</td>\n",
       "      <td>0</td>\n",
       "      <td>1</td>\n",
       "      <td>0</td>\n",
       "      <td>0</td>\n",
       "      <td>0</td>\n",
       "      <td>1</td>\n",
       "      <td>1</td>\n",
       "      <td>0</td>\n",
       "      <td>1</td>\n",
       "      <td>1</td>\n",
       "    </tr>\n",
       "    <tr>\n",
       "      <th>3</th>\n",
       "      <td>0</td>\n",
       "      <td>0</td>\n",
       "      <td>0</td>\n",
       "      <td>0</td>\n",
       "      <td>0</td>\n",
       "      <td>1</td>\n",
       "      <td>0</td>\n",
       "      <td>0</td>\n",
       "      <td>0</td>\n",
       "      <td>0</td>\n",
       "      <td>...</td>\n",
       "      <td>0</td>\n",
       "      <td>1</td>\n",
       "      <td>1</td>\n",
       "      <td>0</td>\n",
       "      <td>1</td>\n",
       "      <td>0</td>\n",
       "      <td>1</td>\n",
       "      <td>1</td>\n",
       "      <td>0</td>\n",
       "      <td>0</td>\n",
       "    </tr>\n",
       "    <tr>\n",
       "      <th>4</th>\n",
       "      <td>1</td>\n",
       "      <td>0</td>\n",
       "      <td>0</td>\n",
       "      <td>0</td>\n",
       "      <td>1</td>\n",
       "      <td>1</td>\n",
       "      <td>0</td>\n",
       "      <td>1</td>\n",
       "      <td>1</td>\n",
       "      <td>0</td>\n",
       "      <td>...</td>\n",
       "      <td>1</td>\n",
       "      <td>0</td>\n",
       "      <td>1</td>\n",
       "      <td>1</td>\n",
       "      <td>1</td>\n",
       "      <td>0</td>\n",
       "      <td>0</td>\n",
       "      <td>0</td>\n",
       "      <td>0</td>\n",
       "      <td>0</td>\n",
       "    </tr>\n",
       "    <tr>\n",
       "      <th>...</th>\n",
       "      <td>...</td>\n",
       "      <td>...</td>\n",
       "      <td>...</td>\n",
       "      <td>...</td>\n",
       "      <td>...</td>\n",
       "      <td>...</td>\n",
       "      <td>...</td>\n",
       "      <td>...</td>\n",
       "      <td>...</td>\n",
       "      <td>...</td>\n",
       "      <td>...</td>\n",
       "      <td>...</td>\n",
       "      <td>...</td>\n",
       "      <td>...</td>\n",
       "      <td>...</td>\n",
       "      <td>...</td>\n",
       "      <td>...</td>\n",
       "      <td>...</td>\n",
       "      <td>...</td>\n",
       "      <td>...</td>\n",
       "      <td>...</td>\n",
       "    </tr>\n",
       "    <tr>\n",
       "      <th>995</th>\n",
       "      <td>0</td>\n",
       "      <td>0</td>\n",
       "      <td>1</td>\n",
       "      <td>1</td>\n",
       "      <td>0</td>\n",
       "      <td>1</td>\n",
       "      <td>0</td>\n",
       "      <td>1</td>\n",
       "      <td>1</td>\n",
       "      <td>0</td>\n",
       "      <td>...</td>\n",
       "      <td>1</td>\n",
       "      <td>1</td>\n",
       "      <td>1</td>\n",
       "      <td>1</td>\n",
       "      <td>1</td>\n",
       "      <td>1</td>\n",
       "      <td>0</td>\n",
       "      <td>0</td>\n",
       "      <td>1</td>\n",
       "      <td>1</td>\n",
       "    </tr>\n",
       "    <tr>\n",
       "      <th>996</th>\n",
       "      <td>0</td>\n",
       "      <td>1</td>\n",
       "      <td>1</td>\n",
       "      <td>1</td>\n",
       "      <td>1</td>\n",
       "      <td>0</td>\n",
       "      <td>1</td>\n",
       "      <td>1</td>\n",
       "      <td>1</td>\n",
       "      <td>1</td>\n",
       "      <td>...</td>\n",
       "      <td>0</td>\n",
       "      <td>1</td>\n",
       "      <td>0</td>\n",
       "      <td>0</td>\n",
       "      <td>1</td>\n",
       "      <td>0</td>\n",
       "      <td>0</td>\n",
       "      <td>0</td>\n",
       "      <td>1</td>\n",
       "      <td>1</td>\n",
       "    </tr>\n",
       "    <tr>\n",
       "      <th>997</th>\n",
       "      <td>1</td>\n",
       "      <td>1</td>\n",
       "      <td>0</td>\n",
       "      <td>1</td>\n",
       "      <td>1</td>\n",
       "      <td>1</td>\n",
       "      <td>1</td>\n",
       "      <td>1</td>\n",
       "      <td>1</td>\n",
       "      <td>1</td>\n",
       "      <td>...</td>\n",
       "      <td>1</td>\n",
       "      <td>0</td>\n",
       "      <td>1</td>\n",
       "      <td>0</td>\n",
       "      <td>1</td>\n",
       "      <td>1</td>\n",
       "      <td>1</td>\n",
       "      <td>1</td>\n",
       "      <td>0</td>\n",
       "      <td>0</td>\n",
       "    </tr>\n",
       "    <tr>\n",
       "      <th>998</th>\n",
       "      <td>0</td>\n",
       "      <td>1</td>\n",
       "      <td>0</td>\n",
       "      <td>1</td>\n",
       "      <td>1</td>\n",
       "      <td>0</td>\n",
       "      <td>1</td>\n",
       "      <td>0</td>\n",
       "      <td>1</td>\n",
       "      <td>0</td>\n",
       "      <td>...</td>\n",
       "      <td>1</td>\n",
       "      <td>1</td>\n",
       "      <td>1</td>\n",
       "      <td>1</td>\n",
       "      <td>1</td>\n",
       "      <td>1</td>\n",
       "      <td>0</td>\n",
       "      <td>1</td>\n",
       "      <td>0</td>\n",
       "      <td>0</td>\n",
       "    </tr>\n",
       "    <tr>\n",
       "      <th>999</th>\n",
       "      <td>0</td>\n",
       "      <td>0</td>\n",
       "      <td>1</td>\n",
       "      <td>1</td>\n",
       "      <td>1</td>\n",
       "      <td>1</td>\n",
       "      <td>0</td>\n",
       "      <td>1</td>\n",
       "      <td>0</td>\n",
       "      <td>1</td>\n",
       "      <td>...</td>\n",
       "      <td>0</td>\n",
       "      <td>1</td>\n",
       "      <td>1</td>\n",
       "      <td>1</td>\n",
       "      <td>1</td>\n",
       "      <td>1</td>\n",
       "      <td>0</td>\n",
       "      <td>1</td>\n",
       "      <td>0</td>\n",
       "      <td>0</td>\n",
       "    </tr>\n",
       "  </tbody>\n",
       "</table>\n",
       "<p>1000 rows × 21 columns</p>\n",
       "</div>"
      ],
      "text/plain": [
       "     0   1   2   3   4   5   6   7   8   9   ...  11  12  13  14  15  16  17  \\\n",
       "0     1   1   1   1   0   1   1   1   0   0  ...   0   0   0   0   1   1   0   \n",
       "1     0   1   0   1   1   1   1   0   0   0  ...   1   1   0   0   1   0   1   \n",
       "2     0   0   1   1   1   1   0   1   1   1  ...   0   1   0   0   0   1   1   \n",
       "3     0   0   0   0   0   1   0   0   0   0  ...   0   1   1   0   1   0   1   \n",
       "4     1   0   0   0   1   1   0   1   1   0  ...   1   0   1   1   1   0   0   \n",
       "..   ..  ..  ..  ..  ..  ..  ..  ..  ..  ..  ...  ..  ..  ..  ..  ..  ..  ..   \n",
       "995   0   0   1   1   0   1   0   1   1   0  ...   1   1   1   1   1   1   0   \n",
       "996   0   1   1   1   1   0   1   1   1   1  ...   0   1   0   0   1   0   0   \n",
       "997   1   1   0   1   1   1   1   1   1   1  ...   1   0   1   0   1   1   1   \n",
       "998   0   1   0   1   1   0   1   0   1   0  ...   1   1   1   1   1   1   0   \n",
       "999   0   0   1   1   1   1   0   1   0   1  ...   0   1   1   1   1   1   0   \n",
       "\n",
       "     18  19  20  \n",
       "0     0   1   1  \n",
       "1     1   0   0  \n",
       "2     0   1   1  \n",
       "3     1   0   0  \n",
       "4     0   0   0  \n",
       "..   ..  ..  ..  \n",
       "995   0   1   1  \n",
       "996   0   1   1  \n",
       "997   1   0   0  \n",
       "998   1   0   0  \n",
       "999   1   0   0  \n",
       "\n",
       "[1000 rows x 21 columns]"
      ]
     },
     "execution_count": 58,
     "metadata": {},
     "output_type": "execute_result"
    }
   ],
   "source": [
    "scaler = MinMaxScaler(feature_range=(0, 1))\n",
    "X_clf = np.round_(scaler.fit_transform(X_clf)).astype(int)\n",
    "pd.DataFrame(np.c_[X_clf, y_clf])"
   ]
  },
  {
   "cell_type": "markdown",
   "id": "2d01ca80",
   "metadata": {},
   "source": [
    "Lastly, the training set is separated from the test set."
   ]
  },
  {
   "cell_type": "code",
   "execution_count": 43,
   "id": "7f9074bf",
   "metadata": {},
   "outputs": [],
   "source": [
    "X_train_clf, X_test_clf, y_train_clf, y_test_clf = train_test_split(X_clf, y_clf, stratify=y_clf, test_size=0.3, random_state=8)"
   ]
  },
  {
   "cell_type": "markdown",
   "id": "025edfd3",
   "metadata": {},
   "source": [
    "#### Training the Model\n",
    "To see the Bernoulli model in action, we will import sklearn's `BernoulliNB` class."
   ]
  },
  {
   "cell_type": "code",
   "execution_count": 44,
   "id": "55eb271c",
   "metadata": {},
   "outputs": [],
   "source": [
    "from sklearn.naive_bayes import BernoulliNB"
   ]
  },
  {
   "cell_type": "markdown",
   "id": "cf54bb51",
   "metadata": {},
   "source": [
    "First, we will initialize the `BernoulliNB` model with default parameters."
   ]
  },
  {
   "cell_type": "code",
   "execution_count": 45,
   "id": "af62affe",
   "metadata": {},
   "outputs": [],
   "source": [
    "bnb = BernoulliNB()"
   ]
  },
  {
   "cell_type": "markdown",
   "id": "fb4f37ff",
   "metadata": {},
   "source": [
    "This model will be trained on the `X_train_clf` and `y_train_clf` data as follows:"
   ]
  },
  {
   "cell_type": "code",
   "execution_count": 46,
   "id": "40de7856",
   "metadata": {
    "scrolled": true
   },
   "outputs": [
    {
     "name": "stdout",
     "output_type": "stream",
     "text": [
      "Wall time: 5.98 ms\n"
     ]
    },
    {
     "data": {
      "text/plain": [
       "BernoulliNB()"
      ]
     },
     "execution_count": 46,
     "metadata": {},
     "output_type": "execute_result"
    }
   ],
   "source": [
    "%%time\n",
    "bnb.fit(X_train_clf, y_train_clf)"
   ]
  },
  {
   "cell_type": "markdown",
   "id": "f7b7973c",
   "metadata": {},
   "source": [
    "#### Checking the Performance\n",
    "The train predictions of this model will now be obtained."
   ]
  },
  {
   "cell_type": "code",
   "execution_count": 47,
   "id": "70d4410b",
   "metadata": {},
   "outputs": [],
   "source": [
    "train_predictions_clf = bnb.predict(X_train_clf)"
   ]
  },
  {
   "cell_type": "markdown",
   "id": "761adf68",
   "metadata": {},
   "source": [
    "Given these predictions, the model's training accuracy can be computed."
   ]
  },
  {
   "cell_type": "code",
   "execution_count": 48,
   "id": "9c771311",
   "metadata": {},
   "outputs": [
    {
     "name": "stdout",
     "output_type": "stream",
     "text": [
      "Train Accuracy 0.8728571428571429\n"
     ]
    }
   ],
   "source": [
    "print('Train Accuracy', accuracy_score(y_train_clf, train_predictions_clf))"
   ]
  },
  {
   "cell_type": "markdown",
   "id": "304b6e22",
   "metadata": {},
   "source": [
    "A confusion matrix is also generated with the predictions for a visual representation."
   ]
  },
  {
   "cell_type": "code",
   "execution_count": 49,
   "id": "ee3ec950",
   "metadata": {
    "scrolled": false
   },
   "outputs": [
    {
     "data": {
      "image/png": "[encoded data removed]",
      "text/plain": [
       "<Figure size 432x288 with 2 Axes>"
      ]
     },
     "metadata": {},
     "output_type": "display_data"
    }
   ],
   "source": [
    "ConfusionMatrixDisplay(confusion_matrix(y_train_clf, train_predictions_clf), display_labels=bnb.classes_).plot()\n",
    "plt.show()"
   ]
  },
  {
   "cell_type": "markdown",
   "id": "33f3cc0e",
   "metadata": {},
   "source": [
    "Now, the model will predict the labels of the test data."
   ]
  },
  {
   "cell_type": "code",
   "execution_count": 50,
   "id": "19e34db6",
   "metadata": {},
   "outputs": [],
   "source": [
    "test_predictions_clf = bnb.predict(X_test_clf)"
   ]
  },
  {
   "cell_type": "markdown",
   "id": "741ae3e1",
   "metadata": {},
   "source": [
    "Then, we can check the test accuracy score of the model."
   ]
  },
  {
   "cell_type": "code",
   "execution_count": 51,
   "id": "e18c6035",
   "metadata": {
    "scrolled": true
   },
   "outputs": [
    {
     "name": "stdout",
     "output_type": "stream",
     "text": [
      "Test Accuracy 0.9133333333333333\n"
     ]
    }
   ],
   "source": [
    "print('Test Accuracy', accuracy_score(y_test_clf, test_predictions_clf))"
   ]
  },
  {
   "cell_type": "markdown",
   "id": "b0a2d0f1",
   "metadata": {},
   "source": [
    "And lastly, the test predictions are visualized with a confusion matrix."
   ]
  },
  {
   "cell_type": "code",
   "execution_count": 52,
   "id": "413a90c3",
   "metadata": {
    "scrolled": true
   },
   "outputs": [
    {
     "data": {
      "image/png": "[encoded data removed]",
      "text/plain": [
       "<Figure size 432x288 with 2 Axes>"
      ]
     },
     "metadata": {},
     "output_type": "display_data"
    }
   ],
   "source": [
    "ConfusionMatrixDisplay(confusion_matrix(y_test_clf, test_predictions_clf), display_labels=bnb.classes_).plot()\n",
    "plt.show()"
   ]
  },
  {
   "cell_type": "markdown",
   "id": "5e8dbfb8",
   "metadata": {},
   "source": [
    "##### Figure 5. Confusion Matrix of the Test data of the Bernoulli Naive Bayes\n",
    "Using 300 instances for our test data, we can see from Figure 5 that the Bernoulli Naive Bayes model was able to accurately predict 149 instances of `Class 0` and 148 instances for `Class 1`."
   ]
  },
  {
   "cell_type": "markdown",
   "id": "2d1764b2",
   "metadata": {},
   "source": [
    "#### Tuning the Hyperparameters\n",
    "To further improve this model, the hyperparameters can be tuned. This model will use the same hyperparameters as the `MultinomialNB` model, which tuned the `alpha` and `fit_prior` parameters."
   ]
  },
  {
   "cell_type": "code",
   "execution_count": 53,
   "id": "238b0d83",
   "metadata": {},
   "outputs": [],
   "source": [
    "hyperparameters = [{\n",
    "    'alpha' : [0.001, 0.01, 0.1, 1, 3, 5, 10, 15, 20, 50], \n",
    "    'fit_prior' : [False, True]\n",
    "}]"
   ]
  },
  {
   "cell_type": "markdown",
   "id": "e6a0ca1b",
   "metadata": {},
   "source": [
    "A GridSearchCV will be used to test all combinations of `alpha` and `fit_prior` on the model."
   ]
  },
  {
   "cell_type": "code",
   "execution_count": 54,
   "id": "946397d0",
   "metadata": {},
   "outputs": [],
   "source": [
    "bnb_tuned = GridSearchCV(BernoulliNB(), hyperparameters)"
   ]
  },
  {
   "cell_type": "markdown",
   "id": "a534e879",
   "metadata": {},
   "source": [
    "This cross-validation model will then be trained."
   ]
  },
  {
   "cell_type": "code",
   "execution_count": 55,
   "id": "c203ecdd",
   "metadata": {
    "scrolled": true
   },
   "outputs": [
    {
     "name": "stdout",
     "output_type": "stream",
     "text": [
      "Best parameters: {'alpha': 0.001, 'fit_prior': False}\n",
      "Validation Accuracy 0.872857142857143\n",
      "Wall time: 243 ms\n"
     ]
    }
   ],
   "source": [
    "%%time\n",
    "bnb_tuned.fit(X_train_clf, y_train_clf)\n",
    "print('Best parameters:', bnb_tuned.best_params_)\n",
    "print('Validation Accuracy', bnb_tuned.best_score_)"
   ]
  },
  {
   "cell_type": "markdown",
   "id": "906a8e56",
   "metadata": {},
   "source": [
    "With this, we can gauge the performance of the tuned model."
   ]
  },
  {
   "cell_type": "code",
   "execution_count": 56,
   "id": "e15049ff",
   "metadata": {
    "scrolled": true
   },
   "outputs": [
    {
     "name": "stdout",
     "output_type": "stream",
     "text": [
      "Train Accuracy 0.8728571428571429\n",
      "Test Accuracy 0.9133333333333333\n"
     ]
    },
    {
     "data": {
      "image/png": "[encoded data removed]",
      "text/plain": [
       "<Figure size 432x288 with 2 Axes>"
      ]
     },
     "metadata": {},
     "output_type": "display_data"
    }
   ],
   "source": [
    "train_predictions_clf = bnb_tuned.predict(X_train_clf)\n",
    "print('Train Accuracy', accuracy_score(y_train_clf, train_predictions_clf))\n",
    "test_predictions_clf = bnb_tuned.predict(X_test_clf)\n",
    "print('Test Accuracy', accuracy_score(y_test_clf, test_predictions_clf))\n",
    "ConfusionMatrixDisplay(confusion_matrix(y_test_clf, test_predictions_clf), display_labels=bnb_tuned.classes_).plot()\n",
    "plt.show()"
   ]
  },
  {
   "cell_type": "markdown",
   "id": "1452fb55",
   "metadata": {},
   "source": [
    "##### Figure 6. Confusion Matrix of the Test data of the Tuned Bernoulli Naive Bayes\n",
    "Comparing Figure 5 and Figure 6, we can see that they are the same confusion matrix. This means that tuning the model resulted in the same values for the parameters, thus, resulting in the same model."
   ]
  },
  {
   "cell_type": "markdown",
   "id": "4e77b675",
   "metadata": {},
   "source": [
    "## Conclusion\n",
    "With this, the performance of all three Naive Bayes classifiers has proven to be rather impressive, considering their simplistic algorithm. While these models naturally have their restrictions and disadvantages, the significantly reduced training time and effectiveness in their respective niches should not be discounted when choosing a viable model."
   ]
  },
  {
   "cell_type": "code",
   "execution_count": null,
   "id": "7fd0450e",
   "metadata": {},
   "outputs": [],
   "source": []
  }
 ],
 "metadata": {
  "kernelspec": {
   "display_name": "Python 3",
   "language": "python",
   "name": "python3"
  },
  "language_info": {
   "codemirror_mode": {
    "name": "ipython",
    "version": 3
   },
   "file_extension": ".py",
   "mimetype": "text/x-python",
   "name": "python",
   "nbconvert_exporter": "python",
   "pygments_lexer": "ipython3",
   "version": "3.8.8"
  }
 },
 "nbformat": 4,
 "nbformat_minor": 5
}
