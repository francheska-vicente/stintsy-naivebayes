{
 "cells": [
  {
   "cell_type": "markdown",
   "id": "691b85e4",
   "metadata": {},
   "source": [
    "#### Import Libraries\n",
    "- `numpy` contains a large collection of mathematical functions\n",
    "- `pandas` contains functions that are designed for data manipulation and data analysis"
   ]
  },
  {
   "cell_type": "code",
   "execution_count": 1,
   "id": "d1231b4f",
   "metadata": {},
   "outputs": [],
   "source": [
    "import numpy as np\n",
    "import pandas as pd"
   ]
  },
  {
   "cell_type": "markdown",
   "id": "33d77d55",
   "metadata": {},
   "source": [
    "- `matplotlib.pyplot` contains functions to create interactive plots"
   ]
  },
  {
   "cell_type": "code",
   "execution_count": 2,
   "id": "8002a430",
   "metadata": {},
   "outputs": [],
   "source": [
    "import matplotlib.pyplot as plt\n",
    "%matplotlib inline\n",
    "plt.style.use('ggplot')"
   ]
  },
  {
   "cell_type": "markdown",
   "id": "0c2fa130",
   "metadata": {},
   "source": [
    "- `train_test_split` divides a dataset into two subsets"
   ]
  },
  {
   "cell_type": "code",
   "execution_count": 3,
   "id": "ada60aeb",
   "metadata": {},
   "outputs": [],
   "source": [
    "from sklearn.model_selection import train_test_split"
   ]
  },
  {
   "cell_type": "markdown",
   "id": "f42a827b",
   "metadata": {},
   "source": [
    "- `accuracy_score` computes the accuracy score of a model\n",
    "- `confusion_matrix` computes the confusion matrix of a model\n",
    "- `ConfusionMatrixDisplay` shows the visualization of a confusion matrix"
   ]
  },
  {
   "cell_type": "code",
   "execution_count": 4,
   "id": "99a209cb",
   "metadata": {},
   "outputs": [],
   "source": [
    "from sklearn.metrics import accuracy_score, confusion_matrix, ConfusionMatrixDisplay"
   ]
  },
  {
   "cell_type": "code",
   "execution_count": 87,
   "id": "ab52dedb",
   "metadata": {},
   "outputs": [],
   "source": [
    "from sklearn.model_selection import GridSearchCV"
   ]
  },
  {
   "cell_type": "markdown",
   "id": "e3e9633f",
   "metadata": {},
   "source": [
    "## Gaussian Naive Bayes\n",
    "As said in the module, Gaussian Naive Bayes deals with continuous values, which it assumes to be normally distributed, for its features. Due to this, we would be exploring the iris dataset."
   ]
  },
  {
   "cell_type": "markdown",
   "id": "8744f560",
   "metadata": {},
   "source": [
    "#### Loading the Dataset"
   ]
  },
  {
   "cell_type": "code",
   "execution_count": 9,
   "id": "d1197224",
   "metadata": {},
   "outputs": [],
   "source": [
    "from sklearn.datasets import load_iris"
   ]
  },
  {
   "cell_type": "markdown",
   "id": "cb4e2a71",
   "metadata": {},
   "source": [
    "As seen below, this dataset contains 150 instances with the following features:\n",
    "- sepal length (cm)\t\n",
    "- sepal width (cm)\t\n",
    "- petal length (cm)\t\n",
    "- petal width (cm)\n",
    "\n",
    "Given these features, the task is to determine if the species of a flower is setosa, versicolor, or viriginica, which is represented as `0`, `1`, and `2` respectively."
   ]
  },
  {
   "cell_type": "code",
   "execution_count": 10,
   "id": "df9d28d1",
   "metadata": {
    "scrolled": true
   },
   "outputs": [
    {
     "data": {
      "text/html": [
       "<div>\n",
       "<style scoped>\n",
       "    .dataframe tbody tr th:only-of-type {\n",
       "        vertical-align: middle;\n",
       "    }\n",
       "\n",
       "    .dataframe tbody tr th {\n",
       "        vertical-align: top;\n",
       "    }\n",
       "\n",
       "    .dataframe thead th {\n",
       "        text-align: right;\n",
       "    }\n",
       "</style>\n",
       "<table border=\"1\" class=\"dataframe\">\n",
       "  <thead>\n",
       "    <tr style=\"text-align: right;\">\n",
       "      <th></th>\n",
       "      <th>sepal length (cm)</th>\n",
       "      <th>sepal width (cm)</th>\n",
       "      <th>petal length (cm)</th>\n",
       "      <th>petal width (cm)</th>\n",
       "      <th>species</th>\n",
       "    </tr>\n",
       "  </thead>\n",
       "  <tbody>\n",
       "    <tr>\n",
       "      <th>0</th>\n",
       "      <td>5.1</td>\n",
       "      <td>3.5</td>\n",
       "      <td>1.4</td>\n",
       "      <td>0.2</td>\n",
       "      <td>0</td>\n",
       "    </tr>\n",
       "    <tr>\n",
       "      <th>1</th>\n",
       "      <td>4.9</td>\n",
       "      <td>3.0</td>\n",
       "      <td>1.4</td>\n",
       "      <td>0.2</td>\n",
       "      <td>0</td>\n",
       "    </tr>\n",
       "    <tr>\n",
       "      <th>2</th>\n",
       "      <td>4.7</td>\n",
       "      <td>3.2</td>\n",
       "      <td>1.3</td>\n",
       "      <td>0.2</td>\n",
       "      <td>0</td>\n",
       "    </tr>\n",
       "    <tr>\n",
       "      <th>3</th>\n",
       "      <td>4.6</td>\n",
       "      <td>3.1</td>\n",
       "      <td>1.5</td>\n",
       "      <td>0.2</td>\n",
       "      <td>0</td>\n",
       "    </tr>\n",
       "    <tr>\n",
       "      <th>4</th>\n",
       "      <td>5.0</td>\n",
       "      <td>3.6</td>\n",
       "      <td>1.4</td>\n",
       "      <td>0.2</td>\n",
       "      <td>0</td>\n",
       "    </tr>\n",
       "    <tr>\n",
       "      <th>...</th>\n",
       "      <td>...</td>\n",
       "      <td>...</td>\n",
       "      <td>...</td>\n",
       "      <td>...</td>\n",
       "      <td>...</td>\n",
       "    </tr>\n",
       "    <tr>\n",
       "      <th>145</th>\n",
       "      <td>6.7</td>\n",
       "      <td>3.0</td>\n",
       "      <td>5.2</td>\n",
       "      <td>2.3</td>\n",
       "      <td>2</td>\n",
       "    </tr>\n",
       "    <tr>\n",
       "      <th>146</th>\n",
       "      <td>6.3</td>\n",
       "      <td>2.5</td>\n",
       "      <td>5.0</td>\n",
       "      <td>1.9</td>\n",
       "      <td>2</td>\n",
       "    </tr>\n",
       "    <tr>\n",
       "      <th>147</th>\n",
       "      <td>6.5</td>\n",
       "      <td>3.0</td>\n",
       "      <td>5.2</td>\n",
       "      <td>2.0</td>\n",
       "      <td>2</td>\n",
       "    </tr>\n",
       "    <tr>\n",
       "      <th>148</th>\n",
       "      <td>6.2</td>\n",
       "      <td>3.4</td>\n",
       "      <td>5.4</td>\n",
       "      <td>2.3</td>\n",
       "      <td>2</td>\n",
       "    </tr>\n",
       "    <tr>\n",
       "      <th>149</th>\n",
       "      <td>5.9</td>\n",
       "      <td>3.0</td>\n",
       "      <td>5.1</td>\n",
       "      <td>1.8</td>\n",
       "      <td>2</td>\n",
       "    </tr>\n",
       "  </tbody>\n",
       "</table>\n",
       "<p>150 rows × 5 columns</p>\n",
       "</div>"
      ],
      "text/plain": [
       "     sepal length (cm)  sepal width (cm)  petal length (cm)  petal width (cm)  \\\n",
       "0                  5.1               3.5                1.4               0.2   \n",
       "1                  4.9               3.0                1.4               0.2   \n",
       "2                  4.7               3.2                1.3               0.2   \n",
       "3                  4.6               3.1                1.5               0.2   \n",
       "4                  5.0               3.6                1.4               0.2   \n",
       "..                 ...               ...                ...               ...   \n",
       "145                6.7               3.0                5.2               2.3   \n",
       "146                6.3               2.5                5.0               1.9   \n",
       "147                6.5               3.0                5.2               2.0   \n",
       "148                6.2               3.4                5.4               2.3   \n",
       "149                5.9               3.0                5.1               1.8   \n",
       "\n",
       "     species  \n",
       "0          0  \n",
       "1          0  \n",
       "2          0  \n",
       "3          0  \n",
       "4          0  \n",
       "..       ...  \n",
       "145        2  \n",
       "146        2  \n",
       "147        2  \n",
       "148        2  \n",
       "149        2  \n",
       "\n",
       "[150 rows x 5 columns]"
      ]
     },
     "execution_count": 10,
     "metadata": {},
     "output_type": "execute_result"
    }
   ],
   "source": [
    "data_iris = load_iris()\n",
    "iris = pd.DataFrame(data_iris.data,columns=data_iris.feature_names)\n",
    "iris['species'] = pd.Series(data_iris.target)\n",
    "iris"
   ]
  },
  {
   "cell_type": "markdown",
   "id": "7fe7e9b6",
   "metadata": {},
   "source": [
    "The `X` will now be separated from our target `y`. "
   ]
  },
  {
   "cell_type": "code",
   "execution_count": 11,
   "id": "0c4e47f1",
   "metadata": {},
   "outputs": [],
   "source": [
    "X_iris = iris.values[:,:-1]\n",
    "y_iris = iris.values[:,-1].astype(int)"
   ]
  },
  {
   "cell_type": "markdown",
   "id": "2bbfc936",
   "metadata": {},
   "source": [
    "Lastly, the training set is separated from the test set."
   ]
  },
  {
   "cell_type": "code",
   "execution_count": 12,
   "id": "e4c52cea",
   "metadata": {},
   "outputs": [],
   "source": [
    "X_train_iris, X_test_iris, y_train_iris, y_test_iris = train_test_split(X_iris, y_iris, stratify=y_iris, test_size=0.3, random_state=8)"
   ]
  },
  {
   "attachments": {},
   "cell_type": "markdown",
   "id": "086fff94",
   "metadata": {},
   "source": [
    "#### Training the Model\n",
    "We would be using sklearn's `GaussianNB` model."
   ]
  },
  {
   "cell_type": "code",
   "execution_count": 13,
   "id": "f6357124",
   "metadata": {},
   "outputs": [],
   "source": [
    "from sklearn.naive_bayes import GaussianNB"
   ]
  },
  {
   "cell_type": "markdown",
   "id": "ef0c95e8",
   "metadata": {},
   "source": [
    "First, we will initialize the GaussianNB model with default parameters."
   ]
  },
  {
   "cell_type": "code",
   "execution_count": 14,
   "id": "a6bf9ad2",
   "metadata": {},
   "outputs": [],
   "source": [
    "gnb = GaussianNB()"
   ]
  },
  {
   "cell_type": "markdown",
   "id": "9d7bb65f",
   "metadata": {},
   "source": [
    "This model is fitted with the `X_train_iris` and `y_train_iris` as follows:"
   ]
  },
  {
   "cell_type": "code",
   "execution_count": 15,
   "id": "2bebae99",
   "metadata": {
    "scrolled": true
   },
   "outputs": [
    {
     "data": {
      "text/html": [
       "<style>#sk-container-id-1 {color: black;background-color: white;}#sk-container-id-1 pre{padding: 0;}#sk-container-id-1 div.sk-toggleable {background-color: white;}#sk-container-id-1 label.sk-toggleable__label {cursor: pointer;display: block;width: 100%;margin-bottom: 0;padding: 0.3em;box-sizing: border-box;text-align: center;}#sk-container-id-1 label.sk-toggleable__label-arrow:before {content: \"▸\";float: left;margin-right: 0.25em;color: #696969;}#sk-container-id-1 label.sk-toggleable__label-arrow:hover:before {color: black;}#sk-container-id-1 div.sk-estimator:hover label.sk-toggleable__label-arrow:before {color: black;}#sk-container-id-1 div.sk-toggleable__content {max-height: 0;max-width: 0;overflow: hidden;text-align: left;background-color: #f0f8ff;}#sk-container-id-1 div.sk-toggleable__content pre {margin: 0.2em;color: black;border-radius: 0.25em;background-color: #f0f8ff;}#sk-container-id-1 input.sk-toggleable__control:checked~div.sk-toggleable__content {max-height: 200px;max-width: 100%;overflow: auto;}#sk-container-id-1 input.sk-toggleable__control:checked~label.sk-toggleable__label-arrow:before {content: \"▾\";}#sk-container-id-1 div.sk-estimator input.sk-toggleable__control:checked~label.sk-toggleable__label {background-color: #d4ebff;}#sk-container-id-1 div.sk-label input.sk-toggleable__control:checked~label.sk-toggleable__label {background-color: #d4ebff;}#sk-container-id-1 input.sk-hidden--visually {border: 0;clip: rect(1px 1px 1px 1px);clip: rect(1px, 1px, 1px, 1px);height: 1px;margin: -1px;overflow: hidden;padding: 0;position: absolute;width: 1px;}#sk-container-id-1 div.sk-estimator {font-family: monospace;background-color: #f0f8ff;border: 1px dotted black;border-radius: 0.25em;box-sizing: border-box;margin-bottom: 0.5em;}#sk-container-id-1 div.sk-estimator:hover {background-color: #d4ebff;}#sk-container-id-1 div.sk-parallel-item::after {content: \"\";width: 100%;border-bottom: 1px solid gray;flex-grow: 1;}#sk-container-id-1 div.sk-label:hover label.sk-toggleable__label {background-color: #d4ebff;}#sk-container-id-1 div.sk-serial::before {content: \"\";position: absolute;border-left: 1px solid gray;box-sizing: border-box;top: 0;bottom: 0;left: 50%;z-index: 0;}#sk-container-id-1 div.sk-serial {display: flex;flex-direction: column;align-items: center;background-color: white;padding-right: 0.2em;padding-left: 0.2em;position: relative;}#sk-container-id-1 div.sk-item {position: relative;z-index: 1;}#sk-container-id-1 div.sk-parallel {display: flex;align-items: stretch;justify-content: center;background-color: white;position: relative;}#sk-container-id-1 div.sk-item::before, #sk-container-id-1 div.sk-parallel-item::before {content: \"\";position: absolute;border-left: 1px solid gray;box-sizing: border-box;top: 0;bottom: 0;left: 50%;z-index: -1;}#sk-container-id-1 div.sk-parallel-item {display: flex;flex-direction: column;z-index: 1;position: relative;background-color: white;}#sk-container-id-1 div.sk-parallel-item:first-child::after {align-self: flex-end;width: 50%;}#sk-container-id-1 div.sk-parallel-item:last-child::after {align-self: flex-start;width: 50%;}#sk-container-id-1 div.sk-parallel-item:only-child::after {width: 0;}#sk-container-id-1 div.sk-dashed-wrapped {border: 1px dashed gray;margin: 0 0.4em 0.5em 0.4em;box-sizing: border-box;padding-bottom: 0.4em;background-color: white;}#sk-container-id-1 div.sk-label label {font-family: monospace;font-weight: bold;display: inline-block;line-height: 1.2em;}#sk-container-id-1 div.sk-label-container {text-align: center;}#sk-container-id-1 div.sk-container {/* jupyter's `normalize.less` sets `[hidden] { display: none; }` but bootstrap.min.css set `[hidden] { display: none !important; }` so we also need the `!important` here to be able to override the default hidden behavior on the sphinx rendered scikit-learn.org. See: https://github.com/scikit-learn/scikit-learn/issues/21755 */display: inline-block !important;position: relative;}#sk-container-id-1 div.sk-text-repr-fallback {display: none;}</style><div id=\"sk-container-id-1\" class=\"sk-top-container\"><div class=\"sk-text-repr-fallback\"><pre>GaussianNB()</pre><b>In a Jupyter environment, please rerun this cell to show the HTML representation or trust the notebook. <br />On GitHub, the HTML representation is unable to render, please try loading this page with nbviewer.org.</b></div><div class=\"sk-container\" hidden><div class=\"sk-item\"><div class=\"sk-estimator sk-toggleable\"><input class=\"sk-toggleable__control sk-hidden--visually\" id=\"sk-estimator-id-1\" type=\"checkbox\" checked><label for=\"sk-estimator-id-1\" class=\"sk-toggleable__label sk-toggleable__label-arrow\">GaussianNB</label><div class=\"sk-toggleable__content\"><pre>GaussianNB()</pre></div></div></div></div></div>"
      ],
      "text/plain": [
       "GaussianNB()"
      ]
     },
     "execution_count": 15,
     "metadata": {},
     "output_type": "execute_result"
    }
   ],
   "source": [
    "gnb.fit(X_train_iris, y_train_iris)"
   ]
  },
  {
   "cell_type": "markdown",
   "id": "c5b9b432",
   "metadata": {},
   "source": [
    "#### Checking the Performance\n",
    "The train predictions will now be retrieved."
   ]
  },
  {
   "cell_type": "code",
   "execution_count": 16,
   "id": "8865c213",
   "metadata": {},
   "outputs": [],
   "source": [
    "train_predictions_iris = gnb.predict(X_train_iris)"
   ]
  },
  {
   "cell_type": "markdown",
   "id": "7d951387",
   "metadata": {},
   "source": [
    "With these predictions, the training accuracy of the model can be computed."
   ]
  },
  {
   "cell_type": "code",
   "execution_count": 17,
   "id": "04bb89c4",
   "metadata": {},
   "outputs": [
    {
     "name": "stdout",
     "output_type": "stream",
     "text": [
      "Train Accuracy 0.9904761904761905\n"
     ]
    }
   ],
   "source": [
    "print('Train Accuracy', accuracy_score(y_train_iris, train_predictions_iris))"
   ]
  },
  {
   "cell_type": "markdown",
   "id": "625e209f",
   "metadata": {},
   "source": [
    "To visualize the train prediction results, a confusion matrix is generated."
   ]
  },
  {
   "cell_type": "code",
   "execution_count": 18,
   "id": "9bab685c",
   "metadata": {
    "scrolled": true
   },
   "outputs": [
    {
     "data": {
      "image/png": "[encoded data removed]",
      "text/plain": [
       "<Figure size 432x288 with 2 Axes>"
      ]
     },
     "metadata": {},
     "output_type": "display_data"
    }
   ],
   "source": [
    "ConfusionMatrixDisplay(confusion_matrix(y_train_iris, train_predictions_iris), display_labels=gnb.classes_).plot()\n",
    "plt.show()"
   ]
  },
  {
   "cell_type": "markdown",
   "id": "8ae563c3",
   "metadata": {},
   "source": [
    "Now, let us get the model's test predictions."
   ]
  },
  {
   "cell_type": "code",
   "execution_count": 19,
   "id": "63c87a86",
   "metadata": {},
   "outputs": [],
   "source": [
    "test_predictions_iris = gnb.predict(X_test_iris)"
   ]
  },
  {
   "cell_type": "markdown",
   "id": "0c756320",
   "metadata": {},
   "source": [
    "Then, we can check the test accuracy score of the model."
   ]
  },
  {
   "cell_type": "code",
   "execution_count": 20,
   "id": "b0ab62ee",
   "metadata": {},
   "outputs": [
    {
     "name": "stdout",
     "output_type": "stream",
     "text": [
      "Test Accuracy 0.8666666666666667\n"
     ]
    }
   ],
   "source": [
    "print('Test Accuracy', accuracy_score(y_test_iris, test_predictions_iris))"
   ]
  },
  {
   "cell_type": "markdown",
   "id": "486dad1c",
   "metadata": {},
   "source": [
    "And lastly, the test predictions are visualized with a confusion matrix."
   ]
  },
  {
   "cell_type": "code",
   "execution_count": 21,
   "id": "de334d4b",
   "metadata": {
    "scrolled": true
   },
   "outputs": [
    {
     "data": {
      "image/png": "[encoded data removed]",
      "text/plain": [
       "<Figure size 432x288 with 2 Axes>"
      ]
     },
     "metadata": {},
     "output_type": "display_data"
    }
   ],
   "source": [
    "ConfusionMatrixDisplay(confusion_matrix(y_test_iris, test_predictions_iris), display_labels=gnb.classes_).plot()\n",
    "plt.show()"
   ]
  },
  {
   "cell_type": "markdown",
   "id": "6496f80f",
   "metadata": {},
   "source": [
    "TODO: chuchuchu"
   ]
  },
  {
   "cell_type": "markdown",
   "id": "b9fb585e",
   "metadata": {},
   "source": [
    "#### Tuning the Hyperparameters\n",
    "To further improve this model, the hyperparameters can be tuned."
   ]
  },
  {
   "cell_type": "code",
   "execution_count": 116,
   "id": "2e6b920a",
   "metadata": {},
   "outputs": [],
   "source": [
    "hyperparameters = [{\n",
    "    'var_smoothing' : [1e-9, 1e-6, 1e-3, 1]\n",
    "}]"
   ]
  },
  {
   "cell_type": "markdown",
   "id": "7a078aa9",
   "metadata": {},
   "source": [
    "A GridSearchCV will be used to test all combinations of `alpha` and `fit_prior` on the model."
   ]
  },
  {
   "cell_type": "code",
   "execution_count": 117,
   "id": "0a2cf05d",
   "metadata": {},
   "outputs": [],
   "source": [
    "gnb_tuned = GridSearchCV(GaussianNB(), hyperparameters)"
   ]
  },
  {
   "cell_type": "markdown",
   "id": "68569e00",
   "metadata": {},
   "source": [
    "This cross-validation model will then be trained."
   ]
  },
  {
   "cell_type": "code",
   "execution_count": 118,
   "id": "1e550643",
   "metadata": {
    "scrolled": true
   },
   "outputs": [
    {
     "name": "stdout",
     "output_type": "stream",
     "text": [
      "Best parameters: {'var_smoothing': 1e-09}\n",
      "Validation Accuracy 0.980952380952381\n"
     ]
    }
   ],
   "source": [
    "gnb_tuned.fit(X_train_iris, y_train_iris)\n",
    "print('Best parameters:', gnb_tuned.best_params_)\n",
    "print('Validation Accuracy', gnb_tuned.best_score_)"
   ]
  },
  {
   "cell_type": "markdown",
   "id": "2a2ac8a1",
   "metadata": {},
   "source": [
    "With this, we can gauge the performance of the tuned model."
   ]
  },
  {
   "cell_type": "code",
   "execution_count": 121,
   "id": "12aecef0",
   "metadata": {
    "scrolled": true
   },
   "outputs": [
    {
     "name": "stdout",
     "output_type": "stream",
     "text": [
      "Train Accuracy 0.9904761904761905\n",
      "Test Accuracy 0.8666666666666667\n"
     ]
    },
    {
     "data": {
      "image/png": "[encoded data removed]",
      "text/plain": [
       "<Figure size 432x288 with 2 Axes>"
      ]
     },
     "metadata": {},
     "output_type": "display_data"
    }
   ],
   "source": [
    "train_predictions_iris = gnb_tuned.predict(X_train_iris)\n",
    "print('Train Accuracy', accuracy_score(y_train_iris, train_predictions_iris))\n",
    "test_predictions_iris = gnb_tuned.predict(X_test_iris)\n",
    "print('Test Accuracy', accuracy_score(y_test_iris, test_predictions_iris))\n",
    "ConfusionMatrixDisplay(confusion_matrix(y_test_iris, test_predictions_iris), display_labels=gnb_tuned.classes_).plot()\n",
    "plt.show()"
   ]
  },
  {
   "cell_type": "markdown",
   "id": "906e7a72",
   "metadata": {},
   "source": [
    "TODO: chuchuchu"
   ]
  },
  {
   "cell_type": "markdown",
   "id": "561bc7ab",
   "metadata": {},
   "source": [
    "## Multinomial Naive Bayes\n",
    "While Gaussian Naive Bayes deal with continuous data, Multinomial Naive Bayes handles discrete data—this does not necessarily mean whole numbers, but this means numbers that represent occurrences and proportions. The digits dataset will be used to demonstrate the capabilities of Multinomial Naive Bayes."
   ]
  },
  {
   "cell_type": "markdown",
   "id": "c9a5c04f",
   "metadata": {},
   "source": [
    "#### Loading the Dataset"
   ]
  },
  {
   "cell_type": "code",
   "execution_count": 93,
   "id": "7c07867a",
   "metadata": {},
   "outputs": [],
   "source": [
    "from sklearn.datasets import load_digits"
   ]
  },
  {
   "cell_type": "markdown",
   "id": "5a760a0f",
   "metadata": {},
   "source": [
    "As seen below, this dataset contains 1797 instances with each feature corresponding to a pixel for an 8x8 image (e.g., `pixel_0_0`). \n",
    "\n",
    "With these features, the task is to determine which number (i.e., from 0-9) is represented in an image."
   ]
  },
  {
   "cell_type": "code",
   "execution_count": 94,
   "id": "29276365",
   "metadata": {
    "scrolled": true
   },
   "outputs": [
    {
     "data": {
      "text/html": [
       "<div>\n",
       "<style scoped>\n",
       "    .dataframe tbody tr th:only-of-type {\n",
       "        vertical-align: middle;\n",
       "    }\n",
       "\n",
       "    .dataframe tbody tr th {\n",
       "        vertical-align: top;\n",
       "    }\n",
       "\n",
       "    .dataframe thead th {\n",
       "        text-align: right;\n",
       "    }\n",
       "</style>\n",
       "<table border=\"1\" class=\"dataframe\">\n",
       "  <thead>\n",
       "    <tr style=\"text-align: right;\">\n",
       "      <th></th>\n",
       "      <th>pixel_0_0</th>\n",
       "      <th>pixel_0_1</th>\n",
       "      <th>pixel_0_2</th>\n",
       "      <th>pixel_0_3</th>\n",
       "      <th>pixel_0_4</th>\n",
       "      <th>pixel_0_5</th>\n",
       "      <th>pixel_0_6</th>\n",
       "      <th>pixel_0_7</th>\n",
       "      <th>pixel_1_0</th>\n",
       "      <th>pixel_1_1</th>\n",
       "      <th>...</th>\n",
       "      <th>pixel_6_7</th>\n",
       "      <th>pixel_7_0</th>\n",
       "      <th>pixel_7_1</th>\n",
       "      <th>pixel_7_2</th>\n",
       "      <th>pixel_7_3</th>\n",
       "      <th>pixel_7_4</th>\n",
       "      <th>pixel_7_5</th>\n",
       "      <th>pixel_7_6</th>\n",
       "      <th>pixel_7_7</th>\n",
       "      <th>target</th>\n",
       "    </tr>\n",
       "  </thead>\n",
       "  <tbody>\n",
       "    <tr>\n",
       "      <th>0</th>\n",
       "      <td>0.0</td>\n",
       "      <td>0.0</td>\n",
       "      <td>5.0</td>\n",
       "      <td>13.0</td>\n",
       "      <td>9.0</td>\n",
       "      <td>1.0</td>\n",
       "      <td>0.0</td>\n",
       "      <td>0.0</td>\n",
       "      <td>0.0</td>\n",
       "      <td>0.0</td>\n",
       "      <td>...</td>\n",
       "      <td>0.0</td>\n",
       "      <td>0.0</td>\n",
       "      <td>0.0</td>\n",
       "      <td>6.0</td>\n",
       "      <td>13.0</td>\n",
       "      <td>10.0</td>\n",
       "      <td>0.0</td>\n",
       "      <td>0.0</td>\n",
       "      <td>0.0</td>\n",
       "      <td>0</td>\n",
       "    </tr>\n",
       "    <tr>\n",
       "      <th>1</th>\n",
       "      <td>0.0</td>\n",
       "      <td>0.0</td>\n",
       "      <td>0.0</td>\n",
       "      <td>12.0</td>\n",
       "      <td>13.0</td>\n",
       "      <td>5.0</td>\n",
       "      <td>0.0</td>\n",
       "      <td>0.0</td>\n",
       "      <td>0.0</td>\n",
       "      <td>0.0</td>\n",
       "      <td>...</td>\n",
       "      <td>0.0</td>\n",
       "      <td>0.0</td>\n",
       "      <td>0.0</td>\n",
       "      <td>0.0</td>\n",
       "      <td>11.0</td>\n",
       "      <td>16.0</td>\n",
       "      <td>10.0</td>\n",
       "      <td>0.0</td>\n",
       "      <td>0.0</td>\n",
       "      <td>1</td>\n",
       "    </tr>\n",
       "    <tr>\n",
       "      <th>2</th>\n",
       "      <td>0.0</td>\n",
       "      <td>0.0</td>\n",
       "      <td>0.0</td>\n",
       "      <td>4.0</td>\n",
       "      <td>15.0</td>\n",
       "      <td>12.0</td>\n",
       "      <td>0.0</td>\n",
       "      <td>0.0</td>\n",
       "      <td>0.0</td>\n",
       "      <td>0.0</td>\n",
       "      <td>...</td>\n",
       "      <td>0.0</td>\n",
       "      <td>0.0</td>\n",
       "      <td>0.0</td>\n",
       "      <td>0.0</td>\n",
       "      <td>3.0</td>\n",
       "      <td>11.0</td>\n",
       "      <td>16.0</td>\n",
       "      <td>9.0</td>\n",
       "      <td>0.0</td>\n",
       "      <td>2</td>\n",
       "    </tr>\n",
       "    <tr>\n",
       "      <th>3</th>\n",
       "      <td>0.0</td>\n",
       "      <td>0.0</td>\n",
       "      <td>7.0</td>\n",
       "      <td>15.0</td>\n",
       "      <td>13.0</td>\n",
       "      <td>1.0</td>\n",
       "      <td>0.0</td>\n",
       "      <td>0.0</td>\n",
       "      <td>0.0</td>\n",
       "      <td>8.0</td>\n",
       "      <td>...</td>\n",
       "      <td>0.0</td>\n",
       "      <td>0.0</td>\n",
       "      <td>0.0</td>\n",
       "      <td>7.0</td>\n",
       "      <td>13.0</td>\n",
       "      <td>13.0</td>\n",
       "      <td>9.0</td>\n",
       "      <td>0.0</td>\n",
       "      <td>0.0</td>\n",
       "      <td>3</td>\n",
       "    </tr>\n",
       "    <tr>\n",
       "      <th>4</th>\n",
       "      <td>0.0</td>\n",
       "      <td>0.0</td>\n",
       "      <td>0.0</td>\n",
       "      <td>1.0</td>\n",
       "      <td>11.0</td>\n",
       "      <td>0.0</td>\n",
       "      <td>0.0</td>\n",
       "      <td>0.0</td>\n",
       "      <td>0.0</td>\n",
       "      <td>0.0</td>\n",
       "      <td>...</td>\n",
       "      <td>0.0</td>\n",
       "      <td>0.0</td>\n",
       "      <td>0.0</td>\n",
       "      <td>0.0</td>\n",
       "      <td>2.0</td>\n",
       "      <td>16.0</td>\n",
       "      <td>4.0</td>\n",
       "      <td>0.0</td>\n",
       "      <td>0.0</td>\n",
       "      <td>4</td>\n",
       "    </tr>\n",
       "    <tr>\n",
       "      <th>...</th>\n",
       "      <td>...</td>\n",
       "      <td>...</td>\n",
       "      <td>...</td>\n",
       "      <td>...</td>\n",
       "      <td>...</td>\n",
       "      <td>...</td>\n",
       "      <td>...</td>\n",
       "      <td>...</td>\n",
       "      <td>...</td>\n",
       "      <td>...</td>\n",
       "      <td>...</td>\n",
       "      <td>...</td>\n",
       "      <td>...</td>\n",
       "      <td>...</td>\n",
       "      <td>...</td>\n",
       "      <td>...</td>\n",
       "      <td>...</td>\n",
       "      <td>...</td>\n",
       "      <td>...</td>\n",
       "      <td>...</td>\n",
       "      <td>...</td>\n",
       "    </tr>\n",
       "    <tr>\n",
       "      <th>1792</th>\n",
       "      <td>0.0</td>\n",
       "      <td>0.0</td>\n",
       "      <td>4.0</td>\n",
       "      <td>10.0</td>\n",
       "      <td>13.0</td>\n",
       "      <td>6.0</td>\n",
       "      <td>0.0</td>\n",
       "      <td>0.0</td>\n",
       "      <td>0.0</td>\n",
       "      <td>1.0</td>\n",
       "      <td>...</td>\n",
       "      <td>0.0</td>\n",
       "      <td>0.0</td>\n",
       "      <td>0.0</td>\n",
       "      <td>2.0</td>\n",
       "      <td>14.0</td>\n",
       "      <td>15.0</td>\n",
       "      <td>9.0</td>\n",
       "      <td>0.0</td>\n",
       "      <td>0.0</td>\n",
       "      <td>9</td>\n",
       "    </tr>\n",
       "    <tr>\n",
       "      <th>1793</th>\n",
       "      <td>0.0</td>\n",
       "      <td>0.0</td>\n",
       "      <td>6.0</td>\n",
       "      <td>16.0</td>\n",
       "      <td>13.0</td>\n",
       "      <td>11.0</td>\n",
       "      <td>1.0</td>\n",
       "      <td>0.0</td>\n",
       "      <td>0.0</td>\n",
       "      <td>0.0</td>\n",
       "      <td>...</td>\n",
       "      <td>0.0</td>\n",
       "      <td>0.0</td>\n",
       "      <td>0.0</td>\n",
       "      <td>6.0</td>\n",
       "      <td>16.0</td>\n",
       "      <td>14.0</td>\n",
       "      <td>6.0</td>\n",
       "      <td>0.0</td>\n",
       "      <td>0.0</td>\n",
       "      <td>0</td>\n",
       "    </tr>\n",
       "    <tr>\n",
       "      <th>1794</th>\n",
       "      <td>0.0</td>\n",
       "      <td>0.0</td>\n",
       "      <td>1.0</td>\n",
       "      <td>11.0</td>\n",
       "      <td>15.0</td>\n",
       "      <td>1.0</td>\n",
       "      <td>0.0</td>\n",
       "      <td>0.0</td>\n",
       "      <td>0.0</td>\n",
       "      <td>0.0</td>\n",
       "      <td>...</td>\n",
       "      <td>0.0</td>\n",
       "      <td>0.0</td>\n",
       "      <td>0.0</td>\n",
       "      <td>2.0</td>\n",
       "      <td>9.0</td>\n",
       "      <td>13.0</td>\n",
       "      <td>6.0</td>\n",
       "      <td>0.0</td>\n",
       "      <td>0.0</td>\n",
       "      <td>8</td>\n",
       "    </tr>\n",
       "    <tr>\n",
       "      <th>1795</th>\n",
       "      <td>0.0</td>\n",
       "      <td>0.0</td>\n",
       "      <td>2.0</td>\n",
       "      <td>10.0</td>\n",
       "      <td>7.0</td>\n",
       "      <td>0.0</td>\n",
       "      <td>0.0</td>\n",
       "      <td>0.0</td>\n",
       "      <td>0.0</td>\n",
       "      <td>0.0</td>\n",
       "      <td>...</td>\n",
       "      <td>0.0</td>\n",
       "      <td>0.0</td>\n",
       "      <td>0.0</td>\n",
       "      <td>5.0</td>\n",
       "      <td>12.0</td>\n",
       "      <td>16.0</td>\n",
       "      <td>12.0</td>\n",
       "      <td>0.0</td>\n",
       "      <td>0.0</td>\n",
       "      <td>9</td>\n",
       "    </tr>\n",
       "    <tr>\n",
       "      <th>1796</th>\n",
       "      <td>0.0</td>\n",
       "      <td>0.0</td>\n",
       "      <td>10.0</td>\n",
       "      <td>14.0</td>\n",
       "      <td>8.0</td>\n",
       "      <td>1.0</td>\n",
       "      <td>0.0</td>\n",
       "      <td>0.0</td>\n",
       "      <td>0.0</td>\n",
       "      <td>2.0</td>\n",
       "      <td>...</td>\n",
       "      <td>0.0</td>\n",
       "      <td>0.0</td>\n",
       "      <td>1.0</td>\n",
       "      <td>8.0</td>\n",
       "      <td>12.0</td>\n",
       "      <td>14.0</td>\n",
       "      <td>12.0</td>\n",
       "      <td>1.0</td>\n",
       "      <td>0.0</td>\n",
       "      <td>8</td>\n",
       "    </tr>\n",
       "  </tbody>\n",
       "</table>\n",
       "<p>1797 rows × 65 columns</p>\n",
       "</div>"
      ],
      "text/plain": [
       "      pixel_0_0  pixel_0_1  pixel_0_2  pixel_0_3  pixel_0_4  pixel_0_5  \\\n",
       "0           0.0        0.0        5.0       13.0        9.0        1.0   \n",
       "1           0.0        0.0        0.0       12.0       13.0        5.0   \n",
       "2           0.0        0.0        0.0        4.0       15.0       12.0   \n",
       "3           0.0        0.0        7.0       15.0       13.0        1.0   \n",
       "4           0.0        0.0        0.0        1.0       11.0        0.0   \n",
       "...         ...        ...        ...        ...        ...        ...   \n",
       "1792        0.0        0.0        4.0       10.0       13.0        6.0   \n",
       "1793        0.0        0.0        6.0       16.0       13.0       11.0   \n",
       "1794        0.0        0.0        1.0       11.0       15.0        1.0   \n",
       "1795        0.0        0.0        2.0       10.0        7.0        0.0   \n",
       "1796        0.0        0.0       10.0       14.0        8.0        1.0   \n",
       "\n",
       "      pixel_0_6  pixel_0_7  pixel_1_0  pixel_1_1  ...  pixel_6_7  pixel_7_0  \\\n",
       "0           0.0        0.0        0.0        0.0  ...        0.0        0.0   \n",
       "1           0.0        0.0        0.0        0.0  ...        0.0        0.0   \n",
       "2           0.0        0.0        0.0        0.0  ...        0.0        0.0   \n",
       "3           0.0        0.0        0.0        8.0  ...        0.0        0.0   \n",
       "4           0.0        0.0        0.0        0.0  ...        0.0        0.0   \n",
       "...         ...        ...        ...        ...  ...        ...        ...   \n",
       "1792        0.0        0.0        0.0        1.0  ...        0.0        0.0   \n",
       "1793        1.0        0.0        0.0        0.0  ...        0.0        0.0   \n",
       "1794        0.0        0.0        0.0        0.0  ...        0.0        0.0   \n",
       "1795        0.0        0.0        0.0        0.0  ...        0.0        0.0   \n",
       "1796        0.0        0.0        0.0        2.0  ...        0.0        0.0   \n",
       "\n",
       "      pixel_7_1  pixel_7_2  pixel_7_3  pixel_7_4  pixel_7_5  pixel_7_6  \\\n",
       "0           0.0        6.0       13.0       10.0        0.0        0.0   \n",
       "1           0.0        0.0       11.0       16.0       10.0        0.0   \n",
       "2           0.0        0.0        3.0       11.0       16.0        9.0   \n",
       "3           0.0        7.0       13.0       13.0        9.0        0.0   \n",
       "4           0.0        0.0        2.0       16.0        4.0        0.0   \n",
       "...         ...        ...        ...        ...        ...        ...   \n",
       "1792        0.0        2.0       14.0       15.0        9.0        0.0   \n",
       "1793        0.0        6.0       16.0       14.0        6.0        0.0   \n",
       "1794        0.0        2.0        9.0       13.0        6.0        0.0   \n",
       "1795        0.0        5.0       12.0       16.0       12.0        0.0   \n",
       "1796        1.0        8.0       12.0       14.0       12.0        1.0   \n",
       "\n",
       "      pixel_7_7  target  \n",
       "0           0.0       0  \n",
       "1           0.0       1  \n",
       "2           0.0       2  \n",
       "3           0.0       3  \n",
       "4           0.0       4  \n",
       "...         ...     ...  \n",
       "1792        0.0       9  \n",
       "1793        0.0       0  \n",
       "1794        0.0       8  \n",
       "1795        0.0       9  \n",
       "1796        0.0       8  \n",
       "\n",
       "[1797 rows x 65 columns]"
      ]
     },
     "execution_count": 94,
     "metadata": {},
     "output_type": "execute_result"
    }
   ],
   "source": [
    "data_digits = load_digits()\n",
    "digits = pd.DataFrame(data_digits.data,columns=data_digits.feature_names)\n",
    "digits['target'] = pd.Series(data_digits.target)\n",
    "digits"
   ]
  },
  {
   "cell_type": "markdown",
   "id": "edbf398c",
   "metadata": {},
   "source": [
    "The `X` will now be separated from our target `y`. "
   ]
  },
  {
   "cell_type": "code",
   "execution_count": 95,
   "id": "2a61dba0",
   "metadata": {},
   "outputs": [],
   "source": [
    "X_digits = digits.values[:,:-1]\n",
    "y_digits = digits.values[:,-1].astype(int)"
   ]
  },
  {
   "cell_type": "markdown",
   "id": "df65188a",
   "metadata": {},
   "source": [
    "Lastly, the training set is separated from the test set."
   ]
  },
  {
   "cell_type": "code",
   "execution_count": 96,
   "id": "dd052cff",
   "metadata": {},
   "outputs": [],
   "source": [
    "X_train_digits, X_test_digits, y_train_digits, y_test_digits = train_test_split(X_digits, y_digits, stratify=y_digits, test_size=0.3, random_state=8)"
   ]
  },
  {
   "attachments": {},
   "cell_type": "markdown",
   "id": "f68749e3",
   "metadata": {},
   "source": [
    "#### Training the Model\n",
    "To explore how we train a Multinomial Naive Bayes model, we will import sklearn's `MultinomialNB` class."
   ]
  },
  {
   "cell_type": "code",
   "execution_count": 97,
   "id": "5bb1ca5c",
   "metadata": {},
   "outputs": [],
   "source": [
    "from sklearn.naive_bayes import MultinomialNB"
   ]
  },
  {
   "cell_type": "markdown",
   "id": "451812d3",
   "metadata": {},
   "source": [
    "As we now have imported the needed classes, we can now declare a `MultinomialNB` object with the default parameters: (1) **alpha = 1.0**, which means that the Additive smoothing is equal to 1 (i.e., we assume that all events are seen at least once), and (2) **fit_prior = True**, which means class prior probabilities are computed."
   ]
  },
  {
   "cell_type": "code",
   "execution_count": 98,
   "id": "f7ceea56",
   "metadata": {},
   "outputs": [],
   "source": [
    "mnb = MultinomialNB()"
   ]
  },
  {
   "cell_type": "markdown",
   "id": "973927e1",
   "metadata": {},
   "source": [
    "This model is trained using the `X_train_digits` and `y_train_digits` data as follows:"
   ]
  },
  {
   "cell_type": "code",
   "execution_count": 99,
   "id": "b32e4ec5",
   "metadata": {
    "scrolled": true
   },
   "outputs": [
    {
     "data": {
      "text/plain": [
       "MultinomialNB()"
      ]
     },
     "execution_count": 99,
     "metadata": {},
     "output_type": "execute_result"
    }
   ],
   "source": [
    "mnb.fit(X_train_digits, y_train_digits)"
   ]
  },
  {
   "cell_type": "markdown",
   "id": "b3c127e8",
   "metadata": {},
   "source": [
    "#### Checking the Performance\n",
    "The train predictions of this model will now be obtained."
   ]
  },
  {
   "cell_type": "code",
   "execution_count": 100,
   "id": "a6d183ef",
   "metadata": {},
   "outputs": [],
   "source": [
    "train_predictions_digits = mnb.predict(X_train_digits)"
   ]
  },
  {
   "cell_type": "markdown",
   "id": "3fea6ac7",
   "metadata": {},
   "source": [
    "Given these predictions, the model's training accuracy can be computed."
   ]
  },
  {
   "cell_type": "code",
   "execution_count": 101,
   "id": "cd4b4490",
   "metadata": {
    "scrolled": true
   },
   "outputs": [
    {
     "name": "stdout",
     "output_type": "stream",
     "text": [
      "Train Accuracy 0.9132856006364359\n"
     ]
    }
   ],
   "source": [
    "print('Train Accuracy', accuracy_score(y_train_digits, train_predictions_digits))"
   ]
  },
  {
   "cell_type": "markdown",
   "id": "55a880c3",
   "metadata": {},
   "source": [
    "A confusion matrix is also generated with the predictions for a visual representation."
   ]
  },
  {
   "cell_type": "code",
   "execution_count": 102,
   "id": "b6ab9fc3",
   "metadata": {
    "scrolled": false
   },
   "outputs": [
    {
     "data": {
      "image/png": "[encoded data removed]",
      "text/plain": [
       "<Figure size 432x288 with 2 Axes>"
      ]
     },
     "metadata": {},
     "output_type": "display_data"
    }
   ],
   "source": [
    "cm = confusion_matrix(y_train_digits, train_predictions_digits, labels=mnb.classes_)\n",
    "ConfusionMatrixDisplay(confusion_matrix=cm, display_labels=mnb.classes_).plot()\n",
    "plt.show()"
   ]
  },
  {
   "cell_type": "markdown",
   "id": "3d3f055a",
   "metadata": {},
   "source": [
    "Now, the model will predict the labels of the test data."
   ]
  },
  {
   "cell_type": "code",
   "execution_count": 103,
   "id": "8f66b8e3",
   "metadata": {},
   "outputs": [],
   "source": [
    "test_predictions_digits = mnb.predict(X_test_digits)"
   ]
  },
  {
   "cell_type": "markdown",
   "id": "656256f3",
   "metadata": {},
   "source": [
    "Then, we can check the test accuracy score of the model."
   ]
  },
  {
   "cell_type": "code",
   "execution_count": 104,
   "id": "273700f5",
   "metadata": {},
   "outputs": [
    {
     "name": "stdout",
     "output_type": "stream",
     "text": [
      "Test Accuracy 0.8962962962962963\n"
     ]
    }
   ],
   "source": [
    "print('Test Accuracy', accuracy_score(y_test_digits, test_predictions_digits))"
   ]
  },
  {
   "cell_type": "markdown",
   "id": "e71fa46c",
   "metadata": {},
   "source": [
    "And lastly, the test predictions are visualized with a confusion matrix."
   ]
  },
  {
   "cell_type": "code",
   "execution_count": 105,
   "id": "e960562f",
   "metadata": {
    "scrolled": false
   },
   "outputs": [
    {
     "data": {
      "image/png": "[encoded data removed]",
      "text/plain": [
       "<Figure size 432x288 with 2 Axes>"
      ]
     },
     "metadata": {},
     "output_type": "display_data"
    }
   ],
   "source": [
    "cm = confusion_matrix(y_test_digits, test_predictions_digits, labels=mnb.classes_)\n",
    "ConfusionMatrixDisplay(confusion_matrix=cm, display_labels=mnb.classes_).plot()\n",
    "plt.show()"
   ]
  },
  {
   "cell_type": "markdown",
   "id": "1eb8d319",
   "metadata": {},
   "source": [
    "TODO: chuchuchu"
   ]
  },
  {
   "cell_type": "markdown",
   "id": "c820dd9d",
   "metadata": {},
   "source": [
    "#### Tuning the Hyperparameters\n",
    "To further improve this model, the hyperparameters can be tuned."
   ]
  },
  {
   "cell_type": "code",
   "execution_count": 106,
   "id": "b403b06a",
   "metadata": {},
   "outputs": [],
   "source": [
    "hyperparameters = [{\n",
    "    'alpha' : [0.001, 0.01, 0.1, 1, 3, 5, 10, 15, 20, 50], \n",
    "    'fit_prior' : [False, True]\n",
    "}]"
   ]
  },
  {
   "cell_type": "markdown",
   "id": "cf56034c",
   "metadata": {},
   "source": [
    "A GridSearchCV will be used to test all combinations of `alpha` and `fit_prior` on the model."
   ]
  },
  {
   "cell_type": "code",
   "execution_count": 107,
   "id": "be94d07c",
   "metadata": {},
   "outputs": [],
   "source": [
    "mnb_tuned = GridSearchCV(MultinomialNB(), hyperparameters)"
   ]
  },
  {
   "cell_type": "markdown",
   "id": "2b97f5ce",
   "metadata": {},
   "source": [
    "This cross-validation model will then be trained."
   ]
  },
  {
   "cell_type": "code",
   "execution_count": 110,
   "id": "607e1469",
   "metadata": {
    "scrolled": true
   },
   "outputs": [
    {
     "name": "stdout",
     "output_type": "stream",
     "text": [
      "Best parameters: {'alpha': 20, 'fit_prior': False}\n",
      "Validation Accuracy 0.9045184341997091\n"
     ]
    }
   ],
   "source": [
    "mnb_tuned.fit(X_train_digits, y_train_digits)\n",
    "print('Best parameters:', mnb_tuned.best_params_)\n",
    "print('Validation Accuracy', mnb_tuned.best_score_)"
   ]
  },
  {
   "cell_type": "markdown",
   "id": "d4b07484",
   "metadata": {},
   "source": [
    "With this, we can gauge the performance of the tuned model."
   ]
  },
  {
   "cell_type": "code",
   "execution_count": 111,
   "id": "c40d9298",
   "metadata": {
    "scrolled": true
   },
   "outputs": [
    {
     "name": "stdout",
     "output_type": "stream",
     "text": [
      "Train Accuracy 0.9108989657915673\n",
      "Test Accuracy 0.8981481481481481\n"
     ]
    },
    {
     "data": {
      "image/png": "[encoded data removed]",
      "text/plain": [
       "<Figure size 432x288 with 2 Axes>"
      ]
     },
     "metadata": {},
     "output_type": "display_data"
    }
   ],
   "source": [
    "train_predictions_digits = mnb_tuned.predict(X_train_digits)\n",
    "print('Train Accuracy', accuracy_score(y_train_digits, train_predictions_digits))\n",
    "test_predictions_digits = mnb_tuned.predict(X_test_digits)\n",
    "print('Test Accuracy', accuracy_score(y_test_digits, test_predictions_digits))\n",
    "cm = confusion_matrix(y_test_digits, test_predictions_digits, labels=mnb_tuned.classes_)\n",
    "ConfusionMatrixDisplay(confusion_matrix=cm, display_labels=mnb_tuned.classes_).plot()\n",
    "plt.show()"
   ]
  },
  {
   "cell_type": "markdown",
   "id": "d7590f91",
   "metadata": {},
   "source": [
    "TODO: chuchuchu"
   ]
  },
  {
   "cell_type": "markdown",
   "id": "3f7c3b38",
   "metadata": {},
   "source": [
    "## Bernoulli Naive Bayes"
   ]
  },
  {
   "cell_type": "markdown",
   "id": "f0d50f68",
   "metadata": {},
   "source": [
    "TODO: chuchu"
   ]
  },
  {
   "cell_type": "markdown",
   "id": "5e70bdba",
   "metadata": {},
   "source": [
    "#### Generating the Dataset\n",
    "We will be generating a dataset with discrete features and binary classes. This will be done using sklearn's `make_classification` function."
   ]
  },
  {
   "cell_type": "code",
   "execution_count": 230,
   "id": "9292c578",
   "metadata": {},
   "outputs": [],
   "source": [
    "from sklearn.datasets import make_classification"
   ]
  },
  {
   "cell_type": "markdown",
   "id": "4951f0ce",
   "metadata": {},
   "source": [
    "As seen below, this generated dataset would contain 1000 instances with the 20 features.\n",
    "\n",
    "With this, the task is to determine if an instance is of class `0` or class `1`."
   ]
  },
  {
   "cell_type": "code",
   "execution_count": 249,
   "id": "d15225fe",
   "metadata": {
    "scrolled": true
   },
   "outputs": [
    {
     "data": {
      "text/html": [
       "<div>\n",
       "<style scoped>\n",
       "    .dataframe tbody tr th:only-of-type {\n",
       "        vertical-align: middle;\n",
       "    }\n",
       "\n",
       "    .dataframe tbody tr th {\n",
       "        vertical-align: top;\n",
       "    }\n",
       "\n",
       "    .dataframe thead th {\n",
       "        text-align: right;\n",
       "    }\n",
       "</style>\n",
       "<table border=\"1\" class=\"dataframe\">\n",
       "  <thead>\n",
       "    <tr style=\"text-align: right;\">\n",
       "      <th></th>\n",
       "      <th>0</th>\n",
       "      <th>1</th>\n",
       "      <th>2</th>\n",
       "      <th>3</th>\n",
       "      <th>4</th>\n",
       "      <th>5</th>\n",
       "      <th>6</th>\n",
       "      <th>7</th>\n",
       "      <th>8</th>\n",
       "      <th>9</th>\n",
       "      <th>...</th>\n",
       "      <th>11</th>\n",
       "      <th>12</th>\n",
       "      <th>13</th>\n",
       "      <th>14</th>\n",
       "      <th>15</th>\n",
       "      <th>16</th>\n",
       "      <th>17</th>\n",
       "      <th>18</th>\n",
       "      <th>19</th>\n",
       "      <th>20</th>\n",
       "    </tr>\n",
       "  </thead>\n",
       "  <tbody>\n",
       "    <tr>\n",
       "      <th>0</th>\n",
       "      <td>1.846505</td>\n",
       "      <td>-0.023321</td>\n",
       "      <td>5.947726</td>\n",
       "      <td>0.106389</td>\n",
       "      <td>-0.919395</td>\n",
       "      <td>1.335738</td>\n",
       "      <td>1.171215</td>\n",
       "      <td>-0.008739</td>\n",
       "      <td>-0.944069</td>\n",
       "      <td>-0.388608</td>\n",
       "      <td>...</td>\n",
       "      <td>-0.174402</td>\n",
       "      <td>-1.129708</td>\n",
       "      <td>-0.636207</td>\n",
       "      <td>-0.712915</td>\n",
       "      <td>-0.496050</td>\n",
       "      <td>0.641064</td>\n",
       "      <td>-5.357693</td>\n",
       "      <td>-1.244719</td>\n",
       "      <td>4.835961</td>\n",
       "      <td>1.0</td>\n",
       "    </tr>\n",
       "    <tr>\n",
       "      <th>1</th>\n",
       "      <td>0.005108</td>\n",
       "      <td>0.633238</td>\n",
       "      <td>-7.709065</td>\n",
       "      <td>0.666766</td>\n",
       "      <td>1.029027</td>\n",
       "      <td>1.496175</td>\n",
       "      <td>0.115476</td>\n",
       "      <td>-0.187327</td>\n",
       "      <td>-0.521929</td>\n",
       "      <td>-0.600468</td>\n",
       "      <td>...</td>\n",
       "      <td>0.848875</td>\n",
       "      <td>0.829910</td>\n",
       "      <td>-0.286861</td>\n",
       "      <td>-0.087054</td>\n",
       "      <td>1.455225</td>\n",
       "      <td>-1.668096</td>\n",
       "      <td>5.855202</td>\n",
       "      <td>1.266643</td>\n",
       "      <td>-6.532618</td>\n",
       "      <td>0.0</td>\n",
       "    </tr>\n",
       "    <tr>\n",
       "      <th>2</th>\n",
       "      <td>-0.000302</td>\n",
       "      <td>-1.128944</td>\n",
       "      <td>3.381707</td>\n",
       "      <td>1.298482</td>\n",
       "      <td>1.387366</td>\n",
       "      <td>0.308517</td>\n",
       "      <td>-1.006711</td>\n",
       "      <td>0.111402</td>\n",
       "      <td>0.482312</td>\n",
       "      <td>1.025864</td>\n",
       "      <td>...</td>\n",
       "      <td>-0.273321</td>\n",
       "      <td>0.556527</td>\n",
       "      <td>-0.961626</td>\n",
       "      <td>-1.269991</td>\n",
       "      <td>-6.619995</td>\n",
       "      <td>0.370692</td>\n",
       "      <td>5.451687</td>\n",
       "      <td>-0.980561</td>\n",
       "      <td>4.813817</td>\n",
       "      <td>1.0</td>\n",
       "    </tr>\n",
       "    <tr>\n",
       "      <th>3</th>\n",
       "      <td>-0.208211</td>\n",
       "      <td>-0.784519</td>\n",
       "      <td>-3.712631</td>\n",
       "      <td>-0.614977</td>\n",
       "      <td>-1.062531</td>\n",
       "      <td>0.824113</td>\n",
       "      <td>-0.616968</td>\n",
       "      <td>-0.412415</td>\n",
       "      <td>-0.860892</td>\n",
       "      <td>-0.747823</td>\n",
       "      <td>...</td>\n",
       "      <td>-0.335001</td>\n",
       "      <td>0.632688</td>\n",
       "      <td>0.868737</td>\n",
       "      <td>-0.359242</td>\n",
       "      <td>6.390912</td>\n",
       "      <td>-1.197064</td>\n",
       "      <td>-4.809432</td>\n",
       "      <td>1.447597</td>\n",
       "      <td>-4.999285</td>\n",
       "      <td>0.0</td>\n",
       "    </tr>\n",
       "    <tr>\n",
       "      <th>4</th>\n",
       "      <td>1.443565</td>\n",
       "      <td>-0.608787</td>\n",
       "      <td>-3.637705</td>\n",
       "      <td>-0.526138</td>\n",
       "      <td>-0.066589</td>\n",
       "      <td>0.475833</td>\n",
       "      <td>-0.545094</td>\n",
       "      <td>0.211435</td>\n",
       "      <td>2.372755</td>\n",
       "      <td>-0.440273</td>\n",
       "      <td>...</td>\n",
       "      <td>1.169945</td>\n",
       "      <td>-0.149709</td>\n",
       "      <td>0.410386</td>\n",
       "      <td>0.584659</td>\n",
       "      <td>6.566316</td>\n",
       "      <td>-0.463751</td>\n",
       "      <td>-5.120485</td>\n",
       "      <td>-0.310986</td>\n",
       "      <td>-4.997527</td>\n",
       "      <td>0.0</td>\n",
       "    </tr>\n",
       "    <tr>\n",
       "      <th>...</th>\n",
       "      <td>...</td>\n",
       "      <td>...</td>\n",
       "      <td>...</td>\n",
       "      <td>...</td>\n",
       "      <td>...</td>\n",
       "      <td>...</td>\n",
       "      <td>...</td>\n",
       "      <td>...</td>\n",
       "      <td>...</td>\n",
       "      <td>...</td>\n",
       "      <td>...</td>\n",
       "      <td>...</td>\n",
       "      <td>...</td>\n",
       "      <td>...</td>\n",
       "      <td>...</td>\n",
       "      <td>...</td>\n",
       "      <td>...</td>\n",
       "      <td>...</td>\n",
       "      <td>...</td>\n",
       "      <td>...</td>\n",
       "      <td>...</td>\n",
       "    </tr>\n",
       "    <tr>\n",
       "      <th>995</th>\n",
       "      <td>-0.716554</td>\n",
       "      <td>-1.908159</td>\n",
       "      <td>5.416983</td>\n",
       "      <td>0.924848</td>\n",
       "      <td>-0.840231</td>\n",
       "      <td>0.185634</td>\n",
       "      <td>-0.353211</td>\n",
       "      <td>0.014009</td>\n",
       "      <td>0.650882</td>\n",
       "      <td>-2.432511</td>\n",
       "      <td>...</td>\n",
       "      <td>0.451828</td>\n",
       "      <td>0.799506</td>\n",
       "      <td>0.724888</td>\n",
       "      <td>1.043760</td>\n",
       "      <td>0.168978</td>\n",
       "      <td>2.267649</td>\n",
       "      <td>-5.711920</td>\n",
       "      <td>-0.534103</td>\n",
       "      <td>4.202248</td>\n",
       "      <td>1.0</td>\n",
       "    </tr>\n",
       "    <tr>\n",
       "      <th>996</th>\n",
       "      <td>-0.841131</td>\n",
       "      <td>0.379229</td>\n",
       "      <td>5.450710</td>\n",
       "      <td>0.070642</td>\n",
       "      <td>0.311488</td>\n",
       "      <td>-1.275189</td>\n",
       "      <td>0.878991</td>\n",
       "      <td>-0.038427</td>\n",
       "      <td>0.162487</td>\n",
       "      <td>0.633021</td>\n",
       "      <td>...</td>\n",
       "      <td>-0.446529</td>\n",
       "      <td>0.038454</td>\n",
       "      <td>-0.512946</td>\n",
       "      <td>-0.739004</td>\n",
       "      <td>-0.327291</td>\n",
       "      <td>-0.408540</td>\n",
       "      <td>-5.080675</td>\n",
       "      <td>-1.002737</td>\n",
       "      <td>4.390386</td>\n",
       "      <td>1.0</td>\n",
       "    </tr>\n",
       "    <tr>\n",
       "      <th>997</th>\n",
       "      <td>1.388038</td>\n",
       "      <td>1.192313</td>\n",
       "      <td>-3.930264</td>\n",
       "      <td>0.352019</td>\n",
       "      <td>-0.331097</td>\n",
       "      <td>-0.326835</td>\n",
       "      <td>1.525909</td>\n",
       "      <td>0.675665</td>\n",
       "      <td>-0.007302</td>\n",
       "      <td>0.481295</td>\n",
       "      <td>...</td>\n",
       "      <td>0.372844</td>\n",
       "      <td>-0.589714</td>\n",
       "      <td>0.617289</td>\n",
       "      <td>0.083496</td>\n",
       "      <td>5.597428</td>\n",
       "      <td>0.299775</td>\n",
       "      <td>-3.525150</td>\n",
       "      <td>0.704581</td>\n",
       "      <td>-4.911893</td>\n",
       "      <td>0.0</td>\n",
       "    </tr>\n",
       "    <tr>\n",
       "      <th>998</th>\n",
       "      <td>-0.318155</td>\n",
       "      <td>1.584778</td>\n",
       "      <td>-3.618762</td>\n",
       "      <td>0.538593</td>\n",
       "      <td>0.952642</td>\n",
       "      <td>-0.537217</td>\n",
       "      <td>0.504928</td>\n",
       "      <td>-1.166782</td>\n",
       "      <td>2.160712</td>\n",
       "      <td>-0.527574</td>\n",
       "      <td>...</td>\n",
       "      <td>0.021149</td>\n",
       "      <td>0.824065</td>\n",
       "      <td>1.325293</td>\n",
       "      <td>0.917335</td>\n",
       "      <td>7.016281</td>\n",
       "      <td>-0.108255</td>\n",
       "      <td>-5.742979</td>\n",
       "      <td>0.167817</td>\n",
       "      <td>-5.129190</td>\n",
       "      <td>0.0</td>\n",
       "    </tr>\n",
       "    <tr>\n",
       "      <th>999</th>\n",
       "      <td>-0.848115</td>\n",
       "      <td>-0.434426</td>\n",
       "      <td>-3.219476</td>\n",
       "      <td>0.503875</td>\n",
       "      <td>0.157670</td>\n",
       "      <td>2.062449</td>\n",
       "      <td>-0.847910</td>\n",
       "      <td>0.814709</td>\n",
       "      <td>-1.018095</td>\n",
       "      <td>0.376611</td>\n",
       "      <td>...</td>\n",
       "      <td>-0.796253</td>\n",
       "      <td>0.953473</td>\n",
       "      <td>1.083737</td>\n",
       "      <td>1.341655</td>\n",
       "      <td>8.064258</td>\n",
       "      <td>1.661646</td>\n",
       "      <td>-7.552431</td>\n",
       "      <td>0.738682</td>\n",
       "      <td>-5.156704</td>\n",
       "      <td>0.0</td>\n",
       "    </tr>\n",
       "  </tbody>\n",
       "</table>\n",
       "<p>1000 rows × 21 columns</p>\n",
       "</div>"
      ],
      "text/plain": [
       "           0         1         2         3         4         5         6   \\\n",
       "0    1.846505 -0.023321  5.947726  0.106389 -0.919395  1.335738  1.171215   \n",
       "1    0.005108  0.633238 -7.709065  0.666766  1.029027  1.496175  0.115476   \n",
       "2   -0.000302 -1.128944  3.381707  1.298482  1.387366  0.308517 -1.006711   \n",
       "3   -0.208211 -0.784519 -3.712631 -0.614977 -1.062531  0.824113 -0.616968   \n",
       "4    1.443565 -0.608787 -3.637705 -0.526138 -0.066589  0.475833 -0.545094   \n",
       "..        ...       ...       ...       ...       ...       ...       ...   \n",
       "995 -0.716554 -1.908159  5.416983  0.924848 -0.840231  0.185634 -0.353211   \n",
       "996 -0.841131  0.379229  5.450710  0.070642  0.311488 -1.275189  0.878991   \n",
       "997  1.388038  1.192313 -3.930264  0.352019 -0.331097 -0.326835  1.525909   \n",
       "998 -0.318155  1.584778 -3.618762  0.538593  0.952642 -0.537217  0.504928   \n",
       "999 -0.848115 -0.434426 -3.219476  0.503875  0.157670  2.062449 -0.847910   \n",
       "\n",
       "           7         8         9   ...        11        12        13  \\\n",
       "0   -0.008739 -0.944069 -0.388608  ... -0.174402 -1.129708 -0.636207   \n",
       "1   -0.187327 -0.521929 -0.600468  ...  0.848875  0.829910 -0.286861   \n",
       "2    0.111402  0.482312  1.025864  ... -0.273321  0.556527 -0.961626   \n",
       "3   -0.412415 -0.860892 -0.747823  ... -0.335001  0.632688  0.868737   \n",
       "4    0.211435  2.372755 -0.440273  ...  1.169945 -0.149709  0.410386   \n",
       "..        ...       ...       ...  ...       ...       ...       ...   \n",
       "995  0.014009  0.650882 -2.432511  ...  0.451828  0.799506  0.724888   \n",
       "996 -0.038427  0.162487  0.633021  ... -0.446529  0.038454 -0.512946   \n",
       "997  0.675665 -0.007302  0.481295  ...  0.372844 -0.589714  0.617289   \n",
       "998 -1.166782  2.160712 -0.527574  ...  0.021149  0.824065  1.325293   \n",
       "999  0.814709 -1.018095  0.376611  ... -0.796253  0.953473  1.083737   \n",
       "\n",
       "           14        15        16        17        18        19   20  \n",
       "0   -0.712915 -0.496050  0.641064 -5.357693 -1.244719  4.835961  1.0  \n",
       "1   -0.087054  1.455225 -1.668096  5.855202  1.266643 -6.532618  0.0  \n",
       "2   -1.269991 -6.619995  0.370692  5.451687 -0.980561  4.813817  1.0  \n",
       "3   -0.359242  6.390912 -1.197064 -4.809432  1.447597 -4.999285  0.0  \n",
       "4    0.584659  6.566316 -0.463751 -5.120485 -0.310986 -4.997527  0.0  \n",
       "..        ...       ...       ...       ...       ...       ...  ...  \n",
       "995  1.043760  0.168978  2.267649 -5.711920 -0.534103  4.202248  1.0  \n",
       "996 -0.739004 -0.327291 -0.408540 -5.080675 -1.002737  4.390386  1.0  \n",
       "997  0.083496  5.597428  0.299775 -3.525150  0.704581 -4.911893  0.0  \n",
       "998  0.917335  7.016281 -0.108255 -5.742979  0.167817 -5.129190  0.0  \n",
       "999  1.341655  8.064258  1.661646 -7.552431  0.738682 -5.156704  0.0  \n",
       "\n",
       "[1000 rows x 21 columns]"
      ]
     },
     "execution_count": 249,
     "metadata": {},
     "output_type": "execute_result"
    }
   ],
   "source": [
    "X_clf, y_clf = make_classification(n_samples=1000, class_sep=5, random_state=8)\n",
    "pd.DataFrame(np.c_[X_clf, y_clf])"
   ]
  },
  {
   "cell_type": "markdown",
   "id": "eae2cc8a",
   "metadata": {},
   "source": [
    "As `make_classification` produces continuous values, the values for `X` will be turned into discrete values. The final `X` data is shown below:"
   ]
  },
  {
   "cell_type": "code",
   "execution_count": 232,
   "id": "dd2beaeb",
   "metadata": {
    "scrolled": false
   },
   "outputs": [
    {
     "data": {
      "text/plain": [
       "array([[ 1,  0,  5, ..., -5, -1,  4],\n",
       "       [ 0,  0, -7, ...,  5,  1, -6],\n",
       "       [ 0, -1,  3, ...,  5,  0,  4],\n",
       "       ...,\n",
       "       [ 1,  1, -3, ..., -3,  0, -4],\n",
       "       [ 0,  1, -3, ..., -5,  0, -5],\n",
       "       [ 0,  0, -3, ..., -7,  0, -5]])"
      ]
     },
     "execution_count": 232,
     "metadata": {},
     "output_type": "execute_result"
    }
   ],
   "source": [
    "X_clf = X_clf.astype(int)\n",
    "X_clf"
   ]
  },
  {
   "cell_type": "markdown",
   "id": "d8cc2319",
   "metadata": {},
   "source": [
    "As stated, the final `y` values will be comprised of only `0` and `1`."
   ]
  },
  {
   "cell_type": "code",
   "execution_count": 233,
   "id": "04ccbfdf",
   "metadata": {},
   "outputs": [
    {
     "data": {
      "text/plain": [
       "array([1, 0, 1, 0, 0, 0, 1, 0, 1, 0, 0, 0, 0, 1, 0, 1, 0, 0, 1, 0, 0, 1,\n",
       "       0, 1, 0, 1, 1, 0, 1, 0, 1, 0, 1, 1, 0, 0, 1, 0, 0, 1, 1, 1, 0, 1,\n",
       "       1, 1, 1, 1, 0, 1, 0, 0, 0, 0, 1, 1, 0, 1, 0, 0, 1, 1, 0, 1, 1, 1,\n",
       "       1, 0, 0, 1, 0, 1, 1, 1, 0, 1, 0, 1, 0, 1, 0, 0, 1, 0, 1, 0, 0, 1,\n",
       "       0, 1, 1, 0, 1, 1, 1, 0, 1, 1, 0, 1, 0, 0, 0, 0, 1, 0, 1, 0, 0, 1,\n",
       "       1, 1, 1, 1, 1, 0, 1, 1, 0, 1, 0, 1, 1, 1, 0, 0, 0, 0, 1, 1, 1, 0,\n",
       "       1, 1, 0, 1, 1, 1, 0, 0, 0, 1, 0, 1, 0, 1, 0, 1, 1, 1, 1, 1, 0, 1,\n",
       "       1, 0, 1, 1, 1, 0, 1, 0, 0, 1, 1, 1, 1, 0, 1, 0, 0, 0, 1, 1, 0, 0,\n",
       "       0, 0, 1, 1, 0, 0, 0, 1, 0, 1, 0, 0, 0, 1, 0, 1, 1, 1, 1, 0, 1, 0,\n",
       "       0, 0, 1, 1, 1, 1, 1, 0, 1, 1, 1, 0, 0, 1, 1, 1, 0, 1, 1, 0, 0, 1,\n",
       "       1, 1, 0, 0, 0, 1, 1, 1, 0, 1, 1, 0, 1, 0, 1, 1, 1, 1, 1, 1, 1, 0,\n",
       "       1, 1, 1, 0, 0, 1, 1, 1, 0, 0, 1, 1, 1, 1, 1, 1, 0, 0, 0, 0, 0, 0,\n",
       "       0, 1, 1, 0, 0, 1, 1, 1, 1, 1, 0, 0, 1, 1, 0, 1, 0, 1, 1, 0, 0, 1,\n",
       "       0, 0, 1, 0, 1, 1, 1, 1, 0, 1, 1, 1, 0, 0, 1, 0, 0, 0, 0, 0, 0, 0,\n",
       "       0, 0, 0, 0, 0, 1, 0, 1, 1, 0, 1, 1, 0, 1, 1, 0, 0, 0, 1, 1, 1, 0,\n",
       "       1, 0, 1, 1, 1, 0, 1, 1, 0, 1, 1, 0, 1, 1, 0, 0, 0, 1, 0, 0, 0, 0,\n",
       "       0, 0, 0, 1, 0, 0, 1, 1, 0, 1, 0, 0, 0, 1, 0, 0, 1, 0, 1, 0, 0, 0,\n",
       "       1, 1, 1, 0, 1, 0, 0, 1, 1, 0, 1, 0, 1, 0, 0, 0, 1, 0, 0, 1, 0, 1,\n",
       "       1, 1, 0, 1, 1, 0, 1, 0, 0, 1, 1, 1, 1, 1, 0, 1, 0, 0, 1, 1, 0, 1,\n",
       "       1, 1, 1, 0, 0, 1, 1, 1, 1, 1, 0, 0, 0, 0, 0, 1, 1, 1, 1, 0, 0, 0,\n",
       "       0, 1, 0, 1, 1, 0, 0, 0, 1, 0, 1, 0, 1, 0, 1, 1, 0, 1, 1, 0, 0, 1,\n",
       "       0, 1, 0, 0, 0, 1, 0, 0, 1, 1, 0, 0, 1, 1, 0, 0, 0, 0, 0, 1, 1, 0,\n",
       "       1, 1, 1, 0, 0, 1, 0, 0, 1, 1, 1, 1, 1, 1, 0, 1, 1, 1, 0, 1, 1, 0,\n",
       "       1, 1, 0, 0, 1, 0, 0, 0, 0, 1, 1, 1, 0, 1, 0, 0, 1, 1, 0, 0, 0, 1,\n",
       "       0, 1, 1, 0, 1, 1, 0, 0, 1, 0, 1, 1, 0, 0, 1, 1, 1, 1, 1, 1, 0, 0,\n",
       "       1, 0, 0, 0, 1, 1, 0, 1, 1, 1, 0, 1, 0, 0, 0, 1, 0, 0, 0, 1, 0, 0,\n",
       "       1, 1, 0, 1, 0, 1, 1, 0, 0, 0, 0, 0, 1, 0, 0, 1, 0, 0, 0, 1, 0, 1,\n",
       "       0, 1, 0, 1, 0, 1, 1, 1, 0, 0, 0, 1, 1, 0, 0, 0, 0, 1, 0, 0, 1, 1,\n",
       "       0, 0, 0, 1, 0, 0, 1, 1, 0, 0, 1, 1, 0, 0, 0, 1, 0, 0, 1, 0, 0, 1,\n",
       "       0, 1, 0, 0, 0, 1, 0, 0, 0, 0, 0, 1, 1, 1, 0, 0, 0, 0, 1, 0, 1, 1,\n",
       "       0, 0, 1, 1, 1, 0, 0, 1, 0, 0, 1, 0, 0, 0, 1, 0, 1, 0, 1, 0, 0, 1,\n",
       "       1, 0, 0, 0, 0, 0, 1, 0, 0, 0, 1, 1, 0, 0, 1, 1, 1, 1, 1, 0, 1, 1,\n",
       "       0, 1, 0, 1, 0, 0, 0, 0, 0, 1, 1, 1, 0, 0, 0, 1, 1, 1, 0, 1, 0, 0,\n",
       "       0, 1, 0, 1, 1, 0, 0, 0, 1, 0, 0, 1, 0, 0, 1, 0, 1, 1, 0, 1, 1, 1,\n",
       "       0, 0, 1, 0, 0, 1, 0, 0, 0, 0, 1, 1, 0, 0, 1, 0, 1, 0, 0, 0, 0, 0,\n",
       "       1, 1, 1, 0, 0, 1, 1, 1, 0, 1, 1, 0, 0, 0, 1, 0, 0, 1, 1, 1, 1, 0,\n",
       "       0, 0, 0, 1, 0, 1, 1, 1, 0, 1, 0, 1, 1, 1, 1, 0, 1, 1, 1, 1, 0, 0,\n",
       "       0, 1, 0, 0, 1, 0, 1, 0, 1, 0, 0, 1, 0, 0, 0, 1, 0, 1, 1, 1, 0, 1,\n",
       "       0, 1, 0, 0, 1, 0, 0, 0, 1, 1, 0, 1, 0, 0, 1, 1, 0, 1, 0, 1, 1, 0,\n",
       "       0, 1, 1, 0, 1, 0, 1, 0, 0, 1, 1, 1, 1, 1, 1, 1, 1, 0, 1, 0, 0, 1,\n",
       "       1, 0, 0, 1, 0, 0, 1, 1, 1, 1, 1, 0, 0, 1, 0, 1, 0, 0, 0, 0, 0, 0,\n",
       "       1, 1, 1, 0, 0, 1, 1, 0, 1, 0, 1, 0, 1, 0, 1, 0, 0, 1, 1, 1, 1, 1,\n",
       "       1, 1, 0, 1, 0, 0, 1, 0, 0, 1, 1, 1, 0, 1, 1, 0, 0, 0, 1, 1, 0, 0,\n",
       "       0, 0, 1, 0, 1, 0, 1, 1, 0, 0, 0, 0, 1, 1, 1, 1, 0, 0, 1, 1, 1, 0,\n",
       "       0, 1, 1, 1, 0, 0, 0, 1, 0, 0, 0, 1, 0, 0, 0, 1, 1, 0, 0, 0, 0, 1,\n",
       "       1, 1, 0, 1, 1, 1, 1, 0, 0, 0])"
      ]
     },
     "execution_count": 233,
     "metadata": {},
     "output_type": "execute_result"
    }
   ],
   "source": [
    "y_clf"
   ]
  },
  {
   "cell_type": "markdown",
   "id": "2d01ca80",
   "metadata": {},
   "source": [
    "Lastly, the training set is separated from the test set."
   ]
  },
  {
   "cell_type": "code",
   "execution_count": 234,
   "id": "7f9074bf",
   "metadata": {},
   "outputs": [],
   "source": [
    "X_train_clf, X_test_clf, y_train_clf, y_test_clf = train_test_split(X_clf, y_clf, stratify=y_clf, test_size=0.3, random_state=8)"
   ]
  },
  {
   "attachments": {},
   "cell_type": "markdown",
   "id": "87f6fe01",
   "metadata": {},
   "source": [
    "#### Training the Model\n",
    "To see the Bernoulli model in action, we will import sklearn's `BernoulliNB` class."
   ]
  },
  {
   "cell_type": "code",
   "execution_count": 235,
   "id": "55eb271c",
   "metadata": {},
   "outputs": [],
   "source": [
    "from sklearn.naive_bayes import BernoulliNB"
   ]
  },
  {
   "cell_type": "markdown",
   "id": "c98794da",
   "metadata": {},
   "source": [
    "First, we will initialize the `BernoulliNB` model with default parameters."
   ]
  },
  {
   "cell_type": "code",
   "execution_count": 236,
   "id": "af62affe",
   "metadata": {},
   "outputs": [],
   "source": [
    "bnb = BernoulliNB()"
   ]
  },
  {
   "cell_type": "markdown",
   "id": "5f8adb0d",
   "metadata": {},
   "source": [
    "This model will be trained on the `X_train_clf` and `y_train_clf` data as follows:"
   ]
  },
  {
   "cell_type": "code",
   "execution_count": 237,
   "id": "40de7856",
   "metadata": {
    "scrolled": true
   },
   "outputs": [
    {
     "data": {
      "text/plain": [
       "BernoulliNB()"
      ]
     },
     "execution_count": 237,
     "metadata": {},
     "output_type": "execute_result"
    }
   ],
   "source": [
    "bnb.fit(X_train_clf, y_train_clf)"
   ]
  },
  {
   "cell_type": "markdown",
   "id": "fca4b220",
   "metadata": {},
   "source": [
    "#### Checking the Performance\n",
    "The train predictions of this model will now be obtained."
   ]
  },
  {
   "cell_type": "code",
   "execution_count": 238,
   "id": "96c9e4e7",
   "metadata": {},
   "outputs": [],
   "source": [
    "train_predictions_clf = bnb.predict(X_train_clf)"
   ]
  },
  {
   "cell_type": "markdown",
   "id": "1c7f2f3c",
   "metadata": {},
   "source": [
    "Given these predictions, the model's training accuracy can be computed."
   ]
  },
  {
   "cell_type": "code",
   "execution_count": 239,
   "id": "dbb64262",
   "metadata": {},
   "outputs": [
    {
     "name": "stdout",
     "output_type": "stream",
     "text": [
      "Train Accuracy 0.9942857142857143\n"
     ]
    }
   ],
   "source": [
    "print('Train Accuracy', accuracy_score(y_train_clf, train_predictions_clf))"
   ]
  },
  {
   "cell_type": "markdown",
   "id": "fc32371d",
   "metadata": {},
   "source": [
    "A confusion matrix is also generated with the predictions for a visual representation."
   ]
  },
  {
   "cell_type": "code",
   "execution_count": 240,
   "id": "ee3ec950",
   "metadata": {
    "scrolled": false
   },
   "outputs": [
    {
     "data": {
      "image/png": "[encoded data removed]",
      "text/plain": [
       "<Figure size 432x288 with 2 Axes>"
      ]
     },
     "metadata": {},
     "output_type": "display_data"
    }
   ],
   "source": [
    "ConfusionMatrixDisplay(confusion_matrix(y_train_clf, train_predictions_clf), display_labels=bnb.classes_).plot()\n",
    "plt.show()"
   ]
  },
  {
   "cell_type": "markdown",
   "id": "3cc6f7f1",
   "metadata": {},
   "source": [
    "Now, the model will predict the labels of the test data."
   ]
  },
  {
   "cell_type": "code",
   "execution_count": 241,
   "id": "05c86091",
   "metadata": {},
   "outputs": [],
   "source": [
    "test_predictions_clf = bnb.predict(X_test_clf)"
   ]
  },
  {
   "cell_type": "markdown",
   "id": "031daf90",
   "metadata": {},
   "source": [
    "Then, we can check the test accuracy score of the model."
   ]
  },
  {
   "cell_type": "code",
   "execution_count": 242,
   "id": "9e7fe4fb",
   "metadata": {
    "scrolled": true
   },
   "outputs": [
    {
     "name": "stdout",
     "output_type": "stream",
     "text": [
      "Test Accuracy 0.99\n"
     ]
    }
   ],
   "source": [
    "print('Test Accuracy', accuracy_score(y_test_clf, test_predictions_clf))"
   ]
  },
  {
   "cell_type": "markdown",
   "id": "2b25dc09",
   "metadata": {},
   "source": [
    "And lastly, the test predictions are visualized with a confusion matrix."
   ]
  },
  {
   "cell_type": "code",
   "execution_count": 243,
   "id": "413a90c3",
   "metadata": {
    "scrolled": true
   },
   "outputs": [
    {
     "data": {
      "image/png": "[encoded data removed]",
      "text/plain": [
       "<Figure size 432x288 with 2 Axes>"
      ]
     },
     "metadata": {},
     "output_type": "display_data"
    }
   ],
   "source": [
    "ConfusionMatrixDisplay(confusion_matrix(y_test_clf, test_predictions_clf), display_labels=bnb.classes_).plot()\n",
    "plt.show()"
   ]
  },
  {
   "cell_type": "markdown",
   "id": "9068628b",
   "metadata": {},
   "source": [
    "TODO: chuchuchu"
   ]
  },
  {
   "cell_type": "markdown",
   "id": "7a028f68",
   "metadata": {},
   "source": [
    "#### Tuning the Hyperparameters\n",
    "To further improve this model, the hyperparameters can be tuned."
   ]
  },
  {
   "cell_type": "code",
   "execution_count": 244,
   "id": "f24158f0",
   "metadata": {},
   "outputs": [],
   "source": [
    "hyperparameters = [{\n",
    "    'alpha' : [0.001, 0.01, 0.1, 1, 3, 5, 10, 15, 20, 50], \n",
    "    'fit_prior' : [False, True]\n",
    "}]"
   ]
  },
  {
   "cell_type": "markdown",
   "id": "7e57c48b",
   "metadata": {},
   "source": [
    "A GridSearchCV will be used to test all combinations of `alpha` and `fit_prior` on the model."
   ]
  },
  {
   "cell_type": "code",
   "execution_count": 245,
   "id": "46bd5808",
   "metadata": {},
   "outputs": [],
   "source": [
    "bnb_tuned = GridSearchCV(BernoulliNB(), hyperparameters)"
   ]
  },
  {
   "cell_type": "markdown",
   "id": "a7e9f182",
   "metadata": {},
   "source": [
    "This cross-validation model will then be trained."
   ]
  },
  {
   "cell_type": "code",
   "execution_count": 246,
   "id": "324c8167",
   "metadata": {
    "scrolled": true
   },
   "outputs": [
    {
     "name": "stdout",
     "output_type": "stream",
     "text": [
      "Best parameters: {'alpha': 0.001, 'fit_prior': False}\n",
      "Validation Accuracy 0.9942857142857143\n"
     ]
    }
   ],
   "source": [
    "bnb_tuned.fit(X_train_clf, y_train_clf)\n",
    "print('Best parameters:', bnb_tuned.best_params_)\n",
    "print('Validation Accuracy', bnb_tuned.best_score_)"
   ]
  },
  {
   "cell_type": "markdown",
   "id": "7bfd24f9",
   "metadata": {},
   "source": [
    "With this, we can gauge the performance of the tuned model."
   ]
  },
  {
   "cell_type": "code",
   "execution_count": 247,
   "id": "6f278811",
   "metadata": {
    "scrolled": true
   },
   "outputs": [
    {
     "name": "stdout",
     "output_type": "stream",
     "text": [
      "Train Accuracy 0.9942857142857143\n",
      "Test Accuracy 0.99\n"
     ]
    },
    {
     "data": {
      "image/png": "[encoded data removed]",
      "text/plain": [
       "<Figure size 432x288 with 2 Axes>"
      ]
     },
     "metadata": {},
     "output_type": "display_data"
    }
   ],
   "source": [
    "train_predictions_clf = bnb_tuned.predict(X_train_clf)\n",
    "print('Train Accuracy', accuracy_score(y_train_clf, train_predictions_clf))\n",
    "test_predictions_clf = bnb_tuned.predict(X_test_clf)\n",
    "print('Test Accuracy', accuracy_score(y_test_clf, test_predictions_clf))\n",
    "ConfusionMatrixDisplay(confusion_matrix(y_test_clf, test_predictions_clf), display_labels=bnb_tuned.classes_).plot()\n",
    "plt.show()"
   ]
  },
  {
   "cell_type": "markdown",
   "id": "5c92a4e4",
   "metadata": {},
   "source": [
    "TODO: chuchuchu"
   ]
  }
 ],
 "metadata": {
  "kernelspec": {
   "display_name": "Python 3",
   "language": "python",
   "name": "python3"
  },
  "language_info": {
   "codemirror_mode": {
    "name": "ipython",
    "version": 3
   },
   "file_extension": ".py",
   "mimetype": "text/x-python",
   "name": "python",
   "nbconvert_exporter": "python",
   "pygments_lexer": "ipython3",
   "version": "3.8.8"
  }
 },
 "nbformat": 4,
 "nbformat_minor": 5
}
