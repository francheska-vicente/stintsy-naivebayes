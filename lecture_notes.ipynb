{
 "cells": [
  {
   "cell_type": "markdown",
   "id": "691b85e4",
   "metadata": {},
   "source": [
    "#### Import Libraries"
   ]
  },
  {
   "cell_type": "code",
   "execution_count": 7,
   "id": "d1231b4f",
   "metadata": {},
   "outputs": [],
   "source": [
    "import numpy as np\n",
    "import pandas as pd"
   ]
  },
  {
   "cell_type": "code",
   "execution_count": 33,
   "id": "8002a430",
   "metadata": {},
   "outputs": [],
   "source": [
    "import matplotlib.pyplot as plt\n",
    "import numpy as np\n",
    "%matplotlib inline\n",
    "plt.style.use('ggplot')"
   ]
  },
  {
   "cell_type": "code",
   "execution_count": 141,
   "id": "ada60aeb",
   "metadata": {},
   "outputs": [],
   "source": [
    "from sklearn.model_selection import train_test_split"
   ]
  },
  {
   "cell_type": "code",
   "execution_count": null,
   "id": "99a209cb",
   "metadata": {},
   "outputs": [],
   "source": [
    "from sklearn.metrics import confusion_matrix, ConfusionMatrixDisplay"
   ]
  },
  {
   "cell_type": "markdown",
   "id": "4ab30915",
   "metadata": {},
   "source": [
    "### Load Data"
   ]
  },
  {
   "cell_type": "markdown",
   "id": "f0d50f68",
   "metadata": {},
   "source": [
    "#### Binary Classification"
   ]
  },
  {
   "cell_type": "code",
   "execution_count": 144,
   "id": "d1197224",
   "metadata": {},
   "outputs": [],
   "source": [
    "from sklearn.datasets import load_iris"
   ]
  },
  {
   "cell_type": "code",
   "execution_count": 145,
   "id": "df9d28d1",
   "metadata": {},
   "outputs": [],
   "source": [
    "X_iris, y_iris = load_iris(return_X_y=True)"
   ]
  },
  {
   "cell_type": "code",
   "execution_count": 155,
   "id": "e4c52cea",
   "metadata": {},
   "outputs": [],
   "source": [
    "X_train_iris, X_test_iris, y_train_iris, y_test_iris = train_test_split(X_iris, y_iris, stratify=y_iris, test_size=0.3, random_state=8)"
   ]
  },
  {
   "cell_type": "markdown",
   "id": "ccabba80",
   "metadata": {},
   "source": [
    "#### Multi-Class Classification"
   ]
  },
  {
   "cell_type": "code",
   "execution_count": 198,
   "id": "9292c578",
   "metadata": {},
   "outputs": [],
   "source": [
    "from sklearn.datasets import load_breast_cancer"
   ]
  },
  {
   "cell_type": "code",
   "execution_count": 207,
   "id": "d15225fe",
   "metadata": {},
   "outputs": [],
   "source": [
    "X_bc, y_bc = load_breast_cancer(return_X_y=True)"
   ]
  },
  {
   "cell_type": "code",
   "execution_count": 208,
   "id": "7f9074bf",
   "metadata": {},
   "outputs": [],
   "source": [
    "X_train_bc, X_test_bc, y_train_bc, y_test_bc = train_test_split(X_bc, y_bc, stratify=y_bc, test_size=0.3, random_state=8)"
   ]
  },
  {
   "cell_type": "markdown",
   "id": "e3e9633f",
   "metadata": {},
   "source": [
    "### Gaussian Naive Bayes"
   ]
  },
  {
   "cell_type": "code",
   "execution_count": 177,
   "id": "f6357124",
   "metadata": {},
   "outputs": [],
   "source": [
    "from sklearn.naive_bayes import GaussianNB"
   ]
  },
  {
   "cell_type": "code",
   "execution_count": 187,
   "id": "a6bf9ad2",
   "metadata": {},
   "outputs": [],
   "source": [
    "gnb = GaussianNB()"
   ]
  },
  {
   "cell_type": "markdown",
   "id": "176f402c",
   "metadata": {},
   "source": [
    "#### Binary Classification"
   ]
  },
  {
   "cell_type": "code",
   "execution_count": null,
   "id": "9f8fb819",
   "metadata": {},
   "outputs": [],
   "source": [
    "gnb.fit(X_train_bc, y_train_bc)"
   ]
  },
  {
   "cell_type": "code",
   "execution_count": 210,
   "id": "78156ebe",
   "metadata": {
    "scrolled": true
   },
   "outputs": [
    {
     "name": "stdout",
     "output_type": "stream",
     "text": [
      "Train Accuracy 0.9422110552763819\n"
     ]
    },
    {
     "data": {
      "image/png": "[encoded data removed]",
      "text/plain": [
       "<Figure size 432x288 with 2 Axes>"
      ]
     },
     "metadata": {},
     "output_type": "display_data"
    }
   ],
   "source": [
    "train_predictions_bc = gnb.predict(X_train_bc)\n",
    "print('Train Accuracy', accuracy_score(y_train_bc, train_predictions_bc))\n",
    "cm = confusion_matrix(y_train_bc, train_predictions_bc, labels=gnb.classes_)\n",
    "ConfusionMatrixDisplay(confusion_matrix=cm, display_labels=gnb.classes_).plot()\n",
    "plt.show()"
   ]
  },
  {
   "cell_type": "code",
   "execution_count": 212,
   "id": "850686d2",
   "metadata": {
    "scrolled": true
   },
   "outputs": [
    {
     "name": "stdout",
     "output_type": "stream",
     "text": [
      "Test Accuracy 0.935672514619883\n"
     ]
    },
    {
     "data": {
      "image/png": "[encoded data removed]",
      "text/plain": [
       "<Figure size 432x288 with 2 Axes>"
      ]
     },
     "metadata": {},
     "output_type": "display_data"
    }
   ],
   "source": [
    "test_predictions_bc = gnb.predict(X_test_bc)\n",
    "print('Test Accuracy', accuracy_score(y_test_bc, test_predictions_bc))\n",
    "cm = confusion_matrix(y_test_bc, test_predictions_bc, labels=gnb.classes_)\n",
    "ConfusionMatrixDisplay(confusion_matrix=cm, display_labels=gnb.classes_).plot()\n",
    "plt.show()"
   ]
  },
  {
   "cell_type": "markdown",
   "id": "1af4397d",
   "metadata": {},
   "source": [
    "#### Multi-Class Classification"
   ]
  },
  {
   "cell_type": "code",
   "execution_count": null,
   "id": "2bebae99",
   "metadata": {},
   "outputs": [],
   "source": [
    "gnb.fit(X_train_iris, y_train_iris)"
   ]
  },
  {
   "cell_type": "code",
   "execution_count": 188,
   "id": "9bab685c",
   "metadata": {
    "scrolled": true
   },
   "outputs": [
    {
     "name": "stdout",
     "output_type": "stream",
     "text": [
      "Train Accuracy 0.9904761904761905\n"
     ]
    },
    {
     "data": {
      "image/png": "[encoded data removed]",
      "text/plain": [
       "<Figure size 432x288 with 2 Axes>"
      ]
     },
     "metadata": {},
     "output_type": "display_data"
    }
   ],
   "source": [
    "train_predictions_iris = gnb.predict(X_train_iris)\n",
    "print('Train Accuracy', accuracy_score(y_train_iris, train_predictions_iris))\n",
    "cm = confusion_matrix(y_train_iris, train_predictions_iris, labels=gnb.classes_)\n",
    "ConfusionMatrixDisplay(confusion_matrix=cm, display_labels=gnb.classes_).plot()\n",
    "plt.show()"
   ]
  },
  {
   "cell_type": "code",
   "execution_count": 189,
   "id": "de334d4b",
   "metadata": {
    "scrolled": true
   },
   "outputs": [
    {
     "name": "stdout",
     "output_type": "stream",
     "text": [
      "Test Accuracy 0.8666666666666667\n"
     ]
    },
    {
     "data": {
      "image/png": "[encoded data removed]",
      "text/plain": [
       "<Figure size 432x288 with 2 Axes>"
      ]
     },
     "metadata": {},
     "output_type": "display_data"
    }
   ],
   "source": [
    "test_predictions_iris = gnb.predict(X_test_iris)\n",
    "print('Test Accuracy', accuracy_score(y_test_iris, test_predictions_iris))\n",
    "cm = confusion_matrix(y_test_iris, test_predictions_iris, labels=gnb.classes_)\n",
    "ConfusionMatrixDisplay(confusion_matrix=cm, display_labels=gnb.classes_).plot()\n",
    "plt.show()"
   ]
  },
  {
   "cell_type": "markdown",
   "id": "561bc7ab",
   "metadata": {},
   "source": [
    "### Multinomial Naive Bayes"
   ]
  },
  {
   "cell_type": "code",
   "execution_count": 213,
   "id": "5bb1ca5c",
   "metadata": {},
   "outputs": [],
   "source": [
    "from sklearn.naive_bayes import MultinomialNB"
   ]
  },
  {
   "cell_type": "code",
   "execution_count": 215,
   "id": "f7ceea56",
   "metadata": {},
   "outputs": [],
   "source": [
    "mnb = MultinomialNB()"
   ]
  },
  {
   "cell_type": "markdown",
   "id": "f0cfa9c0",
   "metadata": {},
   "source": [
    "#### Binary Classification"
   ]
  },
  {
   "cell_type": "code",
   "execution_count": 216,
   "id": "b32e4ec5",
   "metadata": {},
   "outputs": [
    {
     "data": {
      "text/plain": [
       "MultinomialNB()"
      ]
     },
     "execution_count": 216,
     "metadata": {},
     "output_type": "execute_result"
    }
   ],
   "source": [
    "mnb.fit(X_train_bc, y_train_bc)"
   ]
  },
  {
   "cell_type": "code",
   "execution_count": 217,
   "id": "b6ab9fc3",
   "metadata": {
    "scrolled": true
   },
   "outputs": [
    {
     "name": "stdout",
     "output_type": "stream",
     "text": [
      "Train Accuracy 0.8994974874371859\n"
     ]
    },
    {
     "data": {
      "image/png": "[encoded data removed]",
      "text/plain": [
       "<Figure size 432x288 with 2 Axes>"
      ]
     },
     "metadata": {},
     "output_type": "display_data"
    }
   ],
   "source": [
    "train_predictions_bc = mnb.predict(X_train_bc)\n",
    "print('Train Accuracy', accuracy_score(y_train_bc, train_predictions_bc))\n",
    "cm = confusion_matrix(y_train_bc, train_predictions_bc, labels=mnb.classes_)\n",
    "ConfusionMatrixDisplay(confusion_matrix=cm, display_labels=mnb.classes_).plot()\n",
    "plt.show()"
   ]
  },
  {
   "cell_type": "code",
   "execution_count": 218,
   "id": "e960562f",
   "metadata": {
    "scrolled": true
   },
   "outputs": [
    {
     "name": "stdout",
     "output_type": "stream",
     "text": [
      "Test Accuracy 0.8888888888888888\n"
     ]
    },
    {
     "data": {
      "image/png": "[encoded data removed]",
      "text/plain": [
       "<Figure size 432x288 with 2 Axes>"
      ]
     },
     "metadata": {},
     "output_type": "display_data"
    }
   ],
   "source": [
    "test_predictions_bc = mnb.predict(X_test_bc)\n",
    "print('Test Accuracy', accuracy_score(y_test_bc, test_predictions_bc))\n",
    "cm = confusion_matrix(y_test_bc, test_predictions_bc, labels=mnb.classes_)\n",
    "ConfusionMatrixDisplay(confusion_matrix=cm, display_labels=mnb.classes_).plot()\n",
    "plt.show()"
   ]
  },
  {
   "cell_type": "markdown",
   "id": "520ef2cf",
   "metadata": {},
   "source": [
    "#### Multi-Class Classification"
   ]
  },
  {
   "cell_type": "code",
   "execution_count": 219,
   "id": "5dabbdd7",
   "metadata": {},
   "outputs": [
    {
     "data": {
      "text/plain": [
       "MultinomialNB()"
      ]
     },
     "execution_count": 219,
     "metadata": {},
     "output_type": "execute_result"
    }
   ],
   "source": [
    "mnb.fit(X_train_iris, y_train_iris)"
   ]
  },
  {
   "cell_type": "code",
   "execution_count": 220,
   "id": "c80b0fe9",
   "metadata": {
    "scrolled": true
   },
   "outputs": [
    {
     "name": "stdout",
     "output_type": "stream",
     "text": [
      "Train Accuracy 0.9619047619047619\n"
     ]
    },
    {
     "data": {
      "image/png": "[encoded data removed]",
      "text/plain": [
       "<Figure size 432x288 with 2 Axes>"
      ]
     },
     "metadata": {},
     "output_type": "display_data"
    }
   ],
   "source": [
    "train_predictions_iris = mnb.predict(X_train_iris)\n",
    "print('Train Accuracy', accuracy_score(y_train_iris, train_predictions_iris))\n",
    "cm = confusion_matrix(y_train_iris, train_predictions_iris, labels=mnb.classes_)\n",
    "ConfusionMatrixDisplay(confusion_matrix=cm, display_labels=mnb.classes_).plot()\n",
    "plt.show()"
   ]
  },
  {
   "cell_type": "code",
   "execution_count": 221,
   "id": "75c0891b",
   "metadata": {
    "scrolled": false
   },
   "outputs": [
    {
     "name": "stdout",
     "output_type": "stream",
     "text": [
      "Test Accuracy 0.9333333333333333\n"
     ]
    },
    {
     "data": {
      "image/png": "[encoded data removed]",
      "text/plain": [
       "<Figure size 432x288 with 2 Axes>"
      ]
     },
     "metadata": {},
     "output_type": "display_data"
    }
   ],
   "source": [
    "test_predictions_iris = mnb.predict(X_test_iris)\n",
    "print('Test Accuracy', accuracy_score(y_test_iris, test_predictions_iris))\n",
    "cm = confusion_matrix(y_test_iris, test_predictions_iris, labels=mnb.classes_)\n",
    "ConfusionMatrixDisplay(confusion_matrix=cm, display_labels=mnb.classes_).plot()\n",
    "plt.show()"
   ]
  },
  {
   "cell_type": "markdown",
   "id": "3f7c3b38",
   "metadata": {},
   "source": [
    "### Bernoulli Naive Bayes"
   ]
  },
  {
   "cell_type": "code",
   "execution_count": 222,
   "id": "55eb271c",
   "metadata": {},
   "outputs": [],
   "source": [
    "from sklearn.naive_bayes import BernoulliNB"
   ]
  },
  {
   "cell_type": "code",
   "execution_count": 223,
   "id": "af62affe",
   "metadata": {},
   "outputs": [],
   "source": [
    "bnb = BernoulliNB()"
   ]
  },
  {
   "cell_type": "markdown",
   "id": "687f3eb4",
   "metadata": {},
   "source": [
    "#### Binary Classification"
   ]
  },
  {
   "cell_type": "code",
   "execution_count": 225,
   "id": "40de7856",
   "metadata": {},
   "outputs": [
    {
     "data": {
      "text/plain": [
       "BernoulliNB()"
      ]
     },
     "execution_count": 225,
     "metadata": {},
     "output_type": "execute_result"
    }
   ],
   "source": [
    "bnb.fit(X_train_bc, y_train_bc)"
   ]
  },
  {
   "cell_type": "code",
   "execution_count": 226,
   "id": "ee3ec950",
   "metadata": {
    "scrolled": true
   },
   "outputs": [
    {
     "name": "stdout",
     "output_type": "stream",
     "text": [
      "Train Accuracy 0.628140703517588\n"
     ]
    },
    {
     "data": {
      "image/png": "[encoded data removed]",
      "text/plain": [
       "<Figure size 432x288 with 2 Axes>"
      ]
     },
     "metadata": {},
     "output_type": "display_data"
    }
   ],
   "source": [
    "train_predictions_bc = bnb.predict(X_train_bc)\n",
    "print('Train Accuracy', accuracy_score(y_train_bc, train_predictions_bc))\n",
    "cm = confusion_matrix(y_train_bc, train_predictions_bc, labels=bnb.classes_)\n",
    "ConfusionMatrixDisplay(confusion_matrix=cm, display_labels=bnb.classes_).plot()\n",
    "plt.show()"
   ]
  },
  {
   "cell_type": "code",
   "execution_count": 227,
   "id": "413a90c3",
   "metadata": {
    "scrolled": true
   },
   "outputs": [
    {
     "name": "stdout",
     "output_type": "stream",
     "text": [
      "Test Accuracy 0.6257309941520468\n"
     ]
    },
    {
     "data": {
      "image/png": "[encoded data removed]",
      "text/plain": [
       "<Figure size 432x288 with 2 Axes>"
      ]
     },
     "metadata": {},
     "output_type": "display_data"
    }
   ],
   "source": [
    "test_predictions_bc = bnb.predict(X_test_bc)\n",
    "print('Test Accuracy', accuracy_score(y_test_bc, test_predictions_bc))\n",
    "cm = confusion_matrix(y_test_bc, test_predictions_bc, labels=bnb.classes_)\n",
    "ConfusionMatrixDisplay(confusion_matrix=cm, display_labels=bnb.classes_).plot()\n",
    "plt.show()"
   ]
  },
  {
   "cell_type": "markdown",
   "id": "27283fe3",
   "metadata": {},
   "source": [
    "#### Multi-Class Classification"
   ]
  },
  {
   "cell_type": "code",
   "execution_count": 228,
   "id": "4a6ed48a",
   "metadata": {},
   "outputs": [
    {
     "data": {
      "text/plain": [
       "BernoulliNB()"
      ]
     },
     "execution_count": 228,
     "metadata": {},
     "output_type": "execute_result"
    }
   ],
   "source": [
    "bnb.fit(X_train_iris, y_train_iris)"
   ]
  },
  {
   "cell_type": "code",
   "execution_count": 229,
   "id": "eb18e7c9",
   "metadata": {
    "scrolled": true
   },
   "outputs": [
    {
     "name": "stdout",
     "output_type": "stream",
     "text": [
      "Train Accuracy 0.3333333333333333\n"
     ]
    },
    {
     "data": {
      "image/png": "[encoded data removed]",
      "text/plain": [
       "<Figure size 432x288 with 2 Axes>"
      ]
     },
     "metadata": {},
     "output_type": "display_data"
    }
   ],
   "source": [
    "train_predictions_iris = bnb.predict(X_train_iris)\n",
    "print('Train Accuracy', accuracy_score(y_train_iris, train_predictions_iris))\n",
    "cm = confusion_matrix(y_train_iris, train_predictions_iris, labels=bnb.classes_)\n",
    "ConfusionMatrixDisplay(confusion_matrix=cm, display_labels=bnb.classes_).plot()\n",
    "plt.show()"
   ]
  },
  {
   "cell_type": "code",
   "execution_count": 230,
   "id": "1d84825a",
   "metadata": {
    "scrolled": true
   },
   "outputs": [
    {
     "name": "stdout",
     "output_type": "stream",
     "text": [
      "Test Accuracy 0.3333333333333333\n"
     ]
    },
    {
     "data": {
      "image/png": "[encoded data removed]",
      "text/plain": [
       "<Figure size 432x288 with 2 Axes>"
      ]
     },
     "metadata": {},
     "output_type": "display_data"
    }
   ],
   "source": [
    "test_predictions_iris = bnb.predict(X_test_iris)\n",
    "print('Test Accuracy', accuracy_score(y_test_iris, test_predictions_iris))\n",
    "cm = confusion_matrix(y_test_iris, test_predictions_iris, labels=bnb.classes_)\n",
    "ConfusionMatrixDisplay(confusion_matrix=cm, display_labels=bnb.classes_).plot()\n",
    "plt.show()"
   ]
  },
  {
   "cell_type": "markdown",
   "id": "cfae1197",
   "metadata": {},
   "source": [
    "## Hyperparameter Tuning"
   ]
  },
  {
   "cell_type": "code",
   "execution_count": 231,
   "id": "5b7d3530",
   "metadata": {},
   "outputs": [],
   "source": [
    "hyperparameters = [{\n",
    "    'alpha' : [1, 3, 5, 10, 15, 20, 50], \n",
    "    'fit_prior' : [False, True]\n",
    "}]"
   ]
  },
  {
   "cell_type": "code",
   "execution_count": 233,
   "id": "1ea063cf",
   "metadata": {},
   "outputs": [],
   "source": [
    "from sklearn.model_selection import GridSearchCV"
   ]
  },
  {
   "cell_type": "markdown",
   "id": "74445035",
   "metadata": {},
   "source": [
    "### Multinomial Naive Bayes"
   ]
  },
  {
   "cell_type": "code",
   "execution_count": 239,
   "id": "a4f3d2a3",
   "metadata": {},
   "outputs": [],
   "source": [
    "mnb_tuned = GridSearchCV(MultinomialNB(), hyperparameters)"
   ]
  },
  {
   "cell_type": "markdown",
   "id": "fb1c467c",
   "metadata": {},
   "source": [
    "#### Binary Classification"
   ]
  },
  {
   "cell_type": "code",
   "execution_count": 245,
   "id": "dab38ade",
   "metadata": {},
   "outputs": [
    {
     "data": {
      "text/plain": [
       "GridSearchCV(estimator=MultinomialNB(),\n",
       "             param_grid=[{'alpha': [1, 3, 5, 10, 15, 20, 50],\n",
       "                          'fit_prior': [False, True]}])"
      ]
     },
     "execution_count": 245,
     "metadata": {},
     "output_type": "execute_result"
    }
   ],
   "source": [
    "mnb_tuned.fit(X_train_bc, y_train_bc)"
   ]
  },
  {
   "cell_type": "code",
   "execution_count": 246,
   "id": "edae754c",
   "metadata": {
    "scrolled": true
   },
   "outputs": [
    {
     "name": "stdout",
     "output_type": "stream",
     "text": [
      "Train Accuracy 0.8994974874371859\n",
      "Test Accuracy 0.8888888888888888\n"
     ]
    },
    {
     "data": {
      "image/png": "[encoded data removed]",
      "text/plain": [
       "<Figure size 432x288 with 2 Axes>"
      ]
     },
     "metadata": {},
     "output_type": "display_data"
    }
   ],
   "source": [
    "train_predictions_bc = mnb_tuned.predict(X_train_bc)\n",
    "print('Train Accuracy', accuracy_score(y_train_bc, train_predictions_bc))\n",
    "test_predictions_bc = mnb_tuned.predict(X_test_bc)\n",
    "print('Test Accuracy', accuracy_score(y_test_bc, test_predictions_bc))\n",
    "cm = confusion_matrix(y_test_bc, test_predictions_bc, labels=mnb_tuned.classes_)\n",
    "ConfusionMatrixDisplay(confusion_matrix=cm, display_labels=mnb_tuned.classes_).plot()\n",
    "plt.show()"
   ]
  },
  {
   "cell_type": "markdown",
   "id": "d53422ba",
   "metadata": {},
   "source": [
    "#### Multi-Class Classification"
   ]
  },
  {
   "cell_type": "code",
   "execution_count": 251,
   "id": "2ad2de21",
   "metadata": {},
   "outputs": [
    {
     "data": {
      "text/plain": [
       "GridSearchCV(estimator=MultinomialNB(),\n",
       "             param_grid=[{'alpha': [1, 3, 5, 10, 15, 20, 50],\n",
       "                          'fit_prior': [False, True]}])"
      ]
     },
     "execution_count": 251,
     "metadata": {},
     "output_type": "execute_result"
    }
   ],
   "source": [
    "mnb_tuned.fit(X_train_iris, y_train_iris)"
   ]
  },
  {
   "cell_type": "code",
   "execution_count": 252,
   "id": "cd2f967f",
   "metadata": {
    "scrolled": true
   },
   "outputs": [
    {
     "name": "stdout",
     "output_type": "stream",
     "text": [
      "Train Accuracy 0.9619047619047619\n",
      "Test Accuracy 0.9333333333333333\n"
     ]
    },
    {
     "data": {
      "image/png": "[encoded data removed]",
      "text/plain": [
       "<Figure size 432x288 with 2 Axes>"
      ]
     },
     "metadata": {},
     "output_type": "display_data"
    }
   ],
   "source": [
    "train_predictions_iris = mnb_tuned.predict(X_train_iris)\n",
    "print('Train Accuracy', accuracy_score(y_train_iris, train_predictions_iris))\n",
    "test_predictions_iris = mnb_tuned.predict(X_test_iris)\n",
    "print('Test Accuracy', accuracy_score(y_test_iris, test_predictions_iris))\n",
    "cm = confusion_matrix(y_test_bc, test_predictions_bc, labels=mnb_tuned.classes_)\n",
    "ConfusionMatrixDisplay(confusion_matrix=cm, display_labels=mnb_tuned.classes_).plot()\n",
    "plt.show()"
   ]
  },
  {
   "cell_type": "markdown",
   "id": "0a0c24ff",
   "metadata": {},
   "source": [
    "### Bernoulli Naive Bayes"
   ]
  },
  {
   "cell_type": "code",
   "execution_count": null,
   "id": "fd0ed7b2",
   "metadata": {},
   "outputs": [],
   "source": [
    "bnb_tuned = GridSearchCV(BernoulliNB(), hyperparameters)"
   ]
  },
  {
   "cell_type": "markdown",
   "id": "24f00a25",
   "metadata": {},
   "source": [
    "#### Binary Classification"
   ]
  },
  {
   "cell_type": "code",
   "execution_count": 248,
   "id": "71f14097",
   "metadata": {
    "scrolled": true
   },
   "outputs": [
    {
     "data": {
      "text/plain": [
       "GridSearchCV(estimator=BernoulliNB(),\n",
       "             param_grid=[{'alpha': [1, 3, 5, 10, 15, 20, 50],\n",
       "                          'fit_prior': [False, True]}])"
      ]
     },
     "execution_count": 248,
     "metadata": {},
     "output_type": "execute_result"
    }
   ],
   "source": [
    "bnb_tuned.fit(X_train_bc, y_train_bc)"
   ]
  },
  {
   "cell_type": "code",
   "execution_count": 249,
   "id": "8eecc68b",
   "metadata": {
    "scrolled": false
   },
   "outputs": [
    {
     "name": "stdout",
     "output_type": "stream",
     "text": [
      "Train Accuracy 0.628140703517588\n",
      "Test Accuracy 0.6257309941520468\n"
     ]
    },
    {
     "data": {
      "image/png": "[encoded data removed]",
      "text/plain": [
       "<Figure size 432x288 with 2 Axes>"
      ]
     },
     "metadata": {},
     "output_type": "display_data"
    }
   ],
   "source": [
    "train_predictions_bc = bnb_tuned.predict(X_train_bc)\n",
    "print('Train Accuracy', accuracy_score(y_train_bc, train_predictions_bc))\n",
    "test_predictions_bc = bnb_tuned.predict(X_test_bc)\n",
    "print('Test Accuracy', accuracy_score(y_test_bc, test_predictions_bc))\n",
    "cm = confusion_matrix(y_test_bc, test_predictions_bc, labels=bnb_tuned.classes_)\n",
    "ConfusionMatrixDisplay(confusion_matrix=cm, display_labels=bnb_tuned.classes_).plot()\n",
    "plt.show()"
   ]
  },
  {
   "cell_type": "markdown",
   "id": "4fcf9aab",
   "metadata": {},
   "source": [
    "#### Multi-Class Classification"
   ]
  },
  {
   "cell_type": "code",
   "execution_count": 254,
   "id": "55f7e5c3",
   "metadata": {
    "scrolled": true
   },
   "outputs": [
    {
     "data": {
      "text/plain": [
       "GridSearchCV(estimator=BernoulliNB(),\n",
       "             param_grid=[{'alpha': [1, 3, 5, 10, 15, 20, 50],\n",
       "                          'fit_prior': [False, True]}])"
      ]
     },
     "execution_count": 254,
     "metadata": {},
     "output_type": "execute_result"
    }
   ],
   "source": [
    "bnb_tuned.fit(X_train_iris, y_train_iris)"
   ]
  },
  {
   "cell_type": "code",
   "execution_count": 255,
   "id": "f709826d",
   "metadata": {},
   "outputs": [
    {
     "name": "stdout",
     "output_type": "stream",
     "text": [
      "Train Accuracy 0.3333333333333333\n",
      "Test Accuracy 0.3333333333333333\n"
     ]
    },
    {
     "data": {
      "image/png": "[encoded data removed]",
      "text/plain": [
       "<Figure size 432x288 with 2 Axes>"
      ]
     },
     "metadata": {},
     "output_type": "display_data"
    }
   ],
   "source": [
    "train_predictions_iris = bnb_tuned.predict(X_train_iris)\n",
    "print('Train Accuracy', accuracy_score(y_train_iris, train_predictions_iris))\n",
    "test_predictions_iris = bnb_tuned.predict(X_test_iris)\n",
    "print('Test Accuracy', accuracy_score(y_test_iris, test_predictions_iris))\n",
    "cm = confusion_matrix(y_test_bc, test_predictions_bc, labels=bnb_tuned.classes_)\n",
    "ConfusionMatrixDisplay(confusion_matrix=cm, display_labels=bnb_tuned.classes_).plot()\n",
    "plt.show()"
   ]
  }
 ],
 "metadata": {
  "kernelspec": {
   "display_name": "Python 3",
   "language": "python",
   "name": "python3"
  },
  "language_info": {
   "codemirror_mode": {
    "name": "ipython",
    "version": 3
   },
   "file_extension": ".py",
   "mimetype": "text/x-python",
   "name": "python",
   "nbconvert_exporter": "python",
   "pygments_lexer": "ipython3",
   "version": "3.8.8"
  }
 },
 "nbformat": 4,
 "nbformat_minor": 5
}
